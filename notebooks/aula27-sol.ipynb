{
 "cells": [
  {
   "cell_type": "markdown",
   "id": "79470f58-522a-42cc-857d-3a7e4674c3f7",
   "metadata": {
    "deletable": false,
    "editable": false,
    "tags": []
   },
   "source": [
    "<span style=\"color:darkblue\"> ⚠️ <b>IMPORTANTE</b></span>: <b>CORRE A CAIXA DE CÓDIGO SEGUINTE</b> antes de começares as tuas experiências!\n",
    "<br><span style=\"color:gray\">(Para isso, clica na caixa e depois carrega no botão ![image.png](./assets/play.PNG) que está na barra acima).</span>"
   ]
  },
  {
   "cell_type": "code",
   "execution_count": null,
   "id": "f6e5fed9-6668-4155-a1d6-b367c0b542df",
   "metadata": {
    "deletable": false,
    "editable": false,
    "tags": []
   },
   "outputs": [],
   "source": [
    ":opt no-lint\n",
    ":l scripts/ensico.hs\n",
    "putStrLn (['F']++['e','i','t']++\"o!\")"
   ]
  },
  {
   "cell_type": "markdown",
   "id": "6f6bfade-26b6-4b19-81e3-ef1e6bce2c09",
   "metadata": {
    "deletable": false,
    "editable": false,
    "tags": []
   },
   "source": [
    "---\n",
    "\n",
    "# Soluções dos exercícios do Trabalho de Grupo 5 (2022/23)\n",
    "> **Computação - Ano 1 - Aula 27** (Aula Prática)<br>\n",
    "> © 2020-2024 ENSICO. Todos os direitos reservados"
   ]
  },
  {
   "cell_type": "markdown",
   "id": "3d549627-e44d-4f46-90c3-6e09c5864226",
   "metadata": {
    "deletable": false,
    "editable": false,
    "jp-MarkdownHeadingCollapsed": true,
    "tags": []
   },
   "source": [
    "## Pergunta 2\n",
    "O que é que o Jupyter faz com a seguinte instrução?\n",
    "\n",
    "<code>[381,227,331,528,134,454,432,129,273,123,519,352,313,48,386,438,68,117, 257,191,462,179,12,455,49,27,552,568,327,220,296,240,15,306,283,157, 537,73,281,262,432,271,392,71,212,482,431,73,387,532,378,99,387, 582,470,247,560,107,53,299,554,90,466,70,363,187,245,282,10,315, 478,294,296,554,447,84,551,315,493,441,514,488,79,1,250,150,467, 526,199,394,4,575,118,307,550,47,294,23,469,538] <b>|> map (+100)</b></code>\n",
    "\n",
    "⬜ Multiplica cada número da lista por 100.\n",
    "<br>⬜ Soma 100 a cada número da lista.\n",
    "<br>⬜ Dá erro.\n",
    "<br>⬜ Acrescenta o número 100 à lista.\n",
    "\n",
    "**Solução:**"
   ]
  },
  {
   "cell_type": "code",
   "execution_count": 2,
   "id": "c47771ea-3112-4bd2-b1ed-bb1fc46059f2",
   "metadata": {
    "deletable": false,
    "editable": false,
    "tags": []
   },
   "outputs": [
    {
     "data": {
      "text/plain": [
       "[481,327,431,628,234,554,532,229,373,223,619,452,413,148,486,538,168,217,357,291,562,279,112,555,149,127,652,668,427,320,396,340,115,406,383,257,637,173,381,362,532,371,492,171,312,582,531,173,487,632,478,199,487,682,570,347,660,207,153,399,654,190,566,170,463,287,345,382,110,415,578,394,396,654,547,184,651,415,593,541,614,588,179,101,350,250,567,626,299,494,104,675,218,407,650,147,394,123,569,638]"
      ]
     },
     "metadata": {},
     "output_type": "display_data"
    }
   ],
   "source": [
    "[381,227,331,528,134,454,432,129,273,123,519,352,313,48,386,438,68,117, 257,191,462,179,12,455,49,27,552,568,327,220,296,240,15,306,283,157, 537,73,281,262,432,271,392,71,212,482,431,73,387,532,378,99,387, 582,470,247,560,107,53,299,554,90,466,70,363,187,245,282,10,315, 478,294,296,554,447,84,551,315,493,441,514,488,79,1,250,150,467, 526,199,394,4,575,118,307,550,47,294,23,469,538] |> map (+100)"
   ]
  },
  {
   "cell_type": "markdown",
   "id": "8f5193fb-8786-463a-98b0-7adb2dd38ddd",
   "metadata": {
    "deletable": false,
    "editable": false,
    "tags": []
   },
   "source": [
    "Então a resposta certa é:\n",
    "<br>⬜ Multiplica cada número da lista por 100.\n",
    "<br>✅ **Soma 100 a cada número da lista.**\n",
    "<br>⬜ Dá erro.\n",
    "<br>⬜ Acrescenta o número 100 à lista."
   ]
  },
  {
   "cell_type": "markdown",
   "id": "e6b0c9c1-e511-4025-9e57-8961fe9a4d9a",
   "metadata": {
    "deletable": false,
    "editable": false,
    "jp-MarkdownHeadingCollapsed": true,
    "tags": []
   },
   "source": [
    "## Pergunta 3\n",
    "Usa o Jupyter para <u>multiplicar cada número</u> da lista que se segue <u>por 100</u>.\n",
    "\n",
    "`[381,227,331,528,134,454,432,129,273,123,519,352,313,48,386,438,68,117, 257,191,462,179,12,455,49,27,552,568,327,220,296,240,15,306,283,157, 537,73,281,262,432,271,392,71,212,482,431,73,387,532,378,99,387, 582,470,247,560,107,53,299,554,90,466,70,363,187,245,282,10,315, 478,294,296,554,447,84,551,315,493,441,514,488,79,1,250,150,467, 526,199,394,4,575,118,307,550,47,294,23,469,538]`\n",
    "\n",
    "**Solução:**"
   ]
  },
  {
   "cell_type": "code",
   "execution_count": 3,
   "id": "f613330e-4dec-483e-b5a1-c6c1b0c6d348",
   "metadata": {
    "deletable": false,
    "editable": false,
    "tags": []
   },
   "outputs": [
    {
     "data": {
      "text/plain": [
       "[38100,22700,33100,52800,13400,45400,43200,12900,27300,12300,51900,35200,31300,4800,38600,43800,6800,11700,25700,19100,46200,17900,1200,45500,4900,2700,55200,56800,32700,22000,29600,24000,1500,30600,28300,15700,53700,7300,28100,26200,43200,27100,39200,7100,21200,48200,43100,7300,38700,53200,37800,9900,38700,58200,47000,24700,56000,10700,5300,29900,55400,9000,46600,7000,36300,18700,24500,28200,1000,31500,47800,29400,29600,55400,44700,8400,55100,31500,49300,44100,51400,48800,7900,100,25000,15000,46700,52600,19900,39400,400,57500,11800,30700,55000,4700,29400,2300,46900,53800]"
      ]
     },
     "metadata": {},
     "output_type": "display_data"
    }
   ],
   "source": [
    "[381,227,331,528,134,454,432,129,273,123,519,352,313,48,386,438,68,117, 257,191,462,179,12,455,49,27,552,568,327,220,296,240,15,306,283,157, 537,73,281,262,432,271,392,71,212,482,431,73,387,532,378,99,387, 582,470,247,560,107,53,299,554,90,466,70,363,187,245,282,10,315, 478,294,296,554,447,84,551,315,493,441,514,488,79,1,250,150,467, 526,199,394,4,575,118,307,550,47,294,23,469,538] |> map (*100)"
   ]
  },
  {
   "cell_type": "markdown",
   "id": "7f6dfde5-07a4-45f6-ae9f-9d2d7f418b11",
   "metadata": {
    "deletable": false,
    "editable": false,
    "jp-MarkdownHeadingCollapsed": true,
    "tags": []
   },
   "source": [
    "## Pergunta 4\n",
    "Qual é o resultado que o Jupyter dá para a seguinte instrução?\n",
    "\n",
    "<code>[ [381,227,331,528,134,454,432,129,273,123,519], [352,313,48,386,438,68,117,257,191,462,179,12,455,49,27,552,568,327,220], [296,240], [15,306,283,157], [537,73,281,262,432,271,392,71,212,482,431,73,387,532,378,99,387], [582,470,247,560,107,53,299,554,90,466,70,363,187,245,282,10,315], [478,294,296,554,447], [84,551,315,493,441,514,488,79,1,250,150,467], [526,199,394,4,575,118,307,550,47,294,23,129,123] ] <b>|> map sort</b></code>\n",
    "\n",
    "**Solução:**"
   ]
  },
  {
   "cell_type": "code",
   "execution_count": 4,
   "id": "9726148e-bb26-4fb9-9d8f-0d3b9794e69f",
   "metadata": {
    "deletable": false,
    "editable": false,
    "tags": []
   },
   "outputs": [
    {
     "data": {
      "text/plain": [
       "[[123,129,134,227,273,331,381,432,454,519,528],[12,27,48,49,68,117,179,191,220,257,313,327,352,386,438,455,462,552,568],[240,296],[15,157,283,306],[71,73,73,99,212,262,271,281,378,387,387,392,431,432,482,532,537],[10,53,70,90,107,187,245,247,282,299,315,363,466,470,554,560,582],[294,296,447,478,554],[1,79,84,150,250,315,441,467,488,493,514,551],[4,23,47,118,123,129,199,294,307,394,526,550,575]]"
      ]
     },
     "metadata": {},
     "output_type": "display_data"
    }
   ],
   "source": [
    "[ [381,227,331,528,134,454,432,129,273,123,519], [352,313,48,386,438,68,117,257,191,462,179,12,455,49,27,552,568,327,220], [296,240], [15,306,283,157], [537,73,281,262,432,271,392,71,212,482,431,73,387,532,378,99,387], [582,470,247,560,107,53,299,554,90,466,70,363,187,245,282,10,315], [478,294,296,554,447], [84,551,315,493,441,514,488,79,1,250,150,467], [526,199,394,4,575,118,307,550,47,294,23,129,123] ] |> map sort"
   ]
  },
  {
   "cell_type": "markdown",
   "id": "2b36130a-bfe3-4092-88d1-7e072928f9df",
   "metadata": {
    "deletable": false,
    "editable": false,
    "jp-MarkdownHeadingCollapsed": true,
    "tags": []
   },
   "source": [
    "## Pergunta 5\n",
    "O que é que a instrução da pergunta anterior fez à lista de listas?\n",
    "\n",
    "⬜ As listas numéricas trocaram de lugar assim: a primeira lista foi para o fim, a segunda foi para penúltimo lugar, etc, e a última veio para o princípio.\n",
    "<br>⬜ Ordenou a lista de listas, pondo a lista com menos números em primeiro lugar e a lista com mais números em último lugar.\n",
    "<br>⬜ Ordenou cada lista numérica por ordem crescente, sem trocar as listas numéricas de lugar.\n",
    "<br>⬜ Cada lista numérica ficou no mesmo lugar, mas os seus números foram invertidos (do fim para o princípio).\n",
    "\n",
    "**Solução:**"
   ]
  },
  {
   "cell_type": "markdown",
   "id": "d167b30f-8b00-4d41-aada-6664c6a30d28",
   "metadata": {
    "deletable": false,
    "editable": false,
    "tags": []
   },
   "source": [
    "⬜ As listas numéricas trocaram de lugar assim: a primeira lista foi para o fim, a segunda foi para penúltimo lugar, etc, e a última veio para o princípio.\n",
    "<br>⬜ Ordenou a lista de listas, pondo a lista com menos números em primeiro lugar e a lista com mais números em último lugar.\n",
    "<br>✅ **Ordenou cada lista numérica por ordem crescente, sem trocar as listas numéricas de lugar.**\n",
    "<br>⬜ Cada lista numérica ficou no mesmo lugar, mas os seus números foram invertidos (do fim para o princípio)."
   ]
  },
  {
   "cell_type": "markdown",
   "id": "8e6aa7fc-5230-428e-932f-619c233f757c",
   "metadata": {
    "tags": []
   },
   "source": [
    "## Pergunta 6\n",
    "Completa as instruções, com as transformações corretas.\n",
    "\n",
    "<center>Frase: \"<b>O rato roeu a rolha da garrafa de rum do rei de Roma</b>\" </center>"
   ]
  },
  {
   "cell_type": "markdown",
   "id": "10796368-3506-4628-aa5e-3430b821550c",
   "metadata": {
    "deletable": false,
    "editable": false,
    "jp-MarkdownHeadingCollapsed": true,
    "tags": []
   },
   "source": [
    "### Pergunta 6 - Problema 1\n",
    "Problema: Contar o <u>número de caracteres</u> da frase.\n",
    "<br>Instrução: `\"O rato roeu a rolha da garrafa de rum do rei de Roma\" |> ___________`\n",
    "<br>Resultado: `52`\n",
    "\n",
    "**Solução:**"
   ]
  },
  {
   "cell_type": "code",
   "execution_count": 5,
   "id": "69000a2d-7b67-49df-84f5-e13e60da00ac",
   "metadata": {
    "deletable": false,
    "editable": false,
    "tags": []
   },
   "outputs": [
    {
     "data": {
      "text/plain": [
       "52"
      ]
     },
     "metadata": {},
     "output_type": "display_data"
    }
   ],
   "source": [
    "\"O rato roeu a rolha da garrafa de rum do rei de Roma\" |> length"
   ]
  },
  {
   "cell_type": "markdown",
   "id": "583bccb8-7907-423b-a4a4-7a8a079249f1",
   "metadata": {
    "deletable": false,
    "editable": false,
    "jp-MarkdownHeadingCollapsed": true,
    "tags": []
   },
   "source": [
    "### Pergunta 6 - Problema 2\n",
    "Problema: Produzir a <u>lista de palavras</u> da frase.\n",
    "<br>Instrução: `\"O rato roeu a rolha da garrafa de rum do rei de Roma\" |> ___________`\n",
    "<br>Resultado: `[\"O\",\"rato\",\"roeu\",\"a\",\"rolha\",\"da\",\"garrafa\",\"de\",\"rum\",\"do\",\"rei\",\"de\",\"Roma\"]`\n",
    "\n",
    "**Solução:**"
   ]
  },
  {
   "cell_type": "code",
   "execution_count": 6,
   "id": "780776b1-0f65-418e-aa1f-ab925708ea9a",
   "metadata": {
    "deletable": false,
    "editable": false,
    "tags": []
   },
   "outputs": [
    {
     "data": {
      "text/plain": [
       "[\"O\",\"rato\",\"roeu\",\"a\",\"rolha\",\"da\",\"garrafa\",\"de\",\"rum\",\"do\",\"rei\",\"de\",\"Roma\"]"
      ]
     },
     "metadata": {},
     "output_type": "display_data"
    }
   ],
   "source": [
    "\"O rato roeu a rolha da garrafa de rum do rei de Roma\" |> words"
   ]
  },
  {
   "cell_type": "markdown",
   "id": "bc65d454-49ab-49f6-80c4-5bf8028b6704",
   "metadata": {
    "deletable": false,
    "editable": false,
    "jp-MarkdownHeadingCollapsed": true,
    "tags": []
   },
   "source": [
    "### Pergunta 6 - Problema 3\n",
    "Problema: Contar o <u>número de palavras</u> da frase.\n",
    "<br>Instrução: `\"O rato roeu a rolha da garrafa de rum do rei de Roma\" |> ___________ |> ___________`\n",
    "<br>Resultado: `13`\n",
    "\n",
    "**Solução:**"
   ]
  },
  {
   "cell_type": "code",
   "execution_count": 7,
   "id": "1d177f3d-e0aa-40e9-8140-ec180a876957",
   "metadata": {
    "deletable": false,
    "editable": false,
    "tags": []
   },
   "outputs": [
    {
     "data": {
      "text/plain": [
       "13"
      ]
     },
     "metadata": {},
     "output_type": "display_data"
    }
   ],
   "source": [
    "\"O rato roeu a rolha da garrafa de rum do rei de Roma\" |> words |> length"
   ]
  },
  {
   "cell_type": "markdown",
   "id": "eb5b532f-5f02-4f5c-b20a-323760a385c8",
   "metadata": {
    "deletable": false,
    "editable": false,
    "jp-MarkdownHeadingCollapsed": true,
    "tags": []
   },
   "source": [
    "### Pergunta 6 - Problema 4\n",
    "Problema: Produzir a lista com o <u>número de letras de cada palavra</u> da frase.\n",
    "<br>Instrução: `\"O rato roeu a rolha da garrafa de rum do rei de Roma\" |> ___________ |> ___________`\n",
    "<br>Resultado: `[1,4,4,1,5,2,7,2,3,2,3,2,4]`\n",
    "\n",
    "**Solução:**"
   ]
  },
  {
   "cell_type": "code",
   "execution_count": 8,
   "id": "0d2cb330-411a-4a70-b920-77335f5dc08e",
   "metadata": {
    "deletable": false,
    "editable": false,
    "tags": []
   },
   "outputs": [
    {
     "data": {
      "text/plain": [
       "[1,4,4,1,5,2,7,2,3,2,3,2,4]"
      ]
     },
     "metadata": {},
     "output_type": "display_data"
    }
   ],
   "source": [
    "\"O rato roeu a rolha da garrafa de rum do rei de Roma\" |> words |> map length"
   ]
  },
  {
   "cell_type": "markdown",
   "id": "deddbe3d-b226-4e10-9122-c31e40120f18",
   "metadata": {
    "deletable": false,
    "editable": false,
    "jp-MarkdownHeadingCollapsed": true,
    "tags": []
   },
   "source": [
    "### Pergunta 6 - Problema 5\n",
    "Problema: Contar o <u>número total de letras</u> da frase.\n",
    "<br>Instrução: `\"O rato roeu a rolha da garrafa de rum do rei de Roma\" |> ___________ |> ___________ |> ___________`\n",
    "<br>Resultado: `40`\n",
    "\n",
    "**Solução:**"
   ]
  },
  {
   "cell_type": "code",
   "execution_count": 9,
   "id": "c1623dc1-530f-43b7-9572-367dff42e479",
   "metadata": {
    "deletable": false,
    "editable": false,
    "tags": []
   },
   "outputs": [
    {
     "data": {
      "text/plain": [
       "40"
      ]
     },
     "metadata": {},
     "output_type": "display_data"
    }
   ],
   "source": [
    "\"O rato roeu a rolha da garrafa de rum do rei de Roma\" |> words |> map length |> sum"
   ]
  },
  {
   "cell_type": "markdown",
   "id": "9bdfc032-400b-42d4-a3f4-8fb8b0287580",
   "metadata": {
    "deletable": false,
    "editable": false,
    "jp-MarkdownHeadingCollapsed": true,
    "tags": []
   },
   "source": [
    "## Pergunta 7\n",
    "Que instrução devemos dar ao Jupyter para ele reescrever a frase \"_O rato roeu a rolha da garrafa de rum do rei de Roma_\" de forma a que <u>cada palavra fique com as letras invertidas</u>?\n",
    "\n",
    "`\"O rato roeu a rolha da garrafa de rum do rei de Roma\" |> ___________ |> ___________ |> ___________`\n",
    "\n",
    "<small><b>Pista:</b> O resultado deve ser `\"O otar ueor a ahlor ad afarrag ed mur od ier ed amoR\"`.</small>\n",
    "    \n",
    "**Solução:**"
   ]
  },
  {
   "cell_type": "markdown",
   "id": "622c79cb-fd82-4df3-9c4e-ebc1d8861f43",
   "metadata": {
    "deletable": false,
    "editable": false,
    "tags": []
   },
   "source": [
    "Se queremos que cada palavra fique com as letras invertidas, vamos começar por partir a _string_ numa lista de palavras para depois podermos inverter as letras de cada palavra da lista. Para isso usamos a transformação `words`:"
   ]
  },
  {
   "cell_type": "code",
   "execution_count": 10,
   "id": "892ba2da-3cc4-412a-90d6-5442df271194",
   "metadata": {
    "deletable": false,
    "editable": false,
    "tags": []
   },
   "outputs": [
    {
     "data": {
      "text/plain": [
       "[\"O\",\"rato\",\"roeu\",\"a\",\"rolha\",\"da\",\"garrafa\",\"de\",\"rum\",\"do\",\"rei\",\"de\",\"Roma\"]"
      ]
     },
     "metadata": {},
     "output_type": "display_data"
    }
   ],
   "source": [
    "\"O rato roeu a rolha da garrafa de rum do rei de Roma\" |> words"
   ]
  },
  {
   "cell_type": "markdown",
   "id": "7ecd3859-41f2-42e7-bc90-d9dea3e49c82",
   "metadata": {
    "deletable": false,
    "editable": false,
    "tags": []
   },
   "source": [
    "Uma vez tendo a lista de palavras, podemos pedir ao Jupyter para, a cada palavra da lista, fazera transformação `reverse`. Temos então de usar o `map reverse`:"
   ]
  },
  {
   "cell_type": "code",
   "execution_count": 11,
   "id": "bb85bb54-9332-458d-a80f-633507a4a796",
   "metadata": {
    "deletable": false,
    "editable": false,
    "tags": []
   },
   "outputs": [
    {
     "data": {
      "text/plain": [
       "[\"O\",\"otar\",\"ueor\",\"a\",\"ahlor\",\"ad\",\"afarrag\",\"ed\",\"mur\",\"od\",\"ier\",\"ed\",\"amoR\"]"
      ]
     },
     "metadata": {},
     "output_type": "display_data"
    }
   ],
   "source": [
    "\"O rato roeu a rolha da garrafa de rum do rei de Roma\" |> words |> map reverse"
   ]
  },
  {
   "cell_type": "markdown",
   "id": "0ee916b7-f13c-469b-9e16-b62a46ee328d",
   "metadata": {
    "deletable": false,
    "editable": false,
    "tags": []
   },
   "source": [
    "Depois de termos uma lista com as palavras invertida, basta juntá-las numa frase usando a transformação `unwords`:"
   ]
  },
  {
   "cell_type": "code",
   "execution_count": 12,
   "id": "4b3062d0-79b9-4679-a664-125b507dbbe3",
   "metadata": {
    "deletable": false,
    "editable": false,
    "tags": []
   },
   "outputs": [
    {
     "data": {
      "text/plain": [
       "\"O otar ueor a ahlor ad afarrag ed mur od ier ed amoR\""
      ]
     },
     "metadata": {},
     "output_type": "display_data"
    }
   ],
   "source": [
    "\"O rato roeu a rolha da garrafa de rum do rei de Roma\" |> words |> map reverse |> unwords"
   ]
  }
 ],
 "metadata": {
  "kernelspec": {
   "display_name": "Haskell",
   "language": "haskell",
   "name": "haskell"
  },
  "language_info": {
   "codemirror_mode": "ihaskell",
   "file_extension": ".hs",
   "mimetype": "text/x-haskell",
   "name": "haskell",
   "pygments_lexer": "Haskell",
   "version": "9.4.5"
  }
 },
 "nbformat": 4,
 "nbformat_minor": 5
}
