{
 "cells": [
  {
   "cell_type": "markdown",
   "id": "73d8fbb5-5609-467d-98cf-71efb380a15d",
   "metadata": {
    "deletable": false,
    "editable": false,
    "tags": []
   },
   "source": [
    "<span style=\"color:darkblue\"> ⚠️ <b>IMPORTANTE</b></span>: <b>CORRE A CAIXA DE CÓDIGO SEGUINTE</b> antes de começares as tuas experiências!\n",
    "<br><span style=\"color:gray\">(Para isso, clica na caixa e depois carrega no botão ![image.png](./assets/play.PNG) que está na barra acima).</span>"
   ]
  },
  {
   "cell_type": "code",
   "execution_count": null,
   "id": "de792aaa-432e-4748-9735-bf3f63c90e6e",
   "metadata": {
    "deletable": false,
    "editable": false,
    "tags": []
   },
   "outputs": [],
   "source": [
    ":opt no-lint\n",
    ":l scripts/ensico.hs\n",
    "putStrLn (['F']++['e','i','t']++\"o!\")"
   ]
  },
  {
   "cell_type": "markdown",
   "id": "6f6bfade-26b6-4b19-81e3-ef1e6bce2c09",
   "metadata": {
    "deletable": false,
    "editable": false,
    "tags": []
   },
   "source": [
    "---\n",
    "\n",
    "# Soluções dos exercícios do Trabalho de Grupo 1 (2023/24)\n",
    "> **Computação - Ano 2 - Aula 4** (Aula Prática)<br>\n",
    "> © 2020-2024 ENSICO. Todos os direitos reservados"
   ]
  },
  {
   "cell_type": "markdown",
   "id": "fd298d33-3e87-46a5-a254-cb04cbdccf75",
   "metadata": {
    "deletable": false,
    "editable": false,
    "tags": []
   },
   "source": [
    "## Perguntas 2 a 5\n",
    "A seguinte lista numérica tem as <u>idades de todos os alunos de 6º</u> ano do AEFGA.\n",
    "\n",
    "`[11,10,11,11,11,10,11,11,11,11,11,11,11,11,11,11,11,10,11,11,11,10,11,11,11,11,10,11,12,11,11,12,11,11,11,11,11,11,10,11,10,11,11,11,11,11,11,11,10,10,11,11,11,12,11,12,11,11,11,10,11,12,11,10,11,14,11,11,10,11,11,13,11,10,11,11,11,11,11,11,10,11,10,11,11,11,12,11,10,11,11,11,11,11,11,11,10,11,11,12,11,12,11,11,11,11,11,10,11,11,11,10,11,10,10,11,10,10,10,10,11,10,10,11,11,12,11,11,11,11,11,11,10,10,10,11,11,11,11,11,11,10,11,11,11,11,11,11,11,11,11,10,11,11,11,11,10]`"
   ]
  },
  {
   "cell_type": "markdown",
   "id": "b7aa4002-07e1-43f9-9ace-98f4ec506a72",
   "metadata": {
    "deletable": false,
    "editable": false,
    "jp-MarkdownHeadingCollapsed": true,
    "tags": []
   },
   "source": [
    "### Pergunta 2\n",
    "Qual a <u>idade do aluno mais velho</u> do 6º ano?\n",
    "\n",
    "**Solução:**"
   ]
  },
  {
   "cell_type": "code",
   "execution_count": 2,
   "id": "23b6a3f4-544e-40f7-8002-01b844dc7fc5",
   "metadata": {
    "deletable": false,
    "editable": false,
    "tags": []
   },
   "outputs": [],
   "source": [
    "idades6 = [11,10,11,11,11,10,11,11,11,11,11,11,11,11,11,11,11,10,11,11,11,10,11,11,11,11,10,11,12,11,11,12,11,11,11,11,11,11,10,11,10,11,11,11,11,11,11,11,10,10,11,11,11,12,11,12,11,11,11,10,11,12,11,10,11,14,11,11,10,11,11,13,11,10,11,11,11,11,11,11,10,11,10,11,11,11,12,11,10,11,11,11,11,11,11,11,10,11,11,12,11,12,11,11,11,11,11,10,11,11,11,10,11,10,10,11,10,10,10,10,11,10,10,11,11,12,11,11,11,11,11,11,10,10,10,11,11,11,11,11,11,10,11,11,11,11,11,11,11,11,11,10,11,11,11,11,10]"
   ]
  },
  {
   "cell_type": "code",
   "execution_count": 3,
   "id": "31957d72-884c-45a1-b40c-7c513b32cc81",
   "metadata": {
    "deletable": false,
    "editable": false,
    "tags": []
   },
   "outputs": [
    {
     "data": {
      "text/plain": [
       "14"
      ]
     },
     "metadata": {},
     "output_type": "display_data"
    }
   ],
   "source": [
    "idades6 |> maximum"
   ]
  },
  {
   "cell_type": "markdown",
   "id": "c7b9850c-36b8-41ce-bc51-c3fdff35565c",
   "metadata": {
    "deletable": false,
    "editable": false,
    "jp-MarkdownHeadingCollapsed": true,
    "tags": []
   },
   "source": [
    "### Pergunta 3\n",
    "<u>Quantos alunos de 6º ano</u> há no AEFGA?\n",
    "\n",
    "**Solução:**"
   ]
  },
  {
   "cell_type": "code",
   "execution_count": 4,
   "id": "d627a250-67fa-4341-a05c-976b5fa9bb91",
   "metadata": {
    "deletable": false,
    "editable": false,
    "tags": []
   },
   "outputs": [
    {
     "data": {
      "text/plain": [
       "157"
      ]
     },
     "metadata": {},
     "output_type": "display_data"
    }
   ],
   "source": [
    "idades6 |> length"
   ]
  },
  {
   "cell_type": "markdown",
   "id": "99dd9050-321e-4713-98ba-ed32a0b748a9",
   "metadata": {
    "deletable": false,
    "editable": false,
    "jp-MarkdownHeadingCollapsed": true,
    "tags": []
   },
   "source": [
    "### Pergunta 4\n",
    "<u>Quantas idades distintas</u> existem no 6º ano?\n",
    "\n",
    "<small><b>Nota:</b> \"distintas\" significa \"diferentes umas das outras\".</small>\n",
    "    \n",
    "**Solução:**"
   ]
  },
  {
   "cell_type": "markdown",
   "id": "b51bd143-60c7-4fe6-89ae-6f19a50677e0",
   "metadata": {
    "deletable": false,
    "editable": false,
    "tags": []
   },
   "source": [
    "Começamos por tirar as idades repetidas da lista de idades, aplicando a transformação `nub`."
   ]
  },
  {
   "cell_type": "code",
   "execution_count": 5,
   "id": "0806242f-7332-4433-9393-08e2f20913cb",
   "metadata": {
    "deletable": false,
    "editable": false,
    "tags": []
   },
   "outputs": [
    {
     "data": {
      "text/plain": [
       "[11,10,12,14,13]"
      ]
     },
     "metadata": {},
     "output_type": "display_data"
    }
   ],
   "source": [
    "idades6 |> nub"
   ]
  },
  {
   "cell_type": "markdown",
   "id": "4e937dcf-becd-417c-aa36-af2c4de901b9",
   "metadata": {
    "deletable": false,
    "editable": false,
    "tags": []
   },
   "source": [
    "Depois contamos quantas idades distints sobraram nessa lista, usando a transformação `length`:"
   ]
  },
  {
   "cell_type": "code",
   "execution_count": 6,
   "id": "fb710e8c-a625-42c1-8e1c-e067c60805f6",
   "metadata": {
    "deletable": false,
    "editable": false,
    "tags": []
   },
   "outputs": [
    {
     "data": {
      "text/plain": [
       "5"
      ]
     },
     "metadata": {},
     "output_type": "display_data"
    }
   ],
   "source": [
    "idades6 |> nub |> length"
   ]
  },
  {
   "cell_type": "markdown",
   "id": "39b4ad41-892a-4026-b601-e33d2dbbaf1d",
   "metadata": {
    "deletable": false,
    "editable": false,
    "jp-MarkdownHeadingCollapsed": true,
    "tags": []
   },
   "source": [
    "### Pergunta 5\n",
    "<u>Qual é a lista</u> de idades que os alunos do 6º ano vão ter <u>daqui a 5 anos</u>?\n",
    "\n",
    "<small><b>Nota:</b> Copia o resultado dado pelo Jupyter.</small>\n",
    "\n",
    "**Solução:**"
   ]
  },
  {
   "cell_type": "code",
   "execution_count": 7,
   "id": "96528ba1-8970-40ec-80cd-933e535034b5",
   "metadata": {
    "deletable": false,
    "editable": false,
    "tags": []
   },
   "outputs": [
    {
     "data": {
      "text/plain": [
       "[16,15,16,16,16,15,16,16,16,16,16,16,16,16,16,16,16,15,16,16,16,15,16,16,16,16,15,16,17,16,16,17,16,16,16,16,16,16,15,16,15,16,16,16,16,16,16,16,15,15,16,16,16,17,16,17,16,16,16,15,16,17,16,15,16,19,16,16,15,16,16,18,16,15,16,16,16,16,16,16,15,16,15,16,16,16,17,16,15,16,16,16,16,16,16,16,15,16,16,17,16,17,16,16,16,16,16,15,16,16,16,15,16,15,15,16,15,15,15,15,16,15,15,16,16,17,16,16,16,16,16,16,15,15,15,16,16,16,16,16,16,15,16,16,16,16,16,16,16,16,16,15,16,16,16,16,15]"
      ]
     },
     "metadata": {},
     "output_type": "display_data"
    }
   ],
   "source": [
    "idades6 |> map (+5)"
   ]
  },
  {
   "cell_type": "markdown",
   "id": "66d07a45-a588-4d21-8578-8b37e5c25458",
   "metadata": {
    "deletable": false,
    "editable": false,
    "tags": []
   },
   "source": [
    "## Perguntas 6-8\n",
    "A seguinte lista de 7 listas numéricas tem as <u>idades de todos os alunos de 8º</u> ano do AEFGA, <u>organizadas turma a turma</u>.\n",
    "\n",
    "<code><b>[</b> [13,13,13,13,13,13,13,12,13,13,13,13,13,13,13,13,13,13,13,13,12,13], [13,12,13,13,13,13,16,13,13,14,12,13,13,13,14,13,12,13,17,13,12,13,13,14,13,17,12], [12,13,13,12,13,12,13,13,13,13,13,13,13,14,13,13,14,13,13,12,12,13,12,13,12,13,13,13,13], [13,13,13,13,14,13,13,13,13,13,14,13,14,12,13,13,13,13,13,12,13,13], [16,12,13,13,12,13,14,13,13,13,13,13,13,13,13,13,13,13,14,13,13,13,14,14], [13,13,13,13,13,13,13,13,12,13,12,13,13,13,13,13,12,15,14,12,13,13,13,13,13,13,12,13], [13,13,12,14,13,13,13,13,13,13,14,12,12,13,13,13,13,13,14,13,13,13] <b>]</b></code>"
   ]
  },
  {
   "cell_type": "markdown",
   "id": "509c3ac3-096d-437b-8835-3a1732a3509d",
   "metadata": {
    "deletable": false,
    "editable": false,
    "jp-MarkdownHeadingCollapsed": true,
    "tags": []
   },
   "source": [
    "### Pergunta 6\n",
    "Escreve e corre uma instrução para <u>dar o identificador `idades8`</u> a esta lista.\n",
    "<br> Depois corre a seguinte instrução:\n",
    "\n",
    "`idades8 |> map maximum |> maximum`\n",
    "\n",
    "Qual foi o resultado dado pelo Jupyter?\n",
    "\n",
    "**Solução:**"
   ]
  },
  {
   "cell_type": "code",
   "execution_count": 8,
   "id": "5730f912-0938-405c-932c-16f58c204641",
   "metadata": {
    "deletable": false,
    "editable": false,
    "tags": []
   },
   "outputs": [],
   "source": [
    "idades8 = [ [13,13,13,13,13,13,13,12,13,13,13,13,13,13,13,13,13,13,13,13,12,13],[13,12,13,13,13,13,16,13,13,14,12,13,13,13,14,13,12,13,17,13,12,13,13,14,13,17,12],[12,13,13,12,13,12,13,13,13,13,13,13,13,14,13,13,14,13,13,12,12,13,12,13,12,13,13,13,13],[13,13,13,13,14,13,13,13,13,13,14,13,14,12,13,13,13,13,13,12,13,13],[16,12,13,13,12,13,14,13,13,13,13,13,13,13,13,13,13,13,14,13,13,13,14,14],[13,13,13,13,13,13,13,13,12,13,12,13,13,13,13,13,12,15,14,12,13,13,13,13,13,13,12,13],[13,13,12,14,13,13,13,13,13,13,14,12,12,13,13,13,13,13,14,13,13,13] ]"
   ]
  },
  {
   "cell_type": "code",
   "execution_count": 9,
   "id": "fefa26dd-6c8a-4fc1-ad9e-6f8631553c8b",
   "metadata": {
    "deletable": false,
    "editable": false,
    "tags": []
   },
   "outputs": [
    {
     "data": {
      "text/plain": [
       "17"
      ]
     },
     "metadata": {},
     "output_type": "display_data"
    }
   ],
   "source": [
    "idades8 |> map maximum |> maximum"
   ]
  },
  {
   "cell_type": "markdown",
   "id": "b5f04161-15d5-4d30-ad7e-6cacd4c3bc94",
   "metadata": {
    "deletable": false,
    "editable": false,
    "jp-MarkdownHeadingCollapsed": true,
    "tags": []
   },
   "source": [
    "### Pergunta 7\n",
    "O resultado da pergunta anterior podia ser utilizado para responder a qual destas perguntas?\n",
    "\n",
    "⬜ Quantas turmas de 8º ano existem?\n",
    "<br>⬜ Quantos alunos do 8º ano têm 17 anos?\n",
    "<br>⬜ Quem é o aluno mais velho do 8º ano?\n",
    "<br>⬜ Quantos anos tem o aluno mais velho do 8º ano?\n",
    "\n",
    "**Solução:**"
   ]
  },
  {
   "cell_type": "markdown",
   "id": "635f5d1a-15c4-421b-b8eb-cabd60ab64a8",
   "metadata": {
    "deletable": false,
    "editable": false,
    "tags": []
   },
   "source": [
    "A lista chamada **`idades8` é uma lista de listas** numéricas, onde cada lista numérica contém as idades de uma certa turma.\n",
    "\n",
    "<code>idades8 = <b>[</b> [13,13,13,13,13,13,13,12,13,13,13,13,13,13,13,13,13,13,13,13,12,13]<b>,</b> [13,12,13,13,13,13,16,13,13,14,12,13,13,13,14,13,12,13,17,13,12,13,13,14,13,17,12]<b>,</b> [12,13,13,12,13,12,13,13,13,13,13,13,13,14,13,13,14,13,13,12,12,13,12,13,12,13,13,13,13]<b>,</b> [13,13,13,13,14,13,13,13,13,13,14,13,14,12,13,13,13,13,13,12,13,13]<b>,</b> [16,12,13,13,12,13,14,13,13,13,13,13,13,13,13,13,13,13,14,13,13,13,14,14]<b>,</b> [13,13,13,13,13,13,13,13,12,13,12,13,13,13,13,13,12,15,14,12,13,13,13,13,13,13,12,13]<b>,</b> [13,13,12,14,13,13,13,13,13,13,14,12,12,13,13,13,13,13,14,13,13,13] <b>]</b></code>\n",
    "\n",
    "A instrução `idades8 |> map maximum |> maximum` faz duas transformações.\n",
    "<br>Quando escrevemos `idades8 |> map maximum`, estamos a pedir ao Jupyter que pegue em cada lista numérica e lhe faça a transformação `maximum`:"
   ]
  },
  {
   "cell_type": "code",
   "execution_count": 10,
   "id": "062e04c9-571b-4287-a3db-97d6b97c28bd",
   "metadata": {
    "deletable": false,
    "editable": false,
    "tags": []
   },
   "outputs": [
    {
     "data": {
      "text/plain": [
       "[13,17,14,14,16,15,14]"
      ]
     },
     "metadata": {},
     "output_type": "display_data"
    }
   ],
   "source": [
    "idades8 |> map maximum"
   ]
  },
  {
   "cell_type": "markdown",
   "id": "d438f543-13b2-4560-a7f3-20b9c1df9c86",
   "metadata": {},
   "source": [
    "O resultado é uma lista que tem **a maior idade de cada turma**.\n",
    "<br>Se, em seguida, fizermos a transformação `maximum`, vamos ficar com **a maior das maiores** idades:"
   ]
  },
  {
   "cell_type": "code",
   "execution_count": 11,
   "id": "69b7f28d-9709-4550-a2e2-258dbd7f9f32",
   "metadata": {
    "deletable": false,
    "editable": false,
    "tags": []
   },
   "outputs": [
    {
     "data": {
      "text/plain": [
       "17"
      ]
     },
     "metadata": {},
     "output_type": "display_data"
    }
   ],
   "source": [
    "idades8 |> map maximum |> maximum"
   ]
  },
  {
   "cell_type": "markdown",
   "id": "3c3e5e51-b30a-4157-95b0-49b88643c1a4",
   "metadata": {
    "deletable": false,
    "editable": false,
    "tags": []
   },
   "source": [
    "Isto é, nós descobrimos a maior idade de entre as idades dos alunos de todas turmas de 8º ano.\n",
    "\n",
    "⬜ Quantas turmas de 8º ano existem?\n",
    "<br>⬜ Quantos alunos do 8º ano têm 17 anos?\n",
    "<br>⬜ Quem é o aluno mais velho do 8º ano?\n",
    "<br>✅ **Quantos anos tem o aluno mais velho do 8º ano?**"
   ]
  },
  {
   "cell_type": "markdown",
   "id": "aa2a3b09-983f-43a2-a99a-93595c78f7f7",
   "metadata": {
    "deletable": false,
    "editable": false,
    "jp-MarkdownHeadingCollapsed": true,
    "tags": []
   },
   "source": [
    "### Pergunta 8\n",
    "<u>Quantos</u> alunos de 8º ano há no AEFGA?\n",
    "\n",
    "<small><b>Pista:</b> Começa por contar quantos alunos há em cada turma.</small>\n",
    "\n",
    "**Solução:**"
   ]
  },
  {
   "cell_type": "markdown",
   "id": "ae0c7084-7959-4570-91b1-6a1df7f12af2",
   "metadata": {
    "deletable": false,
    "editable": false,
    "tags": []
   },
   "source": [
    "Como sugerido na pista, vamos começar por contar quantos alunos há em cada turma.\n",
    "\n",
    "<code>idades8 = <b>[</b> [13,13,13,13,13,13,13,12,13,13,13,13,13,13,13,13,13,13,13,13,12,13]<b>,</b> [13,12,13,13,13,13,16,13,13,14,12,13,13,13,14,13,12,13,17,13,12,13,13,14,13,17,12]<b>,</b> [12,13,13,12,13,12,13,13,13,13,13,13,13,14,13,13,14,13,13,12,12,13,12,13,12,13,13,13,13]<b>,</b> [13,13,13,13,14,13,13,13,13,13,14,13,14,12,13,13,13,13,13,12,13,13]<b>,</b> [16,12,13,13,12,13,14,13,13,13,13,13,13,13,13,13,13,13,14,13,13,13,14,14]<b>,</b> [13,13,13,13,13,13,13,13,12,13,12,13,13,13,13,13,12,15,14,12,13,13,13,13,13,13,12,13]<b>,</b> [13,13,12,14,13,13,13,13,13,13,14,12,12,13,13,13,13,13,14,13,13,13] <b>]</b></code>\n",
    "\n",
    "Cada lista numérica dentro da lista `idades8` tem as idades dos alunos de uma certa turma. Se soubermos quantas idades há em cada turma, ficamos a saber quantos alunos tem cada turma.\n",
    "<br>Então começamos por pedir ao Jupyter para **contar** quantos números há **em cada** lista:"
   ]
  },
  {
   "cell_type": "code",
   "execution_count": 12,
   "id": "728693f6-bf57-4045-8650-e28686f6aee7",
   "metadata": {
    "deletable": false,
    "editable": false,
    "tags": []
   },
   "outputs": [
    {
     "data": {
      "text/plain": [
       "[22,27,29,22,24,28,22]"
      ]
     },
     "metadata": {},
     "output_type": "display_data"
    }
   ],
   "source": [
    "idades8 |> map length"
   ]
  },
  {
   "cell_type": "markdown",
   "id": "15e539fc-b262-4a57-a36e-dd64a46a1f78",
   "metadata": {
    "deletable": false,
    "editable": false,
    "tags": []
   },
   "source": [
    "Depois basta somarmos as contagens de cada turma, para ficarmos a saber o total de alunos:"
   ]
  },
  {
   "cell_type": "code",
   "execution_count": 13,
   "id": "65e4d66d-eccb-47ed-81e2-a7faa94a3508",
   "metadata": {
    "deletable": false,
    "editable": false,
    "tags": []
   },
   "outputs": [
    {
     "data": {
      "text/plain": [
       "174"
      ]
     },
     "metadata": {},
     "output_type": "display_data"
    }
   ],
   "source": [
    "idades8 |> map length |> sum"
   ]
  },
  {
   "cell_type": "markdown",
   "id": "571cb1c8-8b89-4da3-afcc-7cc5152d2a9a",
   "metadata": {
    "deletable": false,
    "editable": false,
    "jp-MarkdownHeadingCollapsed": true,
    "tags": []
   },
   "source": [
    "### Pergunta 9\n",
    "Observa o resultado de cada instrução e completa-as com as transformações\n",
    "- `reverse`,\n",
    "- `sort`,\n",
    "- `words |> map reverse |> unwords` ou\n",
    "- `words |> map sort |> unwords`.\n",
    "\n",
    "Instrução: `aifoi = \"Frei Goncalo de Azevedo foi um cavaleiro do seculo XVI\"`\n",
    "\n",
    "Instrução: `aifoi |> ______________________`\n",
    "<br>Resultado: `\"IVX oluces od orielavac mu iof odevezA ed olacnoG ierF\"`\n",
    "\n",
    "Instrução: `aifoi |> ______________________`\n",
    "<br>Resultado: `\"Feir Gaclnoo de Adeeovz fio mu aaceilorv do celosu IVX\"`\n",
    "\n",
    "Instrução: `aifoi |> ______________________`\n",
    "<br>Resultado: `\"ierF olacnoG ed odevezA iof mu orielavac od oluces IVX\"`\n",
    "\n",
    "Instrução: `aifoi |> ______________________`\n",
    "<br>Resultado: `\"         AFGIVXaaacccdddeeeeeefiiilllmnooooooorrsuuvvz\"`\n",
    "\n",
    "**Solução:**"
   ]
  },
  {
   "cell_type": "markdown",
   "id": "7cc36285-769f-4ae2-a797-d658b958a117",
   "metadata": {
    "deletable": false,
    "editable": false,
    "tags": []
   },
   "source": [
    "A 1ª instrução serve só para dar o identificador (nome) `aifoi` à _string_ `\"IVX oluces od orielavac mu iof odevezA ed olacnoG ierF\"`."
   ]
  },
  {
   "cell_type": "code",
   "execution_count": 14,
   "id": "083e6e24-285f-48ee-9517-2723ab34cad4",
   "metadata": {
    "deletable": false,
    "editable": false,
    "tags": []
   },
   "outputs": [],
   "source": [
    "aifoi = \"Frei Goncalo de Azevedo foi um cavaleiro do seculo XVI\""
   ]
  },
  {
   "cell_type": "markdown",
   "id": "a7fdef31-fa81-4792-bd8e-970756ef48f3",
   "metadata": {
    "deletable": false,
    "editable": false,
    "tags": []
   },
   "source": [
    "---\n",
    "**1º Resultado: `\"IVX oluces od orielavac mu iof odevezA ed olacnoG ierF\"`**\n",
    "\n",
    "Observando o resultado, vemos que os **caracteres** da _string_ `aifoi` foram trocados **do fim para o princípio**. Vemos que o primeiro caractere da `aifoi` (o `'F'`) passou a ser o último, o segundo caractere (`'r'`) passou para penúltimo, ..., o penúltimo caractere (`'V'`) passou para segundo, e o último caratere (o `'I'`) passou a ser o primeiro da _string_.\n",
    "\n",
    "Para o resultado ser este, a _string_ teve de ser invertida usando a transformação `reverse`:"
   ]
  },
  {
   "cell_type": "code",
   "execution_count": 15,
   "id": "adf450b1-0815-4022-8a15-371fe9fe0967",
   "metadata": {
    "deletable": false,
    "editable": false,
    "tags": []
   },
   "outputs": [
    {
     "data": {
      "text/plain": [
       "\"IVX oluces od orielavac mu iof odevezA ed olacnoG ierF\""
      ]
     },
     "metadata": {},
     "output_type": "display_data"
    }
   ],
   "source": [
    "aifoi |> reverse"
   ]
  },
  {
   "cell_type": "markdown",
   "id": "da86e52e-cacf-4545-92c1-77b409812989",
   "metadata": {
    "deletable": false,
    "editable": false,
    "tags": []
   },
   "source": [
    "---\n",
    "**2º Resultado: `\"Feir Gaclnoo de Adeeovz fio mu aaceilorv do celosu IVX\"`**\n",
    "\n",
    "Observando este resultado, vemos que cada palavra continua no mesmo sítio, mas que as letras de cada palavra foram ordenadas alfabeticamente. Portanto, primeiro pedimos ao Jupyter para **partir a frase numa lista de palavras** (`words`), depois pedimos-lhe para **ordenar** as letras de **cada** palavra da lista (`map sort`), e depois para pegar nessa lista de palavras estranhas e **juntá-las numa frase** (`unwords`):"
   ]
  },
  {
   "cell_type": "code",
   "execution_count": 16,
   "id": "47c5e543-e449-4036-9635-d0348d4bdbc5",
   "metadata": {
    "deletable": false,
    "editable": false,
    "tags": []
   },
   "outputs": [
    {
     "data": {
      "text/plain": [
       "[\"Frei\",\"Goncalo\",\"de\",\"Azevedo\",\"foi\",\"um\",\"cavaleiro\",\"do\",\"seculo\",\"XVI\"]"
      ]
     },
     "metadata": {},
     "output_type": "display_data"
    }
   ],
   "source": [
    "aifoi |> words"
   ]
  },
  {
   "cell_type": "code",
   "execution_count": 17,
   "id": "89b334f9-eb2e-4e7b-966d-af572883dc6e",
   "metadata": {
    "deletable": false,
    "editable": false,
    "tags": []
   },
   "outputs": [
    {
     "data": {
      "text/plain": [
       "[\"Feir\",\"Gaclnoo\",\"de\",\"Adeeovz\",\"fio\",\"mu\",\"aaceilorv\",\"do\",\"celosu\",\"IVX\"]"
      ]
     },
     "metadata": {},
     "output_type": "display_data"
    }
   ],
   "source": [
    "aifoi |> words |> map sort"
   ]
  },
  {
   "cell_type": "code",
   "execution_count": 18,
   "id": "3bc5d3a3-f962-4dee-bed5-1f5a1089dc8b",
   "metadata": {
    "deletable": false,
    "editable": false,
    "tags": []
   },
   "outputs": [
    {
     "data": {
      "text/plain": [
       "\"Feir Gaclnoo de Adeeovz fio mu aaceilorv do celosu IVX\""
      ]
     },
     "metadata": {},
     "output_type": "display_data"
    }
   ],
   "source": [
    "aifoi |> words |> map sort |> unwords"
   ]
  },
  {
   "cell_type": "markdown",
   "id": "1e70d7e7-b0be-4c55-a0e8-f7d1675946ab",
   "metadata": {
    "deletable": false,
    "editable": false,
    "tags": []
   },
   "source": [
    "---\n",
    "**3º Resultado: `\"ierF olacnoG ed odevezA iof mu orielavac od oluces IVX\"`**\n",
    "\n",
    "Observando este resultado, vemos que cada palavra continua no mesmo sítio, mas que as letras de cada palavra foram invertidas. Portanto, primeiro pedimos ao Jupyter para **partir a frase numa lista de palavras** (`words`), depois pedimos-lhe para **inverter** as letras de **cada** palavra da lista (`map reverse`), e depois para pegar nessa lista de palavras estranhas e **juntá-las numa frase** (`unwords`):"
   ]
  },
  {
   "cell_type": "code",
   "execution_count": 19,
   "id": "ad8f2c66-7ae3-4f85-a5f8-f05021dc1bce",
   "metadata": {
    "deletable": false,
    "editable": false,
    "tags": []
   },
   "outputs": [
    {
     "data": {
      "text/plain": [
       "[\"Frei\",\"Goncalo\",\"de\",\"Azevedo\",\"foi\",\"um\",\"cavaleiro\",\"do\",\"seculo\",\"XVI\"]"
      ]
     },
     "metadata": {},
     "output_type": "display_data"
    }
   ],
   "source": [
    "aifoi |> words"
   ]
  },
  {
   "cell_type": "code",
   "execution_count": 20,
   "id": "ec64ac03-abac-4d31-8501-3e458536f19c",
   "metadata": {
    "deletable": false,
    "editable": false,
    "tags": []
   },
   "outputs": [
    {
     "data": {
      "text/plain": [
       "[\"ierF\",\"olacnoG\",\"ed\",\"odevezA\",\"iof\",\"mu\",\"orielavac\",\"od\",\"oluces\",\"IVX\"]"
      ]
     },
     "metadata": {},
     "output_type": "display_data"
    }
   ],
   "source": [
    "aifoi |> words |> map reverse"
   ]
  },
  {
   "cell_type": "code",
   "execution_count": 21,
   "id": "2fdcad27-aeda-4789-a090-e78773aeb7b8",
   "metadata": {
    "deletable": false,
    "editable": false,
    "tags": []
   },
   "outputs": [
    {
     "data": {
      "text/plain": [
       "\"ierF olacnoG ed odevezA iof mu orielavac od oluces IVX\""
      ]
     },
     "metadata": {},
     "output_type": "display_data"
    }
   ],
   "source": [
    "aifoi |> words |> map reverse |> unwords"
   ]
  },
  {
   "cell_type": "markdown",
   "id": "6823036c-a234-49fc-bdc9-de10f263dfaf",
   "metadata": {
    "deletable": false,
    "editable": false,
    "tags": []
   },
   "source": [
    "---\n",
    "**4º Resultado: `\"         AFGIVXaaacccdddeeeeeefiiilllmnooooooorrsuuvvz\"`**\n",
    "\n",
    "Observando este resultado, vemos que os **caracteres** da _string_ `aifoi` foram **ordenados**. Ficaram em primeiro <u>os 9 espaços</u> da frase, depois <u>as 6 maiúsculas</u> por ordem alfabética (`'A'`, `'F'`, `'G'`, `'I'`, `'V'` e `'X'`), e depois <u>as minúsculas</u> por ordem alfabética (a ordem pela qual este caracteres surgem na tabela de ASCII).\n",
    "\n",
    "Para o resultado ser este, a _string_ teve de ser ordenada usando a transformação `sort`:"
   ]
  },
  {
   "cell_type": "code",
   "execution_count": 22,
   "id": "0ad3f604-8d5f-41ec-8331-873db47b43df",
   "metadata": {
    "deletable": false,
    "editable": false,
    "tags": []
   },
   "outputs": [
    {
     "data": {
      "text/plain": [
       "\"         AFGIVXaaacccdddeeeeeefiiilllmnooooooorrsuuvvz\""
      ]
     },
     "metadata": {},
     "output_type": "display_data"
    }
   ],
   "source": [
    "aifoi |> sort"
   ]
  },
  {
   "cell_type": "markdown",
   "id": "c4cc7c33-9636-4d8c-bdfe-5363278fb7e8",
   "metadata": {
    "deletable": false,
    "editable": false,
    "jp-MarkdownHeadingCollapsed": true,
    "tags": []
   },
   "source": [
    "## Desafio Extra\n",
    "\n",
    "- Calcula a soma das idades dos alunos do 6º ano.\n",
    "- Calcula a soma das idades dos alunos do 8º ano.\n",
    "\n",
    "<u>Qual a soma maior?</u>\n",
    "\n",
    "**Solução:**"
   ]
  },
  {
   "cell_type": "markdown",
   "id": "748d8c7d-14dd-44df-a85a-de9d207ca87b",
   "metadata": {
    "deletable": false,
    "editable": false,
    "tags": []
   },
   "source": [
    "Recordemos as duas listas:\n",
    "\n",
    "`idades6 = [11,10,11,11,11,10,11,11,11,11,11,11,11,11,11,11,11,10,11,11,11,10,11,11,11,11,10,11,12,11,11,12,11,11,11,11,11,11,10,11,10,11,11,11,11,11,11,11,10,10,11,11,11,12,11,12,11,11,11,10,11,12,11,10,11,14,11,11,10,11,11,13,11,10,11,11,11,11,11,11,10,11,10,11,11,11,12,11,10,11,11,11,11,11,11,11,10,11,11,12,11,12,11,11,11,11,11,10,11,11,11,10,11,10,10,11,10,10,10,10,11,10,10,11,11,12,11,11,11,11,11,11,10,10,10,11,11,11,11,11,11,10,11,11,11,11,11,11,11,11,11,10,11,11,11,11,10]`\n",
    "\n",
    "<code>idades8 = <b>[</b> [13,13,13,13,13,13,13,12,13,13,13,13,13,13,13,13,13,13,13,13,12,13]<b>,</b> [13,12,13,13,13,13,16,13,13,14,12,13,13,13,14,13,12,13,17,13,12,13,13,14,13,17,12]<b>,</b> [12,13,13,12,13,12,13,13,13,13,13,13,13,14,13,13,14,13,13,12,12,13,12,13,12,13,13,13,13]<b>,</b> [13,13,13,13,14,13,13,13,13,13,14,13,14,12,13,13,13,13,13,12,13,13]<b>,</b> [16,12,13,13,12,13,14,13,13,13,13,13,13,13,13,13,13,13,14,13,13,13,14,14]<b>,</b> [13,13,13,13,13,13,13,13,12,13,12,13,13,13,13,13,12,15,14,12,13,13,13,13,13,13,12,13]<b>,</b> [13,13,12,14,13,13,13,13,13,13,14,12,12,13,13,13,13,13,14,13,13,13] <b>]</b></code>\n",
    "\n",
    "Como a lista **`idades6` é uma lista de números**, para somar todos os seus números basta usar a transformação `sum`:"
   ]
  },
  {
   "cell_type": "code",
   "execution_count": 23,
   "id": "bf7b9655-b3df-4e9a-a9b7-6239b98f195e",
   "metadata": {
    "deletable": false,
    "editable": false,
    "tags": []
   },
   "outputs": [
    {
     "data": {
      "text/plain": [
       "1708"
      ]
     },
     "metadata": {},
     "output_type": "display_data"
    }
   ],
   "source": [
    "idades6 |> sum"
   ]
  },
  {
   "cell_type": "markdown",
   "id": "57f3e474-dae1-4e5c-a9cd-d4ed328065ce",
   "metadata": {
    "deletable": false,
    "editable": false,
    "tags": []
   },
   "source": [
    "Mas a lista **`idades8` é uma lista de listas numéricas**! Não é possível somar diretamente todas as idades.\n",
    "<br>Temos de começar por somar os números de cada lista numérica:"
   ]
  },
  {
   "cell_type": "code",
   "execution_count": 24,
   "id": "2ae003ed-331f-4965-b9cc-da55603d9188",
   "metadata": {
    "deletable": false,
    "editable": false,
    "tags": []
   },
   "outputs": [
    {
     "data": {
      "text/plain": [
       "[284,360,372,287,317,362,286]"
      ]
     },
     "metadata": {},
     "output_type": "display_data"
    }
   ],
   "source": [
    "idades8 |> map sum"
   ]
  },
  {
   "cell_type": "markdown",
   "id": "5f48f570-ed76-4027-8d10-824dea145953",
   "metadata": {
    "deletable": false,
    "editable": false,
    "tags": []
   },
   "source": [
    "Ficamos com uma lista numérica com as somas de idades de cada turma. Agora, podemos pegar nessa lista e somar os seus números:"
   ]
  },
  {
   "cell_type": "code",
   "execution_count": 25,
   "id": "c9244bbf-1ef8-4020-a4c6-c37e845549fb",
   "metadata": {
    "deletable": false,
    "editable": false,
    "tags": []
   },
   "outputs": [
    {
     "data": {
      "text/plain": [
       "2268"
      ]
     },
     "metadata": {},
     "output_type": "display_data"
    }
   ],
   "source": [
    "idades8 |> map sum |> sum"
   ]
  },
  {
   "cell_type": "markdown",
   "id": "f1dde8a8-979c-467c-8fbe-5037ce17152e",
   "metadata": {
    "deletable": false,
    "editable": false,
    "tags": []
   },
   "source": [
    "**Resposta:** A soma das idades dos alunos do 8º ano (2268) é maior do que a do 6º ano (1708)."
   ]
  }
 ],
 "metadata": {
  "kernelspec": {
   "display_name": "Haskell",
   "language": "haskell",
   "name": "haskell"
  },
  "language_info": {
   "codemirror_mode": "ihaskell",
   "file_extension": ".hs",
   "mimetype": "text/x-haskell",
   "name": "haskell",
   "pygments_lexer": "Haskell",
   "version": "9.4.5"
  }
 },
 "nbformat": 4,
 "nbformat_minor": 5
}
