{
 "cells": [
  {
   "cell_type": "markdown",
   "id": "79470f58-522a-42cc-857d-3a7e4674c3f7",
   "metadata": {
    "deletable": false,
    "editable": false,
    "tags": []
   },
   "source": [
    "<span style=\"color:darkblue\"> ⚠️ **IMPORTANTE**</span>: **CORRE O CÓDIGO SEGUINTE** antes de começares as tuas experiências!\n"
   ]
  },
  {
   "cell_type": "code",
   "execution_count": null,
   "id": "f6e5fed9-6668-4155-a1d6-b367c0b542df",
   "metadata": {
    "deletable": false,
    "editable": false,
    "tags": []
   },
   "outputs": [],
   "source": [
    ":opt no-lint\n",
    ":l scripts/ensico.hs\n",
    "putStrLn (['F']++['e','i','t']++\"o!\")"
   ]
  },
  {
   "cell_type": "markdown",
   "id": "6f6bfade-26b6-4b19-81e3-ef1e6bce2c09",
   "metadata": {
    "deletable": false,
    "editable": false,
    "tags": []
   },
   "source": [
    "# Aula 4 - Soluções dos exercícios\n",
    "> **Computação - Ano 2 - Aula 4** <br>\n",
    "> © 2020-2024 ENSICO. Todos os direitos reservados"
   ]
  },
  {
   "cell_type": "markdown",
   "id": "c76d464f-7caa-448b-9769-447bc7f8b4a5",
   "metadata": {},
   "source": [
    "## Perguntas 2-5"
   ]
  },
  {
   "cell_type": "code",
   "execution_count": 2,
   "id": "23b6a3f4-544e-40f7-8002-01b844dc7fc5",
   "metadata": {
    "tags": []
   },
   "outputs": [],
   "source": [
    "idades6 = [11,10,11,11,11,10,11,11,11,11,11,11,11,11,11,11,11,10,11,11,11,10,11,11,11,11,10,11,12,11,11,12,11,11,11,11,11,11,10,11,10,11,11,11,11,11,11,11,10,10,11,11,11,12,11,12,11,11,11,10,11,12,11,10,11,14,11,11,10,11,11,13,11,10,11,11,11,11,11,11,10,11,10,11,11,11,12,11,10,11,11,11,11,11,11,11,10,11,11,12,11,12,11,11,11,11,11,10,11,11,11,10,11,10,10,11,10,10,10,10,11,10,10,11,11,12,11,11,11,11,11,11,10,10,10,11,11,11,11,11,11,10,11,11,11,11,11,11,11,11,11,10,11,11,11,11,10]"
   ]
  },
  {
   "cell_type": "markdown",
   "id": "dbf35b26-9789-45c1-8f01-28e82827da26",
   "metadata": {
    "tags": []
   },
   "source": [
    "#### Resposta da Pergunta 2"
   ]
  },
  {
   "cell_type": "code",
   "execution_count": 3,
   "id": "31957d72-884c-45a1-b40c-7c513b32cc81",
   "metadata": {
    "tags": []
   },
   "outputs": [
    {
     "data": {
      "text/plain": [
       "14"
      ]
     },
     "metadata": {},
     "output_type": "display_data"
    }
   ],
   "source": [
    "idades6 |> maximum"
   ]
  },
  {
   "cell_type": "markdown",
   "id": "c7b9850c-36b8-41ce-bc51-c3fdff35565c",
   "metadata": {
    "tags": []
   },
   "source": [
    "#### Resposta da Pergunta 3"
   ]
  },
  {
   "cell_type": "code",
   "execution_count": 4,
   "id": "d627a250-67fa-4341-a05c-976b5fa9bb91",
   "metadata": {
    "tags": []
   },
   "outputs": [
    {
     "data": {
      "text/plain": [
       "157"
      ]
     },
     "metadata": {},
     "output_type": "display_data"
    }
   ],
   "source": [
    "idades6 |> length"
   ]
  },
  {
   "cell_type": "markdown",
   "id": "99dd9050-321e-4713-98ba-ed32a0b748a9",
   "metadata": {
    "tags": []
   },
   "source": [
    "#### Resposta da Pergunta 4"
   ]
  },
  {
   "cell_type": "code",
   "execution_count": 5,
   "id": "0806242f-7332-4433-9393-08e2f20913cb",
   "metadata": {
    "tags": []
   },
   "outputs": [
    {
     "data": {
      "text/plain": [
       "[11,10,12,14,13]"
      ]
     },
     "metadata": {},
     "output_type": "display_data"
    }
   ],
   "source": [
    "idades6 |> nub"
   ]
  },
  {
   "cell_type": "code",
   "execution_count": 6,
   "id": "fb710e8c-a625-42c1-8e1c-e067c60805f6",
   "metadata": {
    "tags": []
   },
   "outputs": [
    {
     "data": {
      "text/plain": [
       "5"
      ]
     },
     "metadata": {},
     "output_type": "display_data"
    }
   ],
   "source": [
    "idades6 |> nub |> length"
   ]
  },
  {
   "cell_type": "markdown",
   "id": "39b4ad41-892a-4026-b601-e33d2dbbaf1d",
   "metadata": {},
   "source": [
    "#### Resposta da Pergunta 5"
   ]
  },
  {
   "cell_type": "code",
   "execution_count": 7,
   "id": "96528ba1-8970-40ec-80cd-933e535034b5",
   "metadata": {
    "tags": []
   },
   "outputs": [
    {
     "data": {
      "text/plain": [
       "[16,15,16,16,16,15,16,16,16,16,16,16,16,16,16,16,16,15,16,16,16,15,16,16,16,16,15,16,17,16,16,17,16,16,16,16,16,16,15,16,15,16,16,16,16,16,16,16,15,15,16,16,16,17,16,17,16,16,16,15,16,17,16,15,16,19,16,16,15,16,16,18,16,15,16,16,16,16,16,16,15,16,15,16,16,16,17,16,15,16,16,16,16,16,16,16,15,16,16,17,16,17,16,16,16,16,16,15,16,16,16,15,16,15,15,16,15,15,15,15,16,15,15,16,16,17,16,16,16,16,16,16,15,15,15,16,16,16,16,16,16,15,16,16,16,16,16,16,16,16,16,15,16,16,16,16,15]"
      ]
     },
     "metadata": {},
     "output_type": "display_data"
    }
   ],
   "source": [
    "idades6 |> map (+5)"
   ]
  },
  {
   "cell_type": "markdown",
   "id": "fa736502-3a36-4c06-a21c-3c2340a4dd0e",
   "metadata": {},
   "source": [
    "## Perguntas 6-8"
   ]
  },
  {
   "cell_type": "code",
   "execution_count": 8,
   "id": "5730f912-0938-405c-932c-16f58c204641",
   "metadata": {
    "tags": []
   },
   "outputs": [],
   "source": [
    "idades8 = [[13,13,13,13,13,13,13,12,13,13,13,13,13,13,13,13,13,13,13,13,12,13],[13,12,13,13,13,13,16,13,13,14,12,13,13,13,14,13,12,13,17,13,12,13,13,14,13,17,12],[12,13,13,12,13,12,13,13,13,13,13,13,13,14,13,13,14,13,13,12,12,13,12,13,12,13,13,13,13],[13,13,13,13,14,13,13,13,13,13,14,13,14,12,13,13,13,13,13,12,13,13],[16,12,13,13,12,13,14,13,13,13,13,13,13,13,13,13,13,13,14,13,13,13,14,14],[13,13,13,13,13,13,13,13,12,13,12,13,13,13,13,13,12,15,14,12,13,13,13,13,13,13,12,13],[13,13,12,14,13,13,13,13,13,13,14,12,12,13,13,13,13,13,14,13,13,13]]"
   ]
  },
  {
   "cell_type": "markdown",
   "id": "b5f04161-15d5-4d30-ad7e-6cacd4c3bc94",
   "metadata": {},
   "source": [
    "#### Resposta da Pergunta 6"
   ]
  },
  {
   "cell_type": "code",
   "execution_count": 9,
   "id": "69b7f28d-9709-4550-a2e2-258dbd7f9f32",
   "metadata": {
    "tags": []
   },
   "outputs": [
    {
     "data": {
      "text/plain": [
       "17"
      ]
     },
     "metadata": {},
     "output_type": "display_data"
    }
   ],
   "source": [
    "idades8 |> map maximum |> maximum"
   ]
  },
  {
   "cell_type": "markdown",
   "id": "aa2a3b09-983f-43a2-a99a-93595c78f7f7",
   "metadata": {},
   "source": [
    "#### Resposta da Pergunta 7\n",
    "\n",
    "*\"Quantos anos tem o aluno mais velho do 8º ano?\"*"
   ]
  },
  {
   "cell_type": "markdown",
   "id": "ae0c7084-7959-4570-91b1-6a1df7f12af2",
   "metadata": {
    "jp-MarkdownHeadingCollapsed": true,
    "tags": []
   },
   "source": [
    "#### Explicação da Pergunta 7"
   ]
  },
  {
   "cell_type": "markdown",
   "id": "55fb954b-e754-4639-b9bb-821affec5a25",
   "metadata": {},
   "source": [
    "A instrução `idades8 |> map maximum |> maximum` faz duas transformações.\n",
    "<br>Com a primeira transformação (`map maximum`), o Jupyter encontra a maior idade em cada turma."
   ]
  },
  {
   "cell_type": "code",
   "execution_count": 10,
   "id": "4afdc842-c35b-4bda-afc7-18558ac3faff",
   "metadata": {
    "tags": []
   },
   "outputs": [
    {
     "data": {
      "text/plain": [
       "[13,17,14,14,16,15,14]"
      ]
     },
     "metadata": {},
     "output_type": "display_data"
    }
   ],
   "source": [
    "idades8 |> map maximum"
   ]
  },
  {
   "cell_type": "markdown",
   "id": "15e539fc-b262-4a57-a36e-dd64a46a1f78",
   "metadata": {},
   "source": [
    "Depois, usando a tranformação `maximum`, encontra a maior idade entre essas idades.\n",
    "<br>O resultado `17` é então a maior de todas as idades dos alunos o 8º ano."
   ]
  },
  {
   "cell_type": "markdown",
   "id": "ec796e23-6e01-4e05-8542-8ec0306baeed",
   "metadata": {},
   "source": [
    "#### Resposta da Pergunta 8"
   ]
  },
  {
   "cell_type": "code",
   "execution_count": 11,
   "id": "65e4d66d-eccb-47ed-81e2-a7faa94a3508",
   "metadata": {
    "tags": []
   },
   "outputs": [
    {
     "data": {
      "text/plain": [
       "174"
      ]
     },
     "metadata": {},
     "output_type": "display_data"
    }
   ],
   "source": [
    "idades8 |> map length |> sum"
   ]
  },
  {
   "cell_type": "markdown",
   "id": "571cb1c8-8b89-4da3-afcc-7cc5152d2a9a",
   "metadata": {
    "tags": []
   },
   "source": [
    "## Pergunta 9"
   ]
  },
  {
   "cell_type": "code",
   "execution_count": 12,
   "id": "083e6e24-285f-48ee-9517-2723ab34cad4",
   "metadata": {
    "tags": []
   },
   "outputs": [],
   "source": [
    "aifoi = \"Frei Goncalo de Azevedo foi um cavaleiro do seculo XVI\""
   ]
  },
  {
   "cell_type": "code",
   "execution_count": 13,
   "id": "adf450b1-0815-4022-8a15-371fe9fe0967",
   "metadata": {
    "tags": []
   },
   "outputs": [
    {
     "data": {
      "text/plain": [
       "\"IVX oluces od orielavac mu iof odevezA ed olacnoG ierF\""
      ]
     },
     "metadata": {},
     "output_type": "display_data"
    }
   ],
   "source": [
    "aifoi |> reverse"
   ]
  },
  {
   "cell_type": "code",
   "execution_count": 14,
   "id": "3bc5d3a3-f962-4dee-bed5-1f5a1089dc8b",
   "metadata": {
    "tags": []
   },
   "outputs": [
    {
     "data": {
      "text/plain": [
       "\"Feir Gaclnoo de Adeeovz fio mu aaceilorv do celosu IVX\""
      ]
     },
     "metadata": {},
     "output_type": "display_data"
    }
   ],
   "source": [
    "aifoi |> words |> map sort |> unwords"
   ]
  },
  {
   "cell_type": "code",
   "execution_count": 15,
   "id": "2fdcad27-aeda-4789-a090-e78773aeb7b8",
   "metadata": {
    "tags": []
   },
   "outputs": [
    {
     "data": {
      "text/plain": [
       "\"ierF olacnoG ed odevezA iof mu orielavac od oluces IVX\""
      ]
     },
     "metadata": {},
     "output_type": "display_data"
    }
   ],
   "source": [
    "aifoi |> words |> map reverse |> unwords"
   ]
  },
  {
   "cell_type": "code",
   "execution_count": 16,
   "id": "0ad3f604-8d5f-41ec-8331-873db47b43df",
   "metadata": {
    "tags": []
   },
   "outputs": [
    {
     "data": {
      "text/plain": [
       "\"         AFGIVXaaacccdddeeeeeefiiilllmnooooooorrsuuvvz\""
      ]
     },
     "metadata": {},
     "output_type": "display_data"
    }
   ],
   "source": [
    "aifoi |> sort"
   ]
  },
  {
   "cell_type": "markdown",
   "id": "e33ab5b6-4af9-45f4-8820-afaedc48a44d",
   "metadata": {
    "jp-MarkdownHeadingCollapsed": true,
    "tags": []
   },
   "source": [
    "#### Explicação"
   ]
  },
  {
   "cell_type": "markdown",
   "id": "c6ea99c3-1b16-4c02-9047-7a283f85ad55",
   "metadata": {},
   "source": [
    "- `reverse` - Inverte os carateres da string, do fim para o princípio.\n",
    "    - O último caratere (`I`) passa a ser o primeiro da string;\n",
    "    - O penúltimo (`V`) passa a segundo;\n",
    "    - ...\n",
    "    - O primeiro (`F`) passa a ser o último.\n",
    "- `words |> map sort |> unwords`\n",
    "    - Parte a string numa sequência de palavras;\n",
    "    - Ordena os caracteres de cada uma das palavras;\n",
    "    - Volta a juntar as \"palavras ordenadas\" numa frase.\n",
    "- `words |> map reverse |> unwords`\n",
    "    - Parte a string numa sequência de palavras;\n",
    "    - Inverte os caracteres de cada uma das palavras;\n",
    "    - Volta a juntar as \"palavras invertidas\" numa frase.\n",
    "- `sort`- Ordena os carateres da string, de acordo com a tabela de ASCII.\n",
    "    - Primeiro vêm os 9 espaços;\n",
    "    - Depois as maiúsculas por ordem alfabética;\n",
    "    - Depois as minúsculas por ordem alfabética."
   ]
  },
  {
   "cell_type": "markdown",
   "id": "c93a776f-d6c2-42bf-a0c8-6fd06b3b9028",
   "metadata": {},
   "source": [
    "# Desafio Extra"
   ]
  },
  {
   "cell_type": "markdown",
   "id": "939787b8-37a9-48c5-8e02-4913e0405664",
   "metadata": {},
   "source": [
    "- Calcula a soma das idades dos alunos do 6º ano.\n",
    "- Calcula a soma das idades dos alunos do 8º ano.\n",
    "\n",
    "Qual a soma maior?"
   ]
  },
  {
   "cell_type": "markdown",
   "id": "ab9ebc60-e7e8-402f-b7c2-b994ebc7a5db",
   "metadata": {
    "jp-MarkdownHeadingCollapsed": true,
    "tags": []
   },
   "source": [
    "#### Resposta"
   ]
  },
  {
   "cell_type": "code",
   "execution_count": null,
   "id": "bf7b9655-b3df-4e9a-a9b7-6239b98f195e",
   "metadata": {},
   "outputs": [
    {
     "data": {
      "text/plain": [
       "1708"
      ]
     },
     "metadata": {},
     "output_type": "display_data"
    }
   ],
   "source": [
    "idades6 |> sum"
   ]
  },
  {
   "cell_type": "code",
   "execution_count": null,
   "id": "c9244bbf-1ef8-4020-a4c6-c37e845549fb",
   "metadata": {},
   "outputs": [
    {
     "data": {
      "text/plain": [
       "2268"
      ]
     },
     "metadata": {},
     "output_type": "display_data"
    }
   ],
   "source": [
    "idades8 |> map sum |> sum"
   ]
  },
  {
   "cell_type": "markdown",
   "id": "f1dde8a8-979c-467c-8fbe-5037ce17152e",
   "metadata": {},
   "source": [
    "A soma das idades do 8º ano é maior."
   ]
  }
 ],
 "metadata": {
  "kernelspec": {
   "display_name": "Haskell",
   "language": "haskell",
   "name": "haskell"
  },
  "language_info": {
   "codemirror_mode": "ihaskell",
   "file_extension": ".hs",
   "mimetype": "text/x-haskell",
   "name": "haskell",
   "pygments_lexer": "Haskell",
   "version": "9.4.5"
  }
 },
 "nbformat": 4,
 "nbformat_minor": 5
}
