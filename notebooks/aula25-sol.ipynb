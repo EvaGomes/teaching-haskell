{
 "cells": [
  {
   "cell_type": "markdown",
   "id": "79470f58-522a-42cc-857d-3a7e4674c3f7",
   "metadata": {
    "deletable": false,
    "editable": false,
    "tags": []
   },
   "source": [
    "<span style=\"color:darkblue\"> ⚠️ **IMPORTANTE**</span>: **CORRE O CÓDIGO SEGUINTE** antes de começares a aula, senão alguns códigos não vão funcionar!\n",
    "<br><span style=\"color:gray\">(Para isso, clica na caixa de código abaixo e depois carrega no botão ![image.png](./assets/play.PNG) que está na barra em cima).</span>"
   ]
  },
  {
   "cell_type": "code",
   "execution_count": 1,
   "id": "f6e5fed9-6668-4155-a1d6-b367c0b542df",
   "metadata": {
    "deletable": false,
    "editable": false,
    "tags": []
   },
   "outputs": [
    {
     "data": {
      "text/plain": [
       "Feito!"
      ]
     },
     "metadata": {},
     "output_type": "display_data"
    }
   ],
   "source": [
    ":opt no-lint\n",
    ":l scripts/ensico.hs\n",
    "putStrLn (['F']++['e','i','t']++\"o!\")"
   ]
  },
  {
   "cell_type": "markdown",
   "id": "6f6bfade-26b6-4b19-81e3-ef1e6bce2c09",
   "metadata": {
    "deletable": false,
    "editable": false,
    "tags": []
   },
   "source": [
    "# Aula 25 - Soluções dos exercícios"
   ]
  },
  {
   "cell_type": "markdown",
   "id": "68269637-a41d-4e0f-9531-82d3956c81ce",
   "metadata": {
    "deletable": false,
    "editable": false,
    "tags": []
   },
   "source": [
    "## Pergunta 2\n",
    "Qual é o resultado que o Jupyter dá para a seguinte instrução?"
   ]
  },
  {
   "cell_type": "code",
   "execution_count": 2,
   "id": "34fa97e2-c3fb-405a-8f32-52f61f6c261e",
   "metadata": {
    "deletable": false,
    "editable": false,
    "tags": []
   },
   "outputs": [
    {
     "data": {
      "text/plain": [
       "582"
      ]
     },
     "metadata": {},
     "output_type": "display_data"
    }
   ],
   "source": [
    "[381,227,331,528,134,454,432,129,273,123,519,352,313,48,386,438,68,117,257,191, 462,179,12,455,49,27,552,568,327,220,296,240,15,306,283,157,537,73,281,262, 432,271,392,71,212,482,431,73,387,532,378,99,387,582,470,247,560,107,53,299, 554,90,466,70,363,187,245,282,10,315,478,294,296,554,447,84,551,315,493,441, 514,488,79,1,250,150,467,526,199,394,4,575,118,307,550,47,294,23,469,538] |> maximum"
   ]
  },
  {
   "cell_type": "markdown",
   "id": "4d3a4a4a-361e-43ef-bde6-7db13577dad6",
   "metadata": {
    "deletable": false,
    "editable": false,
    "tags": []
   },
   "source": [
    "## Pergunta 3\n",
    "Qual é o resultado que o Jupyter dá para a seguinte instrução?"
   ]
  },
  {
   "cell_type": "code",
   "execution_count": 3,
   "id": "37dbf3a5-9aeb-415b-afe4-734a3eb9d09c",
   "metadata": {
    "deletable": false,
    "editable": false,
    "tags": []
   },
   "outputs": [
    {
     "data": {
      "text/plain": [
       "29995"
      ]
     },
     "metadata": {},
     "output_type": "display_data"
    }
   ],
   "source": [
    "[381,227,331,528,134,454,432,129,273,123,519,352,313,48,386,438,68,117, 257,191,462,179,12,455,49,27,552,568,327,220,296,240,15,306,283,157, 537,73,281,262,432,271,392,71,212,482,431,73,387,532,378,99,387, 582,470,247,560,107,53,299,554,90,466,70,363,187,245,282,10,315, 478,294,296,554,447,84,551,315,493,441,514,488,79,1,250,150,467, 526,199,394,4,575,118,307,550,47,294,23,469,538] |> sum"
   ]
  },
  {
   "cell_type": "markdown",
   "id": "9ca1444c-b5d6-4c6d-aa26-769039ba28b7",
   "metadata": {
    "deletable": false,
    "editable": false,
    "tags": []
   },
   "source": [
    "## Pergunta 4\n",
    "Qual é o resultado que o Jupyter dá para a seguinte instrução?"
   ]
  },
  {
   "cell_type": "code",
   "execution_count": 4,
   "id": "e614b19b-6a3e-4260-86ff-bdc8a00480b5",
   "metadata": {
    "deletable": false,
    "editable": false,
    "tags": []
   },
   "outputs": [
    {
     "data": {
      "text/plain": [
       "975"
      ]
     },
     "metadata": {},
     "output_type": "display_data"
    }
   ],
   "source": [
    "\"Rafael Leão é um futebolista português. Descendente de angolanos, nasceu em 1999 em Almada com o nome completo Rafael Alexandre Conceição Leão. Ingressou no Sporting CP aos 9 anos de idade após um breve período no Amora. Em 2017, ainda jovem, estreou-se na equipa sénior do Sporting contra o Braga B, entrando como substituto no segundo tempo e marcando no empate por 1 a 1. Por decisão do técnico Jorge Jesus, Leão jogou pela primeira vez na Primeira Liga em 2018, substituindo Bryan Ruiz nos últimos 21 minutos da vitória em casa por 2-0 sobre o Feirense. No dia 2 de março, tornou-se no mais jovem jogador do Sporting a marcar contra o FC Porto. Em junho do mesmo ano, Rafael Leão rescindiu o seu contrato com o Sporting, após o ataque de Alcochete, e mudou-se para o clube francês Lille, por uma época. Em agosto de 2019, ele assinou um contrato de cinco anos no Milan onde ainda joga atualmente. Pela seleção nacional portuguesa, participou em 18 jogos e marcou 3 golos.\" |> length"
   ]
  },
  {
   "cell_type": "markdown",
   "id": "e8f03824-6e0b-4fca-a61b-683e90b40ef7",
   "metadata": {
    "deletable": false,
    "editable": false,
    "tags": []
   },
   "source": [
    "## Pergunta 5\n",
    "Qual é o resultado que o Jupyter dá para a seguinte instrução?"
   ]
  },
  {
   "cell_type": "code",
   "execution_count": 5,
   "id": "d89f82b5-be8e-4a7f-a21a-d1f0f7b0409f",
   "metadata": {
    "deletable": false,
    "editable": false,
    "tags": []
   },
   "outputs": [
    {
     "data": {
      "text/plain": [
       "\"             .0127EFGaaaaabcdddddeeeeeeeeeeegiiiiiilllmmnnnnnnoooopprrsssttvvy\""
      ]
     },
     "metadata": {},
     "output_type": "display_data"
    }
   ],
   "source": [
    "\"Fortnite is an online video game developed by Epic Games and released in 2017.\" |> sort"
   ]
  },
  {
   "cell_type": "markdown",
   "id": "5ab5986a-e132-47ce-9c68-cff63cc3f580",
   "metadata": {
    "deletable": false,
    "editable": false,
    "tags": []
   },
   "source": [
    "## Pergunta 6\n",
    "Qual é o resultado que o Jupyter dá para a seguinte instrução?"
   ]
  },
  {
   "cell_type": "code",
   "execution_count": 6,
   "id": "075b78a4-09d0-4dc1-8b2b-5597b2860439",
   "metadata": {
    "deletable": false,
    "editable": false,
    "tags": []
   },
   "outputs": [
    {
     "data": {
      "text/plain": [
       "\".7102 ni desaeler dna semaG cipE yb depoleved emag oediv enilno na si etintroF\""
      ]
     },
     "metadata": {},
     "output_type": "display_data"
    }
   ],
   "source": [
    "\"Fortnite is an online video game developed by Epic Games and released in 2017.\" |> reverse"
   ]
  },
  {
   "cell_type": "markdown",
   "id": "bf34dcd3-c945-4c08-8b41-cac774acc4b7",
   "metadata": {
    "deletable": false,
    "editable": false,
    "tags": []
   },
   "source": [
    "## Pergunta 7\n",
    "Qual é o resultado que o Jupyter dá para a seguinte instrução?"
   ]
  },
  {
   "cell_type": "code",
   "execution_count": 7,
   "id": "efc6e4d6-485b-4ffb-8187-1bd54b388145",
   "metadata": {
    "deletable": false,
    "editable": false,
    "tags": []
   },
   "outputs": [
    {
     "data": {
      "text/plain": [
       "\"Fortnie salvdgmpbyEcG2017.\""
      ]
     },
     "metadata": {},
     "output_type": "display_data"
    }
   ],
   "source": [
    "\"Fortnite is an online video game developed by Epic Games and released in 2017.\" |> nub"
   ]
  },
  {
   "cell_type": "markdown",
   "id": "0d0f840f-eccf-4b2d-aed0-8103ca115dee",
   "metadata": {
    "deletable": false,
    "editable": false,
    "tags": []
   },
   "source": [
    "## Pergunta 8\n",
    "Qual é o resultado que o Jupyter dá para a seguinte instrução?"
   ]
  },
  {
   "cell_type": "code",
   "execution_count": 8,
   "id": "5e7cb421-32c4-4169-aad1-11cbf6b312ee",
   "metadata": {
    "deletable": false,
    "editable": false,
    "tags": []
   },
   "outputs": [
    {
     "data": {
      "text/plain": [
       "[\"Fortnite\",\"is\",\"an\",\"online\",\"video\",\"game\",\"developed\",\"by\",\"Epic\",\"Games\",\"and\",\"released\",\"in\",\"2017.\"]"
      ]
     },
     "metadata": {},
     "output_type": "display_data"
    }
   ],
   "source": [
    "\"Fortnite is an online video game developed by Epic Games and released in 2017.\" |> words"
   ]
  },
  {
   "cell_type": "markdown",
   "id": "04454016-6050-4556-8463-9381d5b8820e",
   "metadata": {
    "deletable": false,
    "editable": false,
    "tags": []
   },
   "source": [
    "## Pergunta 9\n",
    "Quantos números distintos tem esta sequência?\n",
    "\n",
    "`[381,227,331,528,134, 454,432,129,273,123,519, 352,313,48, 386,438,68,117,257,191,462,179,12, 455,49,27,552,568,327,220, 296,240,15,306,283, 157,537,73,281,262,432,271,392,71,212,482,431, 73,387,532,378, 99,387, 582,470,247,560,107,53, 299,554,90,466,70,363,187,245,282, 10,315,478, 294,296,554,447,84,551,315,493,441,514,488,79, 1,250, 150,467,526,199,394,4,575,118,307,550, 47,294,23,469,538]`"
   ]
  },
  {
   "cell_type": "code",
   "execution_count": 9,
   "id": "ef930d70-1bd2-4c25-9acf-d7ad07a5db5b",
   "metadata": {
    "deletable": false,
    "editable": false,
    "tags": []
   },
   "outputs": [
    {
     "data": {
      "text/plain": [
       "93"
      ]
     },
     "metadata": {},
     "output_type": "display_data"
    }
   ],
   "source": [
    "[381,227,331,528,134,454,432,129,273,123,519,352,313,48,386,438,68,117,257,191,462,179,12,455,49,27,552,568,327,220,296,240,15,306,283,157,537,73,281,262,432,271,392,71,212,482,431,73,387,532,378,99,387,582,470,247,560,107,53,299,554,90,466,70,363,187,245,282,10,315,478,294,296,554,447,84,551,315,493,441,514,488,79,1,250,150,467,526,199,394,4,575,118,307,550,47,294,23,469,538] |> nub |> length"
   ]
  },
  {
   "cell_type": "markdown",
   "id": "789b83cb-9383-4eb2-b91f-6e319bde9907",
   "metadata": {
    "deletable": false,
    "editable": false,
    "tags": []
   },
   "source": [
    "## Pergunta 10\n",
    "Quantas palavras tem esta string?\n",
    "\n",
    "`\"Rafael Leão é um futebolista português. Descendente de angolanos, nasceu em 1999 em Almada com o nome completo Rafael Alexandre Conceição Leão. Ingressou no Sporting CP aos 9 anos de idade após um breve período no Amora. Em 2017, ainda jovem, estreou-se na equipa sénior do Sporting contra o Braga B, entrando como substituto no segundo tempo e marcando no empate por 1 a 1. Por decisão do técnico Jorge Jesus, Leão jogou pela primeira vez na Primeira Liga em 2018, substituindo Bryan Ruiz nos últimos 21 minutos da vitória em casa por 2-0 sobre o Feirense. No dia 2 de março, tornou-se no mais jovem jogador do Sporting a marcar contra o FC Porto. Em junho do mesmo ano, Rafael Leão rescindiu o seu contrato com o Sporting, após o ataque de Alcochete, e mudou-se para o clube francês Lille, por uma época. Em agosto de 2019, ele assinou um contrato de cinco anos no Milan onde ainda joga atualmente. Pela seleção nacional portuguesa, participou em 18 jogos e marcou 3 golos.\"`"
   ]
  },
  {
   "cell_type": "code",
   "execution_count": 10,
   "id": "083e6e24-285f-48ee-9517-2723ab34cad4",
   "metadata": {
    "tags": []
   },
   "outputs": [
    {
     "data": {
      "text/plain": [
       "173"
      ]
     },
     "metadata": {},
     "output_type": "display_data"
    }
   ],
   "source": [
    "\"Rafael Leão é um futebolista português. Descendente de angolanos, nasceu em 1999 em Almada com o nome completo Rafael Alexandre Conceição Leão. Ingressou no Sporting CP aos 9 anos de idade após um breve período no Amora. Em 2017, ainda jovem, estreou-se na equipa sénior do Sporting contra o Braga B, entrando como substituto no segundo tempo e marcando no empate por 1 a 1. Por decisão do técnico Jorge Jesus, Leão jogou pela primeira vez na Primeira Liga em 2018, substituindo Bryan Ruiz nos últimos 21 minutos da vitória em casa por 2-0 sobre o Feirense. No dia 2 de março, tornou-se no mais jovem jogador do Sporting a marcar contra o FC Porto. Em junho do mesmo ano, Rafael Leão rescindiu o seu contrato com o Sporting, após o ataque de Alcochete, e mudou-se para o clube francês Lille, por uma época. Em agosto de 2019, ele assinou um contrato de cinco anos no Milan onde ainda joga atualmente. Pela seleção nacional portuguesa, participou em 18 jogos e marcou 3 golos.\" |> words |> length"
   ]
  }
 ],
 "metadata": {
  "kernelspec": {
   "display_name": "Haskell",
   "language": "haskell",
   "name": "haskell"
  },
  "language_info": {
   "codemirror_mode": "ihaskell",
   "file_extension": ".hs",
   "mimetype": "text/x-haskell",
   "name": "haskell",
   "pygments_lexer": "Haskell",
   "version": "9.4.5"
  }
 },
 "nbformat": 4,
 "nbformat_minor": 5
}
