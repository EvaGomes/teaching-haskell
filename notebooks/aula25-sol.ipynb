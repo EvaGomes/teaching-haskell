{
 "cells": [
  {
   "cell_type": "markdown",
   "id": "79470f58-522a-42cc-857d-3a7e4674c3f7",
   "metadata": {
    "deletable": false,
    "editable": false,
    "tags": []
   },
   "source": [
    "<span style=\"color:darkblue\"> ⚠️ <b>IMPORTANTE</b></span>: <b>CORRE A CAIXA DE CÓDIGO SEGUINTE</b> antes de começares as tuas experiências!\n",
    "<br><span style=\"color:gray\">(Para isso, clica na caixa e depois carrega no botão ![image.png](./assets/play.PNG) que está na barra acima).</span>"
   ]
  },
  {
   "cell_type": "code",
   "execution_count": null,
   "id": "f6e5fed9-6668-4155-a1d6-b367c0b542df",
   "metadata": {
    "deletable": false,
    "editable": false,
    "tags": []
   },
   "outputs": [],
   "source": [
    ":opt no-lint\n",
    ":l scripts/ensico.hs\n",
    "putStrLn (['F']++['e','i','t']++\"o!\")"
   ]
  },
  {
   "cell_type": "markdown",
   "id": "6f6bfade-26b6-4b19-81e3-ef1e6bce2c09",
   "metadata": {
    "deletable": false,
    "editable": false,
    "tags": []
   },
   "source": [
    "---\n",
    "\n",
    "# Soluções dos exercícios do Trabalho de Grupo 4 (2022/23)\n",
    "> **Computação - Ano 1 - Aula 25** (Aula Prática)<br>\n",
    "> © 2020-2024 ENSICO. Todos os direitos reservados"
   ]
  },
  {
   "cell_type": "markdown",
   "id": "68269637-a41d-4e0f-9531-82d3956c81ce",
   "metadata": {
    "deletable": false,
    "editable": false,
    "jp-MarkdownHeadingCollapsed": true,
    "tags": []
   },
   "source": [
    "## Pergunta 2\n",
    "Qual é o resultado que o Jupyter dá para a seguinte instrução?\n",
    "\n",
    "<code>[381,227,331,528,134,454,432,129,273,123,519,352,313,48,386,438,68,117,257,191, 462,179,12,455,49,27,552,568,327,220,296,240,15,306,283,157,537,73,281,262, 432,271,392,71,212,482,431,73,387,532,378,99,387,582,470,247,560,107,53,299, 554,90,466,70,363,187,245,282,10,315,478,294,296,554,447,84,551,315,493,441, 514,488,79,1,250,150,467,526,199,394,4,575,118,307,550,47,294,23,469,538] <b>|> maximum</b></code>\n",
    "\n",
    "**Solução:**"
   ]
  },
  {
   "cell_type": "code",
   "execution_count": 2,
   "id": "34fa97e2-c3fb-405a-8f32-52f61f6c261e",
   "metadata": {
    "deletable": false,
    "editable": false,
    "tags": []
   },
   "outputs": [
    {
     "data": {
      "text/plain": [
       "582"
      ]
     },
     "metadata": {},
     "output_type": "display_data"
    }
   ],
   "source": [
    "[381,227,331,528,134,454,432,129,273,123,519,352,313,48,386,438,68,117,257,191, 462,179,12,455,49,27,552,568,327,220,296,240,15,306,283,157,537,73,281,262, 432,271,392,71,212,482,431,73,387,532,378,99,387,582,470,247,560,107,53,299, 554,90,466,70,363,187,245,282,10,315,478,294,296,554,447,84,551,315,493,441, 514,488,79,1,250,150,467,526,199,394,4,575,118,307,550,47,294,23,469,538] |> maximum"
   ]
  },
  {
   "cell_type": "markdown",
   "id": "4d3a4a4a-361e-43ef-bde6-7db13577dad6",
   "metadata": {
    "deletable": false,
    "editable": false,
    "jp-MarkdownHeadingCollapsed": true,
    "tags": []
   },
   "source": [
    "## Pergunta 3\n",
    "Qual é o resultado que o Jupyter dá para a seguinte instrução?\n",
    "\n",
    "<code>[381,227,331,528,134,454,432,129,273,123,519,352,313,48,386,438,68,117,257,191, 462,179,12,455,49,27,552,568,327,220,296,240,15,306,283,157,537,73,281,262, 432,271,392,71,212,482,431,73,387,532,378,99,387,582,470,247,560,107,53,299, 554,90,466,70,363,187,245,282,10,315,478,294,296,554,447,84,551,315,493,441, 514,488,79,1,250,150,467,526,199,394,4,575,118,307,550,47,294,23,469,538] <b>|> sum</b></code>\n",
    "\n",
    "**Solução:**"
   ]
  },
  {
   "cell_type": "code",
   "execution_count": 3,
   "id": "37dbf3a5-9aeb-415b-afe4-734a3eb9d09c",
   "metadata": {
    "deletable": false,
    "editable": false,
    "tags": []
   },
   "outputs": [
    {
     "data": {
      "text/plain": [
       "29995"
      ]
     },
     "metadata": {},
     "output_type": "display_data"
    }
   ],
   "source": [
    "[381,227,331,528,134,454,432,129,273,123,519,352,313,48,386,438,68,117, 257,191,462,179,12,455,49,27,552,568,327,220,296,240,15,306,283,157, 537,73,281,262,432,271,392,71,212,482,431,73,387,532,378,99,387, 582,470,247,560,107,53,299,554,90,466,70,363,187,245,282,10,315, 478,294,296,554,447,84,551,315,493,441,514,488,79,1,250,150,467, 526,199,394,4,575,118,307,550,47,294,23,469,538] |> sum"
   ]
  },
  {
   "cell_type": "markdown",
   "id": "9ca1444c-b5d6-4c6d-aa26-769039ba28b7",
   "metadata": {
    "deletable": false,
    "editable": false,
    "jp-MarkdownHeadingCollapsed": true,
    "tags": []
   },
   "source": [
    "## Pergunta 4\n",
    "Qual é o resultado que o Jupyter dá para a seguinte instrução?\n",
    "\n",
    "<code>\"Rafael Leão é um futebolista português. Descendente de angolanos, nasceu em 1999 em Almada com o nome completo Rafael Alexandre Conceição Leão. Ingressou no Sporting CP aos 9 anos de idade após um breve período no Amora. Em 2017, ainda jovem, estreou-se na equipa sénior do Sporting contra o Braga B, entrando como substituto no segundo tempo e marcando no empate por 1 a 1. Por decisão do técnico Jorge Jesus, Leão jogou pela primeira vez na Primeira Liga em 2018, substituindo Bryan Ruiz nos últimos 21 minutos da vitória em casa por 2-0 sobre o Feirense. No dia 2 de março, tornou-se no mais jovem jogador do Sporting a marcar contra o FC Porto. Em junho do mesmo ano, Rafael Leão rescindiu o seu contrato com o Sporting, após o ataque de Alcochete, e mudou-se para o clube francês Lille por cinco anos. Em agosto de 2019, ele assinou um contrato de cinco anos no Milan onde ainda joga atualmente. Pela seleção nacional portuguesa, participou em 18 jogos e marcou 3 golos.\" <b>|> length</b></code>\n",
    "\n",
    "**Solução:**"
   ]
  },
  {
   "cell_type": "code",
   "execution_count": 4,
   "id": "e614b19b-6a3e-4260-86ff-bdc8a00480b5",
   "metadata": {
    "deletable": false,
    "editable": false,
    "tags": []
   },
   "outputs": [
    {
     "data": {
      "text/plain": [
       "975"
      ]
     },
     "metadata": {},
     "output_type": "display_data"
    }
   ],
   "source": [
    "\"Rafael Leão é um futebolista português. Descendente de angolanos, nasceu em 1999 em Almada com o nome completo Rafael Alexandre Conceição Leão. Ingressou no Sporting CP aos 9 anos de idade após um breve período no Amora. Em 2017, ainda jovem, estreou-se na equipa sénior do Sporting contra o Braga B, entrando como substituto no segundo tempo e marcando no empate por 1 a 1. Por decisão do técnico Jorge Jesus, Leão jogou pela primeira vez na Primeira Liga em 2018, substituindo Bryan Ruiz nos últimos 21 minutos da vitória em casa por 2-0 sobre o Feirense. No dia 2 de março, tornou-se no mais jovem jogador do Sporting a marcar contra o FC Porto. Em junho do mesmo ano, Rafael Leão rescindiu o seu contrato com o Sporting, após o ataque de Alcochete, e mudou-se para o clube francês Lille, por uma época. Em agosto de 2019, ele assinou um contrato de cinco anos no Milan onde ainda joga atualmente. Pela seleção nacional portuguesa, participou em 18 jogos e marcou 3 golos.\" |> length"
   ]
  },
  {
   "cell_type": "markdown",
   "id": "e8f03824-6e0b-4fca-a61b-683e90b40ef7",
   "metadata": {
    "deletable": false,
    "editable": false,
    "jp-MarkdownHeadingCollapsed": true,
    "tags": []
   },
   "source": [
    "## Pergunta 5\n",
    "Qual é o resultado que o Jupyter dá para a seguinte instrução?\n",
    "\n",
    "<code>\"Fortnite is an online video game developed by Epic Games and released in 2017.\" <b>|> sort</b></code>\n",
    "\n",
    "**Solução:**"
   ]
  },
  {
   "cell_type": "code",
   "execution_count": 5,
   "id": "d89f82b5-be8e-4a7f-a21a-d1f0f7b0409f",
   "metadata": {
    "deletable": false,
    "editable": false,
    "tags": []
   },
   "outputs": [
    {
     "data": {
      "text/plain": [
       "\"             .0127EFGaaaaabcdddddeeeeeeeeeeegiiiiiilllmmnnnnnnoooopprrsssttvvy\""
      ]
     },
     "metadata": {},
     "output_type": "display_data"
    }
   ],
   "source": [
    "\"Fortnite is an online video game developed by Epic Games and released in 2017.\" |> sort"
   ]
  },
  {
   "cell_type": "markdown",
   "id": "5ab5986a-e132-47ce-9c68-cff63cc3f580",
   "metadata": {
    "deletable": false,
    "editable": false,
    "jp-MarkdownHeadingCollapsed": true,
    "tags": []
   },
   "source": [
    "## Pergunta 6\n",
    "Qual é o resultado que o Jupyter dá para a seguinte instrução?\n",
    "\n",
    "<code>\"Fortnite is an online video game developed by Epic Games and released in 2017.\" <b>|> reverse</b></code>\n",
    "\n",
    "**Solução:**"
   ]
  },
  {
   "cell_type": "code",
   "execution_count": 6,
   "id": "075b78a4-09d0-4dc1-8b2b-5597b2860439",
   "metadata": {
    "deletable": false,
    "editable": false,
    "tags": []
   },
   "outputs": [
    {
     "data": {
      "text/plain": [
       "\".7102 ni desaeler dna semaG cipE yb depoleved emag oediv enilno na si etintroF\""
      ]
     },
     "metadata": {},
     "output_type": "display_data"
    }
   ],
   "source": [
    "\"Fortnite is an online video game developed by Epic Games and released in 2017.\" |> reverse"
   ]
  },
  {
   "cell_type": "markdown",
   "id": "bf34dcd3-c945-4c08-8b41-cac774acc4b7",
   "metadata": {
    "deletable": false,
    "editable": false,
    "jp-MarkdownHeadingCollapsed": true,
    "tags": []
   },
   "source": [
    "## Pergunta 7\n",
    "Qual é o resultado que o Jupyter dá para a seguinte instrução?\n",
    "\n",
    "<code>\"Fortnite is an online video game developed by Epic Games and released in 2017.\" <b>|> nub</b></code>\n",
    "\n",
    "**Solução:**"
   ]
  },
  {
   "cell_type": "code",
   "execution_count": 7,
   "id": "efc6e4d6-485b-4ffb-8187-1bd54b388145",
   "metadata": {
    "deletable": false,
    "editable": false,
    "tags": []
   },
   "outputs": [
    {
     "data": {
      "text/plain": [
       "\"Fortnie salvdgmpbyEcG2017.\""
      ]
     },
     "metadata": {},
     "output_type": "display_data"
    }
   ],
   "source": [
    "\"Fortnite is an online video game developed by Epic Games and released in 2017.\" |> nub"
   ]
  },
  {
   "cell_type": "markdown",
   "id": "0d0f840f-eccf-4b2d-aed0-8103ca115dee",
   "metadata": {
    "deletable": false,
    "editable": false,
    "jp-MarkdownHeadingCollapsed": true,
    "tags": []
   },
   "source": [
    "## Pergunta 8\n",
    "Qual é o resultado que o Jupyter dá para a seguinte instrução?\n",
    "\n",
    "<code>\"Fortnite is an online video game developed by Epic Games and released in 2017.\" <b>|> words</b></code>\n",
    "\n",
    "**Solução:**"
   ]
  },
  {
   "cell_type": "code",
   "execution_count": 8,
   "id": "5e7cb421-32c4-4169-aad1-11cbf6b312ee",
   "metadata": {
    "deletable": false,
    "editable": false,
    "tags": []
   },
   "outputs": [
    {
     "data": {
      "text/plain": [
       "[\"Fortnite\",\"is\",\"an\",\"online\",\"video\",\"game\",\"developed\",\"by\",\"Epic\",\"Games\",\"and\",\"released\",\"in\",\"2017.\"]"
      ]
     },
     "metadata": {},
     "output_type": "display_data"
    }
   ],
   "source": [
    "\"Fortnite is an online video game developed by Epic Games and released in 2017.\" |> words"
   ]
  },
  {
   "cell_type": "markdown",
   "id": "bf852525-e0b1-4cd5-a256-a6693731080a",
   "metadata": {
    "deletable": false,
    "editable": false,
    "jp-MarkdownHeadingCollapsed": true,
    "tags": []
   },
   "source": [
    "## Pergunta 9\n",
    "<u>Quantos</u> números <u>distintos</u> tem esta lista?\n",
    "\n",
    "`[381,227,331,528,134, 454,432,129,273,123,519, 352,313,48, 386,438,68,117,257,191,462,179,12, 455,49,27,552,568,327,220, 296,240,15,306,283, 157,537,73,281,262,432,271,392,71,212,482,431, 73,387,532,378, 99,387, 582,470,247,560,107,53, 299,554,90,466,70,363,187,245,282, 10,315,478, 294,296,554,447,84,551,315,493,441,514,488,79, 1,250, 150,467,526,199,394,4,575,118,307,550, 47,294,23,469,538]`\n",
    "\n",
    "<small><b>Pista:</b> Vais precisar de fazer 2 transformações.</small>\n",
    "\n",
    "**Solução:**"
   ]
  },
  {
   "cell_type": "markdown",
   "id": "84de4d00-5b84-4047-a2bb-c1bc0776562b",
   "metadata": {
    "deletable": false,
    "editable": false,
    "tags": []
   },
   "source": [
    "Para saber que números distintos existem na lista, temos de tirar os repetidos com a transformação `nub`."
   ]
  },
  {
   "cell_type": "code",
   "execution_count": 9,
   "id": "0a86fc16-53c8-4833-9dd6-dd3673638cb9",
   "metadata": {
    "tags": []
   },
   "outputs": [
    {
     "data": {
      "text/plain": [
       "[381,227,331,528,134,454,432,129,273,123,519,352,313,48,386,438,68,117,257,191,462,179,12,455,49,27,552,568,327,220,296,240,15,306,283,157,537,73,281,262,271,392,71,212,482,431,387,532,378,99,582,470,247,560,107,53,299,554,90,466,70,363,187,245,282,10,315,478,294,447,84,551,493,441,514,488,79,1,250,150,467,526,199,394,4,575,118,307,550,47,23,469,538]"
      ]
     },
     "metadata": {},
     "output_type": "display_data"
    }
   ],
   "source": [
    "[381,227,331,528,134,454,432,129,273,123,519,352,313,48,386,438,68,117,257,191,462,179,12,455,49,27,552,568,327,220,296,240,15,306,283,157,537,73,281,262,432,271,392,71,212,482,431,73,387,532,378,99,387,582,470,247,560,107,53,299,554,90,466,70,363,187,245,282,10,315,478,294,296,554,447,84,551,315,493,441,514,488,79,1,250,150,467,526,199,394,4,575,118,307,550,47,294,23,469,538] |> nub"
   ]
  },
  {
   "cell_type": "markdown",
   "id": "b096ea34-5315-4ca2-b3b9-b098c2815e03",
   "metadata": {
    "deletable": false,
    "editable": false,
    "tags": []
   },
   "source": [
    "Quando já só temos números distintos na nossa lista, vamos contá-los usando a transformação `length`."
   ]
  },
  {
   "cell_type": "code",
   "execution_count": 10,
   "id": "ef930d70-1bd2-4c25-9acf-d7ad07a5db5b",
   "metadata": {
    "deletable": false,
    "editable": false,
    "tags": []
   },
   "outputs": [
    {
     "data": {
      "text/plain": [
       "93"
      ]
     },
     "metadata": {},
     "output_type": "display_data"
    }
   ],
   "source": [
    "[381,227,331,528,134,454,432,129,273,123,519,352,313,48,386,438,68,117,257,191,462,179,12,455,49,27,552,568,327,220,296,240,15,306,283,157,537,73,281,262,432,271,392,71,212,482,431,73,387,532,378,99,387,582,470,247,560,107,53,299,554,90,466,70,363,187,245,282,10,315,478,294,296,554,447,84,551,315,493,441,514,488,79,1,250,150,467,526,199,394,4,575,118,307,550,47,294,23,469,538] |> nub |> length"
   ]
  },
  {
   "cell_type": "markdown",
   "id": "c4411b0c-507b-4282-be0d-caaaa090f27a",
   "metadata": {
    "deletable": false,
    "editable": false,
    "jp-MarkdownHeadingCollapsed": true,
    "tags": []
   },
   "source": [
    "## Pergunta 10\n",
    "<u>Quantas palavras</u> tem esta string?\n",
    "\n",
    "`\"Rafael Leão é um futebolista português. Descendente de angolanos, nasceu em 1999 em Almada com o nome completo Rafael Alexandre Conceição Leão. Ingressou no Sporting CP aos 9 anos de idade após um breve período no Amora. Em 2017, ainda jovem, estreou-se na equipa sénior do Sporting contra o Braga B, entrando como substituto no segundo tempo e marcando no empate por 1 a 1. Por decisão do técnico Jorge Jesus, Leão jogou pela primeira vez na Primeira Liga em 2018, substituindo Bryan Ruiz nos últimos 21 minutos da vitória em casa por 2-0 sobre o Feirense. No dia 2 de março, tornou-se no mais jovem jogador do Sporting a marcar contra o FC Porto. Em junho do mesmo ano, Rafael Leão rescindiu o seu contrato com o Sporting, após o ataque de Alcochete, e mudou-se para o clube francês Lille, por uma época. Em agosto de 2019, ele assinou um contrato de cinco anos no Milan onde ainda joga atualmente. Pela seleção nacional portuguesa, participou em 18 jogos e marcou 3 golos.\"`\n",
    "\n",
    "<small><b>Pista:</b> Vais precisar de fazer 2 transformações.</small>\n",
    "\n",
    "**Solução:**"
   ]
  },
  {
   "cell_type": "markdown",
   "id": "637ca9c3-06cb-40d3-b354-375b93528868",
   "metadata": {
    "deletable": false,
    "editable": false,
    "tags": []
   },
   "source": [
    "Para conseguirmos contar as palavras desta _string_, vamos começar por parti-la numa lista de palavras, utilizando a transformação `words`."
   ]
  },
  {
   "cell_type": "code",
   "execution_count": 11,
   "id": "220d558f-45a8-4a8c-9622-9284b50480e7",
   "metadata": {
    "deletable": false,
    "editable": false,
    "tags": []
   },
   "outputs": [
    {
     "data": {
      "text/plain": [
       "[\"Rafael\",\"Le\\227o\",\"\\233\",\"um\",\"futebolista\",\"portugu\\234s.\",\"Descendente\",\"de\",\"angolanos,\",\"nasceu\",\"em\",\"1999\",\"em\",\"Almada\",\"com\",\"o\",\"nome\",\"completo\",\"Rafael\",\"Alexandre\",\"Concei\\231\\227o\",\"Le\\227o.\",\"Ingressou\",\"no\",\"Sporting\",\"CP\",\"aos\",\"9\",\"anos\",\"de\",\"idade\",\"ap\\243s\",\"um\",\"breve\",\"per\\237odo\",\"no\",\"Amora.\",\"Em\",\"2017,\",\"ainda\",\"jovem,\",\"estreou-se\",\"na\",\"equipa\",\"s\\233nior\",\"do\",\"Sporting\",\"contra\",\"o\",\"Braga\",\"B,\",\"entrando\",\"como\",\"substituto\",\"no\",\"segundo\",\"tempo\",\"e\",\"marcando\",\"no\",\"empate\",\"por\",\"1\",\"a\",\"1.\",\"Por\",\"decis\\227o\",\"do\",\"t\\233cnico\",\"Jorge\",\"Jesus,\",\"Le\\227o\",\"jogou\",\"pela\",\"primeira\",\"vez\",\"na\",\"Primeira\",\"Liga\",\"em\",\"2018,\",\"substituindo\",\"Bryan\",\"Ruiz\",\"nos\",\"\\250ltimos\",\"21\",\"minutos\",\"da\",\"vit\\243ria\",\"em\",\"casa\",\"por\",\"2-0\",\"sobre\",\"o\",\"Feirense.\",\"No\",\"dia\",\"2\",\"de\",\"mar\\231o,\",\"tornou-se\",\"no\",\"mais\",\"jovem\",\"jogador\",\"do\",\"Sporting\",\"a\",\"marcar\",\"contra\",\"o\",\"FC\",\"Porto.\",\"Em\",\"junho\",\"do\",\"mesmo\",\"ano,\",\"Rafael\",\"Le\\227o\",\"rescindiu\",\"o\",\"seu\",\"contrato\",\"com\",\"o\",\"Sporting,\",\"ap\\243s\",\"o\",\"ataque\",\"de\",\"Alcochete,\",\"e\",\"mudou-se\",\"para\",\"o\",\"clube\",\"franc\\234s\",\"Lille,\",\"por\",\"uma\",\"\\233poca.\",\"Em\",\"agosto\",\"de\",\"2019,\",\"ele\",\"assinou\",\"um\",\"contrato\",\"de\",\"cinco\",\"anos\",\"no\",\"Milan\",\"onde\",\"ainda\",\"joga\",\"atualmente.\",\"Pela\",\"sele\\231\\227o\",\"nacional\",\"portuguesa,\",\"participou\",\"em\",\"18\",\"jogos\",\"e\",\"marcou\",\"3\",\"golos.\"]"
      ]
     },
     "metadata": {},
     "output_type": "display_data"
    }
   ],
   "source": [
    "\"Rafael Leão é um futebolista português. Descendente de angolanos, nasceu em 1999 em Almada com o nome completo Rafael Alexandre Conceição Leão. Ingressou no Sporting CP aos 9 anos de idade após um breve período no Amora. Em 2017, ainda jovem, estreou-se na equipa sénior do Sporting contra o Braga B, entrando como substituto no segundo tempo e marcando no empate por 1 a 1. Por decisão do técnico Jorge Jesus, Leão jogou pela primeira vez na Primeira Liga em 2018, substituindo Bryan Ruiz nos últimos 21 minutos da vitória em casa por 2-0 sobre o Feirense. No dia 2 de março, tornou-se no mais jovem jogador do Sporting a marcar contra o FC Porto. Em junho do mesmo ano, Rafael Leão rescindiu o seu contrato com o Sporting, após o ataque de Alcochete, e mudou-se para o clube francês Lille, por uma época. Em agosto de 2019, ele assinou um contrato de cinco anos no Milan onde ainda joga atualmente. Pela seleção nacional portuguesa, participou em 18 jogos e marcou 3 golos.\" |> words"
   ]
  },
  {
   "cell_type": "markdown",
   "id": "49a67f82-e80a-4d60-893c-01dc9d27a017",
   "metadata": {
    "deletable": false,
    "editable": false,
    "tags": []
   },
   "source": [
    "Depois de termos uma lista de palavras (uma lista onde cada elemento é uma palavra), usamos a transformação `length` para contar quantos elementos há nessa lista."
   ]
  },
  {
   "cell_type": "code",
   "execution_count": 12,
   "id": "083e6e24-285f-48ee-9517-2723ab34cad4",
   "metadata": {
    "deletable": false,
    "editable": false,
    "tags": []
   },
   "outputs": [
    {
     "data": {
      "text/plain": [
       "173"
      ]
     },
     "metadata": {},
     "output_type": "display_data"
    }
   ],
   "source": [
    "\"Rafael Leão é um futebolista português. Descendente de angolanos, nasceu em 1999 em Almada com o nome completo Rafael Alexandre Conceição Leão. Ingressou no Sporting CP aos 9 anos de idade após um breve período no Amora. Em 2017, ainda jovem, estreou-se na equipa sénior do Sporting contra o Braga B, entrando como substituto no segundo tempo e marcando no empate por 1 a 1. Por decisão do técnico Jorge Jesus, Leão jogou pela primeira vez na Primeira Liga em 2018, substituindo Bryan Ruiz nos últimos 21 minutos da vitória em casa por 2-0 sobre o Feirense. No dia 2 de março, tornou-se no mais jovem jogador do Sporting a marcar contra o FC Porto. Em junho do mesmo ano, Rafael Leão rescindiu o seu contrato com o Sporting, após o ataque de Alcochete, e mudou-se para o clube francês Lille, por uma época. Em agosto de 2019, ele assinou um contrato de cinco anos no Milan onde ainda joga atualmente. Pela seleção nacional portuguesa, participou em 18 jogos e marcou 3 golos.\" |> words |> length"
   ]
  }
 ],
 "metadata": {
  "kernelspec": {
   "display_name": "Haskell",
   "language": "haskell",
   "name": "haskell"
  },
  "language_info": {
   "codemirror_mode": "ihaskell",
   "file_extension": ".hs",
   "mimetype": "text/x-haskell",
   "name": "haskell",
   "pygments_lexer": "Haskell",
   "version": "9.4.5"
  }
 },
 "nbformat": 4,
 "nbformat_minor": 5
}
