{
  "cells": [
    {
      "cell_type": "markdown",
      "id": "73d8fbb5-5609-467d-98cf-71efb380a15d",
      "metadata": {
        "deletable": false,
        "editable": false,
        "tags": []
      },
      "source": [
        "<span style=\"color:darkblue\"> ⚠️ <b>IMPORTANTE</b></span>: <b>CORRE A CAIXA DE CÓDIGO SEGUINTE</b> antes de começares as tuas experiências!\n",
        "<br><span style=\"color:gray\">(Para isso, clica na caixa e depois carrega no botão ![image.png](./assets/play.PNG) que está na barra acima).</span>"
      ]
    },
    {
      "cell_type": "code",
      "execution_count": null,
      "id": "de792aaa-432e-4748-9735-bf3f63c90e6e",
      "metadata": {
        "deletable": false,
        "editable": false,
        "tags": []
      },
      "outputs": [],
      "source": [
        ":opt no-lint\n",
        ":l scripts/ensico.hs\n",
        "putStrLn (['F']++['e','i','t']++\"o!\")"
      ]
    },
    {
      "cell_type": "markdown",
      "id": "be4bc0d9-26de-4a7e-a117-2c280a67c0be",
      "metadata": {
        "deletable": false,
        "editable": false,
        "tags": []
      },
      "source": [
        "---\n",
        "\n",
        "# Transformações `fst` e `snd`\n",
        "> **Computação - Ano 2 - Aula 10** <br>\n",
        "> © 2020-2024 ENSICO. Todos os direitos reservados",
        "\n",
        "---\n"
      ]
    },
    {
      "cell_type": "markdown",
      "id": "55d93f48-c074-4788-bd95-202f32d40c6b",
      "metadata": {},
      "source": [
        "markdown"
      ]
    },
    {
      "cell_type": "code",
      "execution_count": null,
      "id": "6572ad86-e48e-4c8e-94fe-7c37ccd276cf",
      "metadata": {
        "tags": []
      },
      "outputs": [],
      "source": [
        "code"
      ]
    }
  ],
  "metadata": {
    "kernelspec": {
      "display_name": "Haskell",
      "language": "haskell",
      "name": "haskell"
    },
    "language_info": {
      "codemirror_mode": "ihaskell",
      "file_extension": ".hs",
      "mimetype": "text/x-haskell",
      "name": "haskell",
      "pygments_lexer": "Haskell",
      "version": "9.4.5"
    }
  },
  "nbformat": 4,
  "nbformat_minor": 5
}
