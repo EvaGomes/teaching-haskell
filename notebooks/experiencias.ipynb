{
 "cells": [
  {
   "cell_type": "markdown",
   "id": "79470f58-522a-42cc-857d-3a7e4674c3f7",
   "metadata": {},
   "source": [
    "<span style=\"color:darkblue\"> ⚠️ **IMPORTANTE**</span>: **CORRE O CÓDIGO SEGUINTE** antes de começares a aula, senão alguns códigos não vão funcionar!\n",
    "<br><span style=\"color:gray\">(Para isso, clica na caixa de código abaixo e depois carrega no botão ![image.png](./assets/play.PNG) que está na barra em cima).</span>"
   ]
  },
  {
   "cell_type": "code",
   "execution_count": null,
   "id": "f6e5fed9-6668-4155-a1d6-b367c0b542df",
   "metadata": {
    "tags": []
   },
   "outputs": [],
   "source": [
    ":m Data.Char\n",
    ":m Data.List\n",
    ":l scripts/ensico.hs\n",
    "putStrLn (['F']++['e','i','t']++\"o!\")"
   ]
  },
  {
   "cell_type": "markdown",
   "id": "6f6bfade-26b6-4b19-81e3-ef1e6bce2c09",
   "metadata": {},
   "source": [
    "# As vossas experiências"
   ]
  },
  {
   "cell_type": "code",
   "execution_count": null,
   "id": "34fa97e2-c3fb-405a-8f32-52f61f6c261e",
   "metadata": {},
   "outputs": [],
   "source": []
  },
  {
   "cell_type": "code",
   "execution_count": null,
   "id": "37dbf3a5-9aeb-415b-afe4-734a3eb9d09c",
   "metadata": {},
   "outputs": [],
   "source": []
  },
  {
   "cell_type": "code",
   "execution_count": null,
   "id": "e614b19b-6a3e-4260-86ff-bdc8a00480b5",
   "metadata": {},
   "outputs": [],
   "source": []
  },
  {
   "cell_type": "code",
   "execution_count": null,
   "id": "d89f82b5-be8e-4a7f-a21a-d1f0f7b0409f",
   "metadata": {},
   "outputs": [],
   "source": []
  },
  {
   "cell_type": "code",
   "execution_count": null,
   "id": "5e7cb421-32c4-4169-aad1-11cbf6b312ee",
   "metadata": {},
   "outputs": [],
   "source": []
  },
  {
   "cell_type": "code",
   "execution_count": null,
   "id": "8063fafa-79c8-4ce8-886c-62dba9d0a0bc",
   "metadata": {},
   "outputs": [],
   "source": []
  },
  {
   "cell_type": "code",
   "execution_count": null,
   "id": "4b2aa488-2493-4daf-8510-c8b54c316db7",
   "metadata": {},
   "outputs": [],
   "source": []
  },
  {
   "cell_type": "code",
   "execution_count": null,
   "id": "083e6e24-285f-48ee-9517-2723ab34cad4",
   "metadata": {},
   "outputs": [],
   "source": []
  }
 ],
 "metadata": {
  "kernelspec": {
   "display_name": "Haskell",
   "language": "haskell",
   "name": "haskell"
  },
  "language_info": {
   "codemirror_mode": "ihaskell",
   "file_extension": ".hs",
   "mimetype": "text/x-haskell",
   "name": "haskell",
   "pygments_lexer": "Haskell",
   "version": "9.2.7"
  }
 },
 "nbformat": 4,
 "nbformat_minor": 5
}
