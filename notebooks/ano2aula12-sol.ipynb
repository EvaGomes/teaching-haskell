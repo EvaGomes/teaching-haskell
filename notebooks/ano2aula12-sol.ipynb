{
 "cells": [
  {
   "cell_type": "markdown",
   "id": "73d8fbb5-5609-467d-98cf-71efb380a15d",
   "metadata": {
    "deletable": false,
    "editable": false,
    "tags": []
   },
   "source": [
    "<span style=\"color:darkblue\"> ⚠️ <b>IMPORTANTE</b></span>: <b>CORRE A CAIXA DE CÓDIGO SEGUINTE</b> antes de começares as tuas experiências!\n",
    "<br><span style=\"color:gray\">(Para isso, clica na caixa e depois carrega no botão ![image.png](./assets/play.PNG) que está na barra acima).</span>"
   ]
  },
  {
   "cell_type": "code",
   "execution_count": null,
   "id": "de792aaa-432e-4748-9735-bf3f63c90e6e",
   "metadata": {
    "deletable": false,
    "editable": false,
    "tags": []
   },
   "outputs": [],
   "source": [
    ":opt no-lint\n",
    ":l scripts/ensico.hs\n",
    "putStrLn (['F']++['e','i','t']++\"o!\")"
   ]
  },
  {
   "cell_type": "markdown",
   "id": "6f6bfade-26b6-4b19-81e3-ef1e6bce2c09",
   "metadata": {
    "deletable": false,
    "editable": false,
    "tags": []
   },
   "source": [
    "---\n",
    "\n",
    "# Soluções dos exercícios do Trabalho de Grupo 3 (2023/24)\n",
    "> **Computação - Ano 2 - Aula 12** (Aula Prática)<br>\n",
    "> © 2020-2024 ENSICO. Todos os direitos reservados"
   ]
  },
  {
   "cell_type": "markdown",
   "id": "c76d464f-7caa-448b-9769-447bc7f8b4a5",
   "metadata": {
    "tags": []
   },
   "source": [
    "---\n",
    "## Perguntas 2-5"
   ]
  },
  {
   "cell_type": "markdown",
   "id": "3dd045b5-3928-4d66-bc85-9ac305b70b86",
   "metadata": {},
   "source": [
    "Observa o seguinte **dicionário** com traduções de palavras portuguesas para língua dos elfos.\n",
    "\n",
    "<code><b>dicioPortuguêsElfês</b> = [(\"tempestade\",\"Huan\"), (\"lugar\",\"Iilor\"), (\"neta\",\"A'A'Sum\"), (\"floresta\",\"Vandor\"), (\"assombrado\",\"Aes\"), (\"encontro\",\"Aelou\"), (\"professor\",\"Aerister\"), (\"neta\",\"A'E'Sum\"), (\"noite\",\"Ahnvae\"), (\"antigo\",\"Akai'ye\"), (\"primitivo\",\"Akai'ye\"), (\"dever\",\"Akh\"), (\"necessidade\",\"Akh\"), (\"guerreiro\",\"Akhrua\"), (\"copo\",\"Aloun\"), (\"chuva\",\"Alushtas\"), (\"nuvem\",\"Ammur\"), (\"conselho\",\"Amrulugek\"), (\"encontro\",\"Amrulugek\"), (\"nefasto\",\"Anilessa\"), (\"pronto\",\"Aniq\"), (\"sol\",\"Ar\"), (\"luz solar\",\"Arivae\"), (\"grande espada\",\"Arkerym\"), (\"tempestade\",\"Arrn\"), (\"nobre\",\"Ary\"), (\"filha\",\"A'Sum\"), (\"alegria\",\"Avae\"), (\"menino\",\"Bhin\"), (\"rapaz\",\"Bhin\"), (\"lixo\",\"Biir\"), (\"cogumelo\",\"Blalath\"), (\"cogumelos\",\"Blalatha\"), (\"metade\",\"Cha\"), (\"paz\",\"Cinna\"), (\"grande\",\"Cor\"), (\"raio de sol\",\"Crithta\"), (\"batalha\",\"Dala\"), (\"filho\",\"Vae\"), (\"estrela\",\"Daoin\"), (\"estrelas\",\"Daoine\"), (\"brilhante\",\"Delimbiyr\"), (\"descer\",\"Descenthallon\"), (\"destino\",\"Dharasha\"), (\"maldade\",\"Drag\"), (\"colina\",\"Dun\"), (\"neto\",\"E'A'Sum\"), (\"amigo\",\"Ebrath\"), (\"neto\",\"E'E'Sum\"), (\"matar\",\"Eisliesen\"), (\"forma\",\"Elaorm\"), (\"fortaleza\",\"Eska\"), (\"filho\",\"E'Sum\"), (\"amor\",\"Evae\"), (\"intensidade\",\"Evael\"), (\"um\",\"Fae\"), (\"forma\",\"Faen\"), (\"magia\",\"Faer\"), (\"navegador\",\"Faernos\"), (\"fogo\",\"Fete\"), (\"transformado\",\"Fhaorn\"), (\"invocar\",\"Foqal\"), (\"conjurar\",\"Foqal\"), (\"pergaminhos\",\"Glaurach\"), (\"sombra\", \"Guenhwyvar\"), (\"ave\",\"Gyrah\"), (\"centro\",\"Haera\"), (\"esconderijo\",\"Holme\"), (\"verdadeiro\",\"Hond\"), (\"saltitar\",\"Hykyath\"), (\"sentinela\",\"Ilaerothil\"), (\"chuva caindo\",\"Ileleste\"), (\"atirador\",\"Iolaa\"), (\"saia\",\"Iorwe\"), (\"criar\",\"Iquar\"), (\"criador\",\"Iqua\"), (\"treinado\",\"Irbryn\"), (\"granada\",\"Iriador\"), (\"luz\",\"Ivae\"), (\"falar\",\"Kaweh\"), (\"fada\",\"Kehrareth\"), (\"cavalo\",\"Kelytha\"), (\"vontade\",\"Kerradu\"), (\"inimigo\",\"Kery\"), (\"espada\",\"Kerym\"), (\"guerreiro\",\"Keryn\"), (\"trio\",\"Khov\"), (\"gema\",\"Kiir\"), (\"gemas\",\"Kiira\"), (\"marinho\",\"Kintiar\"), (\"marinhos\",\"Kintiara\"), (\"agora\",\"Kyed\"), (\"crescente\",\"La\"), (\"paz\",\"Laev\"), (\"levantar\",\"Levarithin\"), (\"lua cheia\",\"Lharast\"), (\"talvez\",\"Maethe\"), (\"reaparecer\",\"Maniferril\"), (\"voto\",\"Manth\"), (\"defensor\",\"Mathor\"), (\"defensores\",\"Mathora\"), (\"floresta\",\"Mista\"), (\"escuro\",\"Mor\"), (\"morte\",\"Mor\"), (\"cidade\",\"Myth\"), (\"destino\",\"Nanta\"), (\"procurar\",\"Wutheh\"), (\"grande\",\"Za\"), (\"destinos\",\"Nantar\"), (\"pedra\",\"Nar\"), (\"eterno\",\"Nar\"), (\"acordo\",\"Nias\"), (\"adaga\",\"Nikym\"), (\"amor\",\"Nor\"), (\"pai\",\"O\"), (\"segredo\",\"Olin\"), (\"estrela\",\"Olkiir\"), (\"chefe\",\"Omah\"), (\"orador\",\"Onal\"), (\"paz\",\"Ondath\"), (\"madeira\",\"Or\"), (\"bosque\",\"Ora\"), (\"aranha\",\"Orbryn\"), (\"mãe\",\"O'Si\"), (\"pai\",\"O'Su\"), (\"tia\",\"Os'Nys\"), (\"tia\",\"Osi'Nys\"), (\"tio\",\"Osi'Tan\"), (\"tia\",\"Osu'Nys\"), (\"tio\",\"Osu'Tan\"), (\"oito\",\"Parlu\"), (\"bardo\",\"Penaal\"), (\"tesouro\",\"Piir\"), (\"quatro\",\"Pye\"), (\"mais\",\"Quex\"), (\"grande\",\"Raun\"), (\"oeste\",\"Ren\"), (\"fora\",\"Ri\"), (\"sonho\",\"Ru\"), (\"estrela\",\"Rua\"), (\"estrelas\",\"Ruar\"), (\"fora\",\"Rut\"), (\"apodrecer\",\"Saurot\"), (\"assassino\",\"Savalir\"), (\"amigo\",\"Sha\"), (\"machado\",\"Shaalth\"), (\"fada\",\"Shee\"), (\"ceptro\",\"Shessepra\"), (\"sombras\",\"Shil\"), (\"feminino\",\"Si\"), (\"neve\",\"Sige\"), (\"neves\",\"Sigen\"), (\"porco\",\"Slaugh\"), (\"masculino\",\"Su\"), (\"santo\",\"Suor\"), (\"selvagem\",\"Sy\"), (\"meteoro\",\"Syolkiir\"), (\"feixe\",\"Ta\"), (\"aprendiz\",\"Tael\"), (\"irmão\",\"Tan\"), (\"enviar\",\"Tanar\"), (\"exilado\",\"Tanar'ri\"), (\"corpo\",\"Talas\"), (\"alma\",\"Talas\"), (\"prenda\",\"Taran\"), (\"bem\",\"Te\"), (\"luar\",\"Teuivae\"), (\"escudo\",\"Theur\"), (\"noite\",\"Thil\"), (\"asa\",\"Thimae\"), (\"asas\",\"Thimaer\"), (\"promessa\",\"Thor\"), (\"voto\",\"Thor\"), (\"primo\",\"Tyss\"), (\"primos\",\"Tyssir\"), (\"fogo\",\"Uskeche\"), (\"chama\",\"Uskeche\"), (\"fantasma\",\"Uskeche\"), (\"pai\",\"Va\"), (\"mal\",\"Vaarn\"), (\"florestas\",\"Vandora\"), (\"desaparecer\",\"Vanessaril\"), (\"tempo\",\"Adoe\"), (\"bonito\",\"Veluthe\"), (\"lobo\",\"Vil\"), (\"lobos\",\"Vili\")]</code>"
   ]
  },
  {
   "cell_type": "markdown",
   "id": "47b214be-45c5-46ea-88af-ad6e20b3f5f9",
   "metadata": {
    "jp-MarkdownHeadingCollapsed": true,
    "tags": []
   },
   "source": [
    "### Pergunta 2\n",
    "**Quantos pares** de significados há neste dicionário?\n",
    "\n",
    "**Solução:**"
   ]
  },
  {
   "cell_type": "code",
   "execution_count": null,
   "id": "23b6a3f4-544e-40f7-8002-01b844dc7fc5",
   "metadata": {
    "deletable": false,
    "editable": true,
    "tags": []
   },
   "outputs": [],
   "source": [
    "dicioPortuguêsElfês = [(\"tempestade\",\"Huan\"), (\"lugar\",\"Iilor\"), (\"neta\",\"A'A'Sum\"), (\"floresta\",\"Vandor\"), (\"assombrado\",\"Aes\"), (\"encontro\",\"Aelou\"), (\"professor\",\"Aerister\"), (\"neta\",\"A'E'Sum\"), (\"noite\",\"Ahnvae\"), (\"antigo\",\"Akai'ye\"), (\"primitivo\",\"Akai'ye\"), (\"dever\",\"Akh\"), (\"necessidade\",\"Akh\"), (\"guerreiro\",\"Akhrua\"), (\"copo\",\"Aloun\"), (\"chuva\",\"Alushtas\"), (\"nuvem\",\"Ammur\"), (\"conselho\",\"Amrulugek\"), (\"encontro\",\"Amrulugek\"), (\"nefasto\",\"Anilessa\"), (\"pronto\",\"Aniq\"), (\"sol\",\"Ar\"), (\"luz solar\",\"Arivae\"), (\"grande espada\",\"Arkerym\"), (\"tempestade\",\"Arrn\"), (\"nobre\",\"Ary\"), (\"filha\",\"A'Sum\"), (\"alegria\",\"Avae\"), (\"menino\",\"Bhin\"), (\"rapaz\",\"Bhin\"), (\"lixo\",\"Biir\"), (\"cogumelo\",\"Blalath\"), (\"cogumelos\",\"Blalatha\"), (\"metade\",\"Cha\"), (\"paz\",\"Cinna\"), (\"grande\",\"Cor\"), (\"raio de sol\",\"Crithta\"), (\"batalha\",\"Dala\"), (\"filho\",\"Vae\"), (\"estrela\",\"Daoin\"), (\"estrelas\",\"Daoine\"), (\"brilhante\",\"Delimbiyr\"), (\"descer\",\"Descenthallon\"), (\"destino\",\"Dharasha\"), (\"maldade\",\"Drag\"), (\"colina\",\"Dun\"), (\"neto\",\"E'A'Sum\"), (\"amigo\",\"Ebrath\"), (\"neto\",\"E'E'Sum\"), (\"matar\",\"Eisliesen\"), (\"forma\",\"Elaorm\"), (\"fortaleza\",\"Eska\"), (\"filho\",\"E'Sum\"), (\"amor\",\"Evae\"), (\"intensidade\",\"Evael\"), (\"um\",\"Fae\"), (\"forma\",\"Faen\"), (\"magia\",\"Faer\"), (\"navegador\",\"Faernos\"), (\"fogo\",\"Fete\"), (\"transformado\",\"Fhaorn\"), (\"invocar\",\"Foqal\"), (\"conjurar\",\"Foqal\"), (\"pergaminhos\",\"Glaurach\"), (\"sombra\", \"Guenhwyvar\"), (\"ave\",\"Gyrah\"), (\"centro\",\"Haera\"), (\"esconderijo\",\"Holme\"), (\"verdadeiro\",\"Hond\"), (\"saltitar\",\"Hykyath\"), (\"sentinela\",\"Ilaerothil\"), (\"chuva caindo\",\"Ileleste\"), (\"atirador\",\"Iolaa\"), (\"saia\",\"Iorwe\"), (\"criar\",\"Iquar\"), (\"criador\",\"Iqua\"), (\"treinado\",\"Irbryn\"), (\"granada\",\"Iriador\"), (\"luz\",\"Ivae\"), (\"falar\",\"Kaweh\"), (\"fada\",\"Kehrareth\"), (\"cavalo\",\"Kelytha\"), (\"vontade\",\"Kerradu\"), (\"inimigo\",\"Kery\"), (\"espada\",\"Kerym\"), (\"guerreiro\",\"Keryn\"), (\"trio\",\"Khov\"), (\"gema\",\"Kiir\"), (\"gemas\",\"Kiira\"), (\"marinho\",\"Kintiar\"), (\"marinhos\",\"Kintiara\"), (\"agora\",\"Kyed\"), (\"crescente\",\"La\"), (\"paz\",\"Laev\"), (\"levantar\",\"Levarithin\"), (\"lua cheia\",\"Lharast\"), (\"talvez\",\"Maethe\"), (\"reaparecer\",\"Maniferril\"), (\"voto\",\"Manth\"), (\"defensor\",\"Mathor\"), (\"defensores\",\"Mathora\"), (\"floresta\",\"Mista\"), (\"escuro\",\"Mor\"), (\"morte\",\"Mor\"), (\"cidade\",\"Myth\"), (\"destino\",\"Nanta\"), (\"procurar\",\"Wutheh\"), (\"grande\",\"Za\"), (\"destinos\",\"Nantar\"), (\"pedra\",\"Nar\"), (\"eterno\",\"Nar\"), (\"acordo\",\"Nias\"), (\"adaga\",\"Nikym\"), (\"amor\",\"Nor\"), (\"pai\",\"O\"), (\"segredo\",\"Olin\"), (\"estrela\",\"Olkiir\"), (\"chefe\",\"Omah\"), (\"orador\",\"Onal\"), (\"paz\",\"Ondath\"), (\"madeira\",\"Or\"), (\"bosque\",\"Ora\"), (\"aranha\",\"Orbryn\"), (\"mãe\",\"O'Si\"), (\"pai\",\"O'Su\"), (\"tia\",\"Os'Nys\"), (\"tia\",\"Osi'Nys\"), (\"tio\",\"Osi'Tan\"), (\"tia\",\"Osu'Nys\"), (\"tio\",\"Osu'Tan\"), (\"oito\",\"Parlu\"), (\"bardo\",\"Penaal\"), (\"tesouro\",\"Piir\"), (\"quatro\",\"Pye\"), (\"mais\",\"Quex\"), (\"grande\",\"Raun\"), (\"oeste\",\"Ren\"), (\"fora\",\"Ri\"), (\"sonho\",\"Ru\"), (\"estrela\",\"Rua\"), (\"estrelas\",\"Ruar\"), (\"fora\",\"Rut\"), (\"apodrecer\",\"Saurot\"), (\"assassino\",\"Savalir\"), (\"amigo\",\"Sha\"), (\"machado\",\"Shaalth\"), (\"fada\",\"Shee\"), (\"ceptro\",\"Shessepra\"), (\"sombras\",\"Shil\"), (\"feminino\",\"Si\"), (\"neve\",\"Sige\"), (\"neves\",\"Sigen\"), (\"porco\",\"Slaugh\"), (\"masculino\",\"Su\"), (\"santo\",\"Suor\"), (\"selvagem\",\"Sy\"), (\"meteoro\",\"Syolkiir\"), (\"feixe\",\"Ta\"), (\"aprendiz\",\"Tael\"), (\"irmão\",\"Tan\"), (\"enviar\",\"Tanar\"), (\"exilado\",\"Tanar'ri\"), (\"corpo\",\"Talas\"), (\"alma\",\"Talas\"), (\"prenda\",\"Taran\"), (\"bem\",\"Te\"), (\"luar\",\"Teuivae\"), (\"escudo\",\"Theur\"), (\"noite\",\"Thil\"), (\"asa\",\"Thimae\"), (\"asas\",\"Thimaer\"), (\"promessa\",\"Thor\"), (\"voto\",\"Thor\"), (\"primo\",\"Tyss\"), (\"primos\",\"Tyssir\"), (\"fogo\",\"Uskeche\"), (\"chama\",\"Uskeche\"), (\"fantasma\",\"Uskeche\"), (\"pai\",\"Va\"), (\"mal\",\"Vaarn\"), (\"florestas\",\"Vandora\"), (\"desaparecer\",\"Vanessaril\"), (\"tempo\",\"Adoe\"), (\"bonito\",\"Veluthe\"), (\"lobo\",\"Vil\"), (\"lobos\",\"Vili\")]"
   ]
  },
  {
   "cell_type": "code",
   "execution_count": null,
   "id": "8190f281-1f58-4810-8dd8-a35ccecc4ab1",
   "metadata": {
    "tags": []
   },
   "outputs": [
    {
     "data": {
      "text/plain": [
       "186"
      ]
     },
     "metadata": {},
     "output_type": "display_data"
    }
   ],
   "source": [
    "dicioPortuguêsElfês |> length"
   ]
  },
  {
   "cell_type": "markdown",
   "id": "8ae5ba65-94ee-430a-a85b-9cac0f61b47b",
   "metadata": {
    "jp-MarkdownHeadingCollapsed": true,
    "tags": []
   },
   "source": [
    "### Pergunta 3\n",
    "Utiliza o Jupyter para obter a **lista de palavras portuguesas** que existem no dicionário dicioPortuguêsElfês.\n",
    "<br>A lista **não deve ter palavras repetidas** e as palavras devem estar ordenadas por **ordem alfabética**.\n",
    "\n",
    "<span style=\"font-size:.825em\"><b>Pista:</b> O resultado deve começar com `[\"acordo\",\"adaga\",\"agora\",\"alegria\",\"alma\",\"amigo\",\"amor\",...` .</span>\n",
    "\n",
    "**Solução:**"
   ]
  },
  {
   "cell_type": "code",
   "execution_count": null,
   "id": "80d2c29c-7086-4800-8f37-edc965074be4",
   "metadata": {
    "tags": []
   },
   "outputs": [
    {
     "data": {
      "text/plain": [
       "[\"acordo\",\"adaga\",\"agora\",\"alegria\",\"alma\",\"amigo\",\"amor\",\"antigo\",\"apodrecer\",\"aprendiz\",\"aranha\",\"asa\",\"asas\",\"assassino\",\"assombrado\",\"atirador\",\"ave\",\"bardo\",\"batalha\",\"bem\",\"bonito\",\"bosque\",\"brilhante\",\"cavalo\",\"centro\",\"ceptro\",\"chama\",\"chefe\",\"chuva\",\"chuva caindo\",\"cidade\",\"cogumelo\",\"cogumelos\",\"colina\",\"conjurar\",\"conselho\",\"copo\",\"corpo\",\"crescente\",\"criador\",\"criar\",\"defensor\",\"defensores\",\"desaparecer\",\"descer\",\"destino\",\"destinos\",\"dever\",\"encontro\",\"enviar\",\"esconderijo\",\"escudo\",\"escuro\",\"espada\",\"estrela\",\"estrelas\",\"eterno\",\"exilado\",\"fada\",\"falar\",\"fantasma\",\"feixe\",\"feminino\",\"filha\",\"filho\",\"floresta\",\"florestas\",\"fogo\",\"fora\",\"forma\",\"fortaleza\",\"gema\",\"gemas\",\"granada\",\"grande\",\"grande espada\",\"guerreiro\",\"inimigo\",\"intensidade\",\"invocar\",\"irm\\227o\",\"levantar\",\"lixo\",\"lobo\",\"lobos\",\"lua cheia\",\"luar\",\"lugar\",\"luz\",\"luz solar\",\"machado\",\"madeira\",\"magia\",\"mais\",\"mal\",\"maldade\",\"marinho\",\"marinhos\",\"masculino\",\"matar\",\"menino\",\"metade\",\"meteoro\",\"morte\",\"m\\227e\",\"navegador\",\"necessidade\",\"nefasto\",\"neta\",\"neto\",\"neve\",\"neves\",\"nobre\",\"noite\",\"nuvem\",\"oeste\",\"oito\",\"orador\",\"pai\",\"paz\",\"pedra\",\"pergaminhos\",\"porco\",\"prenda\",\"primitivo\",\"primo\",\"primos\",\"procurar\",\"professor\",\"promessa\",\"pronto\",\"quatro\",\"raio de sol\",\"rapaz\",\"reaparecer\",\"saia\",\"saltitar\",\"santo\",\"segredo\",\"selvagem\",\"sentinela\",\"sol\",\"sombra\",\"sombras\",\"sonho\",\"talvez\",\"tempestade\",\"tempo\",\"tesouro\",\"tia\",\"tio\",\"transformado\",\"treinado\",\"trio\",\"um\",\"verdadeiro\",\"vontade\",\"voto\"]"
      ]
     },
     "metadata": {},
     "output_type": "display_data"
    }
   ],
   "source": [
    "dicioPortuguêsElfês |> map fst |> nub |> sort"
   ]
  },
  {
   "cell_type": "markdown",
   "id": "a2a04d35-28d1-4853-b509-583026db6dc2",
   "metadata": {
    "jp-MarkdownHeadingCollapsed": true,
    "tags": []
   },
   "source": [
    "### Pergunta 4\n",
    "**Ordena** o dicionário português-elfês por ordem alfabética usando a instrução `dicioPortuguêsElfês |> sort` e **encontra as traduções** para as seguintes palavras portuguesas:\n",
    "\n",
    "- Perguntas da versão 1: **aranha, lobo, tempo**\n",
    "- Perguntas da versão 2: **sol, machado, fantasma**\n",
    "- Perguntas da versão 3: **nuvem, porco, bonito**\n",
    "- Perguntas da versão 4: **asa, chuva, talvez**\n",
    "\n",
    "**Solução:**"
   ]
  },
  {
   "cell_type": "code",
   "execution_count": null,
   "id": "ee186dd5-ef3d-482a-8146-e0e14892b767",
   "metadata": {
    "tags": []
   },
   "outputs": [
    {
     "data": {
      "text/plain": [
       "[(\"acordo\",\"Nias\"),(\"adaga\",\"Nikym\"),(\"agora\",\"Kyed\"),(\"alegria\",\"Avae\"),(\"alma\",\"Talas\"),(\"amigo\",\"Ebrath\"),(\"amigo\",\"Sha\"),(\"amor\",\"Evae\"),(\"amor\",\"Nor\"),(\"antigo\",\"Akai'ye\"),(\"apodrecer\",\"Saurot\"),(\"aprendiz\",\"Tael\"),(\"aranha\",\"Orbryn\"),(\"asa\",\"Thimae\"),(\"asas\",\"Thimaer\"),(\"assassino\",\"Savalir\"),(\"assombrado\",\"Aes\"),(\"atirador\",\"Iolaa\"),(\"ave\",\"Gyrah\"),(\"bardo\",\"Penaal\"),(\"batalha\",\"Dala\"),(\"bem\",\"Te\"),(\"bonito\",\"Veluthe\"),(\"bosque\",\"Ora\"),(\"brilhante\",\"Delimbiyr\"),(\"cavalo\",\"Kelytha\"),(\"centro\",\"Haera\"),(\"ceptro\",\"Shessepra\"),(\"chama\",\"Uskeche\"),(\"chefe\",\"Omah\"),(\"chuva\",\"Alushtas\"),(\"chuva caindo\",\"Ileleste\"),(\"cidade\",\"Myth\"),(\"cogumelo\",\"Blalath\"),(\"cogumelos\",\"Blalatha\"),(\"colina\",\"Dun\"),(\"conjurar\",\"Foqal\"),(\"conselho\",\"Amrulugek\"),(\"copo\",\"Aloun\"),(\"corpo\",\"Talas\"),(\"crescente\",\"La\"),(\"criador\",\"Iqua\"),(\"criar\",\"Iquar\"),(\"defensor\",\"Mathor\"),(\"defensores\",\"Mathora\"),(\"desaparecer\",\"Vanessaril\"),(\"descer\",\"Descenthallon\"),(\"destino\",\"Dharasha\"),(\"destino\",\"Nanta\"),(\"destinos\",\"Nantar\"),(\"dever\",\"Akh\"),(\"encontro\",\"Aelou\"),(\"encontro\",\"Amrulugek\"),(\"enviar\",\"Tanar\"),(\"esconderijo\",\"Holme\"),(\"escudo\",\"Theur\"),(\"escuro\",\"Mor\"),(\"espada\",\"Kerym\"),(\"estrela\",\"Daoin\"),(\"estrela\",\"Olkiir\"),(\"estrela\",\"Rua\"),(\"estrelas\",\"Daoine\"),(\"estrelas\",\"Ruar\"),(\"eterno\",\"Nar\"),(\"exilado\",\"Tanar'ri\"),(\"fada\",\"Kehrareth\"),(\"fada\",\"Shee\"),(\"falar\",\"Kaweh\"),(\"fantasma\",\"Uskeche\"),(\"feixe\",\"Ta\"),(\"feminino\",\"Si\"),(\"filha\",\"A'Sum\"),(\"filho\",\"E'Sum\"),(\"filho\",\"Vae\"),(\"floresta\",\"Mista\"),(\"floresta\",\"Vandor\"),(\"florestas\",\"Vandora\"),(\"fogo\",\"Fete\"),(\"fogo\",\"Uskeche\"),(\"fora\",\"Ri\"),(\"fora\",\"Rut\"),(\"forma\",\"Elaorm\"),(\"forma\",\"Faen\"),(\"fortaleza\",\"Eska\"),(\"gema\",\"Kiir\"),(\"gemas\",\"Kiira\"),(\"granada\",\"Iriador\"),(\"grande\",\"Cor\"),(\"grande\",\"Raun\"),(\"grande\",\"Za\"),(\"grande espada\",\"Arkerym\"),(\"guerreiro\",\"Akhrua\"),(\"guerreiro\",\"Keryn\"),(\"inimigo\",\"Kery\"),(\"intensidade\",\"Evael\"),(\"invocar\",\"Foqal\"),(\"irm\\227o\",\"Tan\"),(\"levantar\",\"Levarithin\"),(\"lixo\",\"Biir\"),(\"lobo\",\"Vil\"),(\"lobos\",\"Vili\"),(\"lua cheia\",\"Lharast\"),(\"luar\",\"Teuivae\"),(\"lugar\",\"Iilor\"),(\"luz\",\"Ivae\"),(\"luz solar\",\"Arivae\"),(\"machado\",\"Shaalth\"),(\"madeira\",\"Or\"),(\"magia\",\"Faer\"),(\"mais\",\"Quex\"),(\"mal\",\"Vaarn\"),(\"maldade\",\"Drag\"),(\"marinho\",\"Kintiar\"),(\"marinhos\",\"Kintiara\"),(\"masculino\",\"Su\"),(\"matar\",\"Eisliesen\"),(\"menino\",\"Bhin\"),(\"metade\",\"Cha\"),(\"meteoro\",\"Syolkiir\"),(\"morte\",\"Mor\"),(\"m\\227e\",\"O'Si\"),(\"navegador\",\"Faernos\"),(\"necessidade\",\"Akh\"),(\"nefasto\",\"Anilessa\"),(\"neta\",\"A'A'Sum\"),(\"neta\",\"A'E'Sum\"),(\"neto\",\"E'A'Sum\"),(\"neto\",\"E'E'Sum\"),(\"neve\",\"Sige\"),(\"neves\",\"Sigen\"),(\"nobre\",\"Ary\"),(\"noite\",\"Ahnvae\"),(\"noite\",\"Thil\"),(\"nuvem\",\"Ammur\"),(\"oeste\",\"Ren\"),(\"oito\",\"Parlu\"),(\"orador\",\"Onal\"),(\"pai\",\"O\"),(\"pai\",\"O'Su\"),(\"pai\",\"Va\"),(\"paz\",\"Cinna\"),(\"paz\",\"Laev\"),(\"paz\",\"Ondath\"),(\"pedra\",\"Nar\"),(\"pergaminhos\",\"Glaurach\"),(\"porco\",\"Slaugh\"),(\"prenda\",\"Taran\"),(\"primitivo\",\"Akai'ye\"),(\"primo\",\"Tyss\"),(\"primos\",\"Tyssir\"),(\"procurar\",\"Wutheh\"),(\"professor\",\"Aerister\"),(\"promessa\",\"Thor\"),(\"pronto\",\"Aniq\"),(\"quatro\",\"Pye\"),(\"raio de sol\",\"Crithta\"),(\"rapaz\",\"Bhin\"),(\"reaparecer\",\"Maniferril\"),(\"saia\",\"Iorwe\"),(\"saltitar\",\"Hykyath\"),(\"santo\",\"Suor\"),(\"segredo\",\"Olin\"),(\"selvagem\",\"Sy\"),(\"sentinela\",\"Ilaerothil\"),(\"sol\",\"Ar\"),(\"sombra\",\"Guenhwyvar\"),(\"sombras\",\"Shil\"),(\"sonho\",\"Ru\"),(\"talvez\",\"Maethe\"),(\"tempestade\",\"Arrn\"),(\"tempestade\",\"Huan\"),(\"tempo\",\"Adoe\"),(\"tesouro\",\"Piir\"),(\"tia\",\"Os'Nys\"),(\"tia\",\"Osi'Nys\"),(\"tia\",\"Osu'Nys\"),(\"tio\",\"Osi'Tan\"),(\"tio\",\"Osu'Tan\"),(\"transformado\",\"Fhaorn\"),(\"treinado\",\"Irbryn\"),(\"trio\",\"Khov\"),(\"um\",\"Fae\"),(\"verdadeiro\",\"Hond\"),(\"vontade\",\"Kerradu\"),(\"voto\",\"Manth\"),(\"voto\",\"Thor\")]"
      ]
     },
     "metadata": {},
     "output_type": "display_data"
    }
   ],
   "source": [
    "dicioPortuguêsElfês |> sort"
   ]
  },
  {
   "cell_type": "markdown",
   "id": "7d6a24cc-d7e2-4ffe-b64d-52dda6473cac",
   "metadata": {},
   "source": [
    "|Versão 1| |Versão 2| |Versão 3| |Versão 4| |\n",
    "|-|-|-|-|-|-|-|-|\n",
    "|**aranha**|Orbryn|**sol**|Ar|**nuvem**|Ammur|**chuva**|Alushtas|\n",
    "|**lobo**|Vil|**machado**|Shaalth|**porco**|Slaugh|**talvez**|Maethe|\n",
    "|**tempo**|Adoe|**fantasma**|Uskeche|**bonito**|Veluthe|**asa**|Thimae|"
   ]
  },
  {
   "cell_type": "markdown",
   "id": "eddbea07-8df6-4618-8de3-7cc00a8436ba",
   "metadata": {
    "jp-MarkdownHeadingCollapsed": true,
    "tags": []
   },
   "source": [
    "### Pergunta 5\n",
    "\n",
    "Se quiseres saber o **número de letras da maior palavra elfesa** que existe neste dicionário, que instrução podes correr?\n",
    "\n",
    "<span style=\"font-size:.825em\"><b>Nota:</b> A maior palavra elfesa é \"Descenthallon\".</span>\n",
    "\n",
    "1. [ ] `dicioPortuguêsElfês |> snd |> length |> maximum`\n",
    "1. [ ] `dicioPortuguêsElfês |> map snd |> map (+3) |> length`\n",
    "1. [ ] `dicioPortuguêsElfês |> map snd |> map length |> maximum`\n",
    "1. [ ] `dicioPortuguêsElfês |> map fst |> length`\n",
    "1. [ ] `dicioPortuguêsElfês |> map snd |> maximum`\n",
    "\n",
    "**Solução:**"
   ]
  },
  {
   "cell_type": "markdown",
   "id": "1ac9427b-1130-4239-bef0-8cd64c709ed5",
   "metadata": {
    "tags": []
   },
   "source": [
    "- A **opção 1** começa com `dicioPortuguêsElfês |> snd`.\n",
    "  <br>Esta instrução vai dar ERRO porque estamos a mandar uma lista para a transformação `snd`, que só sabe trabalhar com um par. ❌\n",
    "- A **opção 4** começa com `dicioPortuguêsElfês |> map fst`, ou seja, pede ao Jupyter para pegar na lista de pares e obter a 1ª componente de cada par.\n",
    "  <br>Não estamos interessados nas palavras portuguesas, por isso também podemos excluir esta opção. 👎\n",
    "- As **opções 2, 3 e 5** começam com  `dicioPortuguêsElfês |> map snd`.\n",
    "  <br>Esta parte das instruções obtém a lista com todas as palavras elfesas do dicionário: `[\"Huan\",\"Iilor\",\"A'A'Sum\",\"Vandor\",\"Aes\",\"Aelou\",\"Aerister\",\"A'E'Sum\",\"Ahnvae\",\"Akai'ye\",\"Akai'ye\",\"Akh\",\"Akh\",\"Akhrua\",\"Aloun\",\"Alushtas\",\"Ammur\",\n",
    "\"Amrulugek\",\"Amrulugek\",\"Anilessa\",\"Aniq\",\"Ar\",\"Arivae\",\"Arkerym\",\"Arrn\",\"Ary\",\"A'Sum\",\"Avae\",\"Bhin\",\"Bhin\",\"Biir\",\"Blalath\",\"Blalatha\",\"Cha\",\n",
    "\"Cinna\",\"Cor\",\"Crithta\",\"Dala\",\"Vae\",\"Daoin\",\"Daoine\",\"Delimbiyr\",\"Descenthallon\",\"Dharasha\",\"Drag\",\"Dun\",\"E'A'Sum\",\"Ebrath\",\"E'E'Sum\",\"Eisliesen\",\n",
    "\"Elaorm\",\"Eska\",\"E'Sum\",\"Evae\",\"Evael\",\"Fae\",\"Faen\",\"Faer\",\"Faernos\",\"Fete\",\"Fhaorn\",\"Foqal\",\"Foqal\",\"Glaurach\",\"Guenhwyvar\",\"Gyrah\",\"Haera\",\"Holme\",\n",
    "\"Hond\",\"Hykyath\",\"Ilaerothil\",\"Ileleste\",\"Iolaa\",\"Iorwe\",\"Iquar\",\"Iqua\",\"Irbryn\",\"Iriador\",\"Ivae\",\"Kaweh\",\"Kehrareth\",\"Kelytha\",\"Kerradu\",\"Kery\",\n",
    "\"Kerym\",\"Keryn\",\"Khov\",\"Kiir\",\"Kiira\",\"Kintiar\",\"Kintiara\",\"Kyed\",\"La\",\"Laev\",\"Levarithin\",\"Lharast\",\"Maethe\",\"Maniferril\",\"Manth\",\"Mathor\",\n",
    "\"Mathora\",\"Mista\",\"Mor\",\"Mor\",\"Myth\",\"Nanta\",\"Wutheh\",\"Za\",\"Nantar\",\"Nar\",\"Nar\",\"Nias\",\"Nikym\",\"Nor\",\"O\",\"Olin\",\"Olkiir\",\"Omah\",\"Onal\",\"Ondath\",\"Or\",\n",
    "\"Ora\",\"Orbryn\",\"O'Si\",\"O'Su\",\"Os'Nys\",\"Osi'Nys\",\"Osi'Tan\",\"Osu'Nys\",\"Osu'Tan\",\"Parlu\",\"Penaal\",\"Piir\",\"Pye\",\"Quex\",\"Raun\",\"Ren\",\"Ri\",\"Ru\",\"Rua\",\n",
    "\"Ruar\",\"Rut\",\"Saurot\",\"Savalir\",\"Sha\",\"Shaalth\",\"Shee\",\"Shessepra\",\"Shil\",\"Si\",\"Sige\",\"Sigen\",\"Slaugh\",\"Su\",\"Suor\",\"Sy\",\"Syolkiir\",\"Ta\",\"Tael\",\"Tan\",\n",
    "\"Tanar\",\"Tanar'ri\",\"Talas\",\"Talas\",\"Taran\",\"Te\",\"Teuivae\",\"Theur\",\"Thil\",\"Thimae\",\"Thimaer\",\"Thor\",\"Thor\",\"Tyss\",\"Tyssir\",\"Uskeche\",\"Uskeche\",\n",
    "\"Uskeche\",\"Va\",\"Vaarn\",\"Vandora\",\"Vanessaril\",\"Adoe\",\"Veluthe\",\"Vil\",\"Vili\"]`\n",
    "  <br>Parece um bom princípio!\n",
    "\n",
    "    - A **opção 2** continua com `|> map (+3)`, ou seja, vai tentar somar 3 a cada palavra elfesa...\n",
    "      <br>🤨 Somar números a *string*s?? Isto vai dar erro de certeza! ❌\n",
    "    - A **opção 3** continua com `|> map length`, ou seja, vai fazer `length` a cada palavra elfesa.\n",
    "      <br>🤔 Hmm... 🙄 já voltamos a olhar para isto...\n",
    "    - A **opção 5** continua e termina com `|> maximum`, ou seja, vai dar-nos \"a maior\" palavra elfesa.\n",
    "      <br>😐 Se o resultado é uma palavra, não responde à nossa pergunta! Estamos à procura de um número... 👎\n",
    "\n",
    "Só sobra mesmo a **opção 3**... mas porque é que `dicioPortuguêsElfês |> map snd |> map length |> maximum` vai resultar no número de letras da maior palavra elfesa?\n",
    "<br>Vamos começar por fazer apenas as duas primeiras transformações:"
   ]
  },
  {
   "cell_type": "code",
   "execution_count": null,
   "id": "57b45d6f-e2cf-4489-93cc-8e9f978d76f6",
   "metadata": {
    "tags": []
   },
   "outputs": [
    {
     "data": {
      "text/plain": [
       "[4,5,7,6,3,5,8,7,6,7,7,3,3,6,5,8,5,9,9,8,4,2,6,7,4,3,5,4,4,4,4,7,8,3,5,3,7,4,3,5,6,9,13,8,4,3,7,6,7,9,6,4,5,4,5,3,4,4,7,4,6,5,5,8,10,5,5,5,4,7,10,8,5,5,5,4,6,7,4,5,9,7,7,4,5,5,4,4,5,7,8,4,2,4,10,7,6,10,5,6,7,5,3,3,4,5,6,2,6,3,3,4,5,3,1,4,6,4,4,6,2,3,6,4,4,6,7,7,7,7,5,6,4,3,4,4,3,2,2,3,4,3,6,7,3,7,4,9,4,2,4,5,6,2,4,2,8,2,4,3,5,8,5,5,5,2,7,5,4,6,7,4,4,4,6,7,7,7,2,5,7,10,4,7,3,4]"
      ]
     },
     "metadata": {},
     "output_type": "display_data"
    }
   ],
   "source": [
    "dicioPortuguêsElfês |> map snd |> map length"
   ]
  },
  {
   "cell_type": "markdown",
   "id": "47d2ccb3-cb93-48c6-917e-3fc3af3caaed",
   "metadata": {
    "tags": []
   },
   "source": [
    "🤔\n",
    "<br>Ah! 🤩 Ficámos com uma lista com o número de letras de cada palavra elfesa!!\n",
    "<br>Só falta encontrar o maior número da lista, daí a opção 3 terminar com a transformação `maximum`."
   ]
  },
  {
   "cell_type": "code",
   "execution_count": null,
   "id": "18ffb868-22a4-447e-a2a3-43e65a459ac6",
   "metadata": {
    "tags": []
   },
   "outputs": [
    {
     "data": {
      "text/plain": [
       "13"
      ]
     },
     "metadata": {},
     "output_type": "display_data"
    }
   ],
   "source": [
    "dicioPortuguêsElfês |> map snd |> map length |> maximum"
   ]
  },
  {
   "cell_type": "markdown",
   "id": "89162015-6513-48d3-a273-4406983d4758",
   "metadata": {},
   "source": [
    "E isto bate certo com a **Nota** escrita no enunciado porque \"*Descenthallon*\" tem 13 letras.\n",
    "<br>👌\n",
    "\n",
    "**Resposta**\n",
    "1. [ ] `dicioPortuguêsElfês |> snd |> length |> maximum`\n",
    "1. [ ] `dicioPortuguêsElfês |> map snd |> map (+3) |> length`\n",
    "1. [x] `dicioPortuguêsElfês |> map snd |> map length |> maximum`\n",
    "1. [ ] `dicioPortuguêsElfês |> map fst |> length`\n",
    "1. [ ] `dicioPortuguêsElfês |> map snd |> maximum`"
   ]
  },
  {
   "cell_type": "markdown",
   "id": "dbf35b26-9789-45c1-8f01-28e82827da26",
   "metadata": {
    "tags": []
   },
   "source": [
    "---\n",
    "## Perguntas 6-10"
   ]
  },
  {
   "cell_type": "markdown",
   "id": "ee375596-c534-4e93-9c95-d17f88fd09fb",
   "metadata": {},
   "source": [
    "Observa as duas listas que se seguem. A primeira lista tem **os nomes dos 151 Pokémon da Geração I** e a segunda contém **os respetivos tipos**.\n",
    "\n",
    "<code><b>pokemonG1</b> = [ \"<u>Bulbasaur</u>\", \"<u>Bulbasaur</u>\", \"Ivysaur\", \"Ivysaur\", \"Venusaur\", \"Venusaur\", \"Charmander\", \"Charmeleon\", \"Charizard\", \"Charizard\", \"Squirtle\", \"Wartortle\", \"Blastoise\", \"Caterpie\", \"Metapod\", \"Butterfree\", \"Butterfree\", \"Weedle\", \"Weedle\", \"Kakuna\", \"Kakuna\", \"Beedrill\", \"Beedrill\", \"Pidgey\", \"Pidgey\", \"Pidgeotto\", \"Pidgeotto\", \"Pidgeot\", \"Pidgeot\", \"Rattata\", \"Raticate\", \"Spearow\", \"Spearow\", \"Fearow\", \"Fearow\", \"Ekans\", \"Arbok\", \"Pikachu\", \"Raichu\", \"Sandshrew\", \"Sandslash\", \"Nidoran-f\", \"Nidorina\", \"Nidoqueen\", \"Nidoqueen\", \"Nidoran-m\", \"Nidorino\", \"Nidoking\", \"Nidoking\", \"Clefairy\", \"Clefable\", \"Vulpix\", \"Ninetales\", \"Jigglypuff\", \"Jigglypuff\", \"Wigglytuff\", \"Wigglytuff\", \"Zubat\", \"Zubat\", \"Golbat\", \"Golbat\", \"Oddish\", \"Oddish\", \"Gloom\", \"Gloom\", \"Vileplume\", \"Vileplume\", \"Paras\", \"Paras\", \"Parasect\", \"Parasect\", \"Venonat\", \"Venonat\", \"Venomoth\", \"Venomoth\", \"Diglett\", \"Dugtrio\", \"Meowth\", \"Persian\", \"Psyduck\", \"Golduck\", \"Mankey\", \"Primeape\", \"Growlithe\", \"Arcanine\", \"Poliwag\", \"Poliwhirl\", \"Poliwrath\", \"Poliwrath\", \"Abra\", \"Kadabra\", \"Alakazam\", \"Machop\", \"Machoke\", \"Machamp\", \"Bellsprout\", \"Bellsprout\", \"Weepinbell\", \"Weepinbell\", \"Victreebel\", \"Victreebel\", \"Tentacool\", \"Tentacool\", \"Tentacruel\", \"Tentacruel\", \"Geodude\", \"Geodude\", \"Graveler\", \"Graveler\", \"Golem\", \"Golem\", \"Ponyta\", \"Rapidash\", \"Slowpoke\", \"Slowpoke\", \"Slowbro\", \"Slowbro\", \"Magnemite\", \"Magnemite\", \"Magneton\", \"Magneton\", \"Farfetchd\", \"Farfetchd\", \"Doduo\", \"Doduo\", \"Dodrio\", \"Dodrio\", \"Seel\", \"Dewgong\", \"Dewgong\", \"Grimer\", \"Muk\", \"Shellder\", \"Cloyster\", \"Cloyster\", \"Gastly\", \"Gastly\", \"Haunter\", \"Haunter\", \"Gengar\", \"Gengar\", \"Onix\", \"Onix\", \"Drowzee\", \"Hypno\", \"Krabby\", \"Kingler\", \"Voltorb\", \"Electrode\", \"Exeggcute\", \"Exeggcute\", \"Exeggutor\", \"Exeggutor\", \"Cubone\", \"Marowak\", \"Hitmonlee\", \"Hitmonchan\", \"Lickitung\", \"Koffing\", \"Weezing\", \"Rhyhorn\", \"Rhyhorn\", \"Rhydon\", \"Rhydon\", \"Chansey\", \"Tangela\", \"Kangaskhan\", \"Horsea\", \"Seadra\", \"Goldeen\", \"Seaking\", \"Staryu\", \"Starmie\", \"Starmie\", \"Mr-mime\", \"Mr-mime\", \"Scyther\", \"Scyther\", \"Jynx\", \"Jynx\", \"Electabuzz\", \"Magmar\", \"Pinsir\", \"Tauros\", \"Magikarp\", \"Gyarados\", \"Gyarados\", \"Lapras\", \"Lapras\", \"Ditto\", \"Eevee\", \"Vaporeon\", \"Jolteon\", \"Flareon\", \"Porygon\", \"Omanyte\", \"Omanyte\", \"Omastar\", \"Omastar\", \"Kabuto\", \"Kabuto\", \"Kabutops\", \"Kabutops\", \"Aerodactyl\", \"Aerodactyl\", \"Snorlax\", \"Articuno\", \"Articuno\", \"Zapdos\", \"Zapdos\", \"Moltres\", \"Moltres\", \"Dratini\", \"Dragonair\", \"Dragonite\", \"Dragonite\", \"Mewtwo\", \"Mew\" ]</code>\n",
    "\n",
    "<code><b>pokemonG1Tipos</b> = [ \"<u>erva</u>\", \"<u>veneno</u>\", \"erva\", \"veneno\", \"erva\", \"veneno\", \"fogo\", \"fogo\", \"fogo\", \"voador\", \"agua\", \"agua\", \"agua\", \"inseto\", \"inseto\", \"inseto\", \"voador\", \"inseto\", \"veneno\", \"inseto\", \"veneno\", \"inseto\", \"veneno\", \"normal\", \"voador\", \"normal\", \"voador\", \"normal\", \"voador\", \"normal\", \"normal\", \"normal\", \"voador\", \"normal\", \"voador\", \"veneno\", \"veneno\", \"eletrico\", \"eletrico\", \"terra\", \"terra\", \"veneno\", \"veneno\", \"veneno\", \"terra\", \"veneno\", \"veneno\", \"veneno\", \"terra\", \"fada\", \"fada\", \"fogo\", \"fogo\", \"normal\", \"fada\", \"normal\", \"fada\", \"veneno\", \"voador\", \"veneno\", \"voador\", \"erva\", \"veneno\", \"erva\", \"veneno\", \"erva\", \"veneno\", \"inseto\", \"erva\", \"inseto\", \"erva\", \"inseto\", \"veneno\", \"inseto\", \"veneno\", \"terra\", \"terra\", \"normal\", \"normal\", \"agua\", \"agua\", \"lutador\", \"lutador\", \"fogo\", \"fogo\", \"agua\", \"agua\", \"agua\", \"lutador\", \"psiquico\", \"psiquico\", \"psiquico\", \"lutador\", \"lutador\", \"lutador\", \"erva\", \"veneno\", \"erva\", \"veneno\", \"erva\", \"veneno\", \"agua\", \"veneno\", \"agua\", \"veneno\", \"rocha\", \"terra\", \"rocha\", \"terra\", \"rocha\", \"terra\", \"fogo\", \"fogo\", \"agua\", \"psiquico\", \"agua\", \"psiquico\", \"eletrico\", \"aço\", \"eletrico\", \"aço\", \"normal\", \"voador\", \"normal\", \"voador\", \"normal\", \"voador\", \"agua\", \"agua\", \"gelo\", \"veneno\", \"veneno\", \"agua\", \"agua\", \"gelo\", \"fantasma\", \"veneno\", \"fantasma\", \"veneno\", \"fantasma\", \"veneno\", \"rocha\", \"terra\", \"psiquico\", \"psiquico\", \"agua\", \"agua\", \"eletrico\", \"eletrico\", \"erva\", \"psiquico\", \"erva\", \"psiquico\", \"terra\", \"terra\", \"lutador\", \"lutador\", \"normal\", \"veneno\", \"veneno\", \"terra\", \"rocha\", \"terra\", \"rocha\", \"normal\", \"erva\", \"normal\", \"agua\", \"agua\", \"agua\", \"agua\", \"agua\", \"agua\", \"psiquico\", \"psiquico\", \"fada\", \"inseto\", \"voador\", \"gelo\", \"psiquico\", \"eletrico\", \"fogo\", \"inseto\", \"normal\", \"agua\", \"agua\", \"voador\", \"agua\", \"gelo\", \"normal\", \"normal\", \"agua\", \"eletrico\", \"fogo\", \"normal\", \"rocha\", \"agua\", \"rocha\", \"agua\", \"rocha\", \"agua\", \"rocha\", \"agua\", \"rocha\", \"voador\", \"normal\", \"gelo\", \"voador\", \"eletrico\", \"voador\", \"fogo\", \"voador\", \"dragao\", \"dragao\", \"dragao\", \"voador\", \"psiquico\", \"psiquico\" ]\n",
    "\n",
    "Repara que alguns nomes aparecem repetidos porque alguns Pokémons têm vários tipos! Por exemplo, o <u>Bulbasaur</u> é um Pokémon de tipo <u>erva</u> e de tipo <u>veneno</u>."
   ]
  },
  {
   "cell_type": "markdown",
   "id": "0131ffd0-6845-434a-8a6d-f4bc079a12f5",
   "metadata": {
    "jp-MarkdownHeadingCollapsed": true,
    "tags": []
   },
   "source": [
    "### Pergunta 6\n",
    "**Emparelha** as duas listas acima e, depois, **ordena** os pares por ordem alfabética.\n",
    "<br>Escreve a lista de 218 pares ordenada na caixa abaixo.\n",
    "\n",
    "<span style=\"font-size:.825em\"><b>Pista:</b> A lista deve começar com `[(\"Abra\",\"psiquico\"),(\"Aerodactyl\",\"rocha\"),(\"Aerodactyl\",\"voador\"),(\"Alakazam\",\"psiquico\"),...]`</span>\n",
    "\n",
    "**Solução:**"
   ]
  },
  {
   "cell_type": "code",
   "execution_count": null,
   "id": "61bf758c-f39c-43e6-9be2-6b30776e327d",
   "metadata": {
    "tags": []
   },
   "outputs": [],
   "source": [
    "pokemonG1 = [ \"Bulbasaur\", \"Bulbasaur\", \"Ivysaur\", \"Ivysaur\", \"Venusaur\", \"Venusaur\", \"Charmander\", \"Charmeleon\", \"Charizard\", \"Charizard\", \"Squirtle\", \"Wartortle\", \"Blastoise\", \"Caterpie\", \"Metapod\", \"Butterfree\", \"Butterfree\", \"Weedle\", \"Weedle\", \"Kakuna\", \"Kakuna\", \"Beedrill\", \"Beedrill\", \"Pidgey\", \"Pidgey\", \"Pidgeotto\", \"Pidgeotto\", \"Pidgeot\", \"Pidgeot\", \"Rattata\", \"Raticate\", \"Spearow\", \"Spearow\", \"Fearow\", \"Fearow\", \"Ekans\", \"Arbok\", \"Pikachu\", \"Raichu\", \"Sandshrew\", \"Sandslash\", \"Nidoran-f\", \"Nidorina\", \"Nidoqueen\", \"Nidoqueen\", \"Nidoran-m\", \"Nidorino\", \"Nidoking\", \"Nidoking\", \"Clefairy\", \"Clefable\", \"Vulpix\", \"Ninetales\", \"Jigglypuff\", \"Jigglypuff\", \"Wigglytuff\", \"Wigglytuff\", \"Zubat\", \"Zubat\", \"Golbat\", \"Golbat\", \"Oddish\", \"Oddish\", \"Gloom\", \"Gloom\", \"Vileplume\", \"Vileplume\", \"Paras\", \"Paras\", \"Parasect\", \"Parasect\", \"Venonat\", \"Venonat\", \"Venomoth\", \"Venomoth\", \"Diglett\", \"Dugtrio\", \"Meowth\", \"Persian\", \"Psyduck\", \"Golduck\", \"Mankey\", \"Primeape\", \"Growlithe\", \"Arcanine\", \"Poliwag\", \"Poliwhirl\", \"Poliwrath\", \"Poliwrath\", \"Abra\", \"Kadabra\", \"Alakazam\", \"Machop\", \"Machoke\", \"Machamp\", \"Bellsprout\", \"Bellsprout\", \"Weepinbell\", \"Weepinbell\", \"Victreebel\", \"Victreebel\", \"Tentacool\", \"Tentacool\", \"Tentacruel\", \"Tentacruel\", \"Geodude\", \"Geodude\", \"Graveler\", \"Graveler\", \"Golem\", \"Golem\", \"Ponyta\", \"Rapidash\", \"Slowpoke\", \"Slowpoke\", \"Slowbro\", \"Slowbro\", \"Magnemite\", \"Magnemite\", \"Magneton\", \"Magneton\", \"Farfetchd\", \"Farfetchd\", \"Doduo\", \"Doduo\", \"Dodrio\", \"Dodrio\", \"Seel\", \"Dewgong\", \"Dewgong\", \"Grimer\", \"Muk\", \"Shellder\", \"Cloyster\", \"Cloyster\", \"Gastly\", \"Gastly\", \"Haunter\", \"Haunter\", \"Gengar\", \"Gengar\", \"Onix\", \"Onix\", \"Drowzee\", \"Hypno\", \"Krabby\", \"Kingler\", \"Voltorb\", \"Electrode\", \"Exeggcute\", \"Exeggcute\", \"Exeggutor\", \"Exeggutor\", \"Cubone\", \"Marowak\", \"Hitmonlee\", \"Hitmonchan\", \"Lickitung\", \"Koffing\", \"Weezing\", \"Rhyhorn\", \"Rhyhorn\", \"Rhydon\", \"Rhydon\", \"Chansey\", \"Tangela\", \"Kangaskhan\", \"Horsea\", \"Seadra\", \"Goldeen\", \"Seaking\", \"Staryu\", \"Starmie\", \"Starmie\", \"Mr-mime\", \"Mr-mime\", \"Scyther\", \"Scyther\", \"Jynx\", \"Jynx\", \"Electabuzz\", \"Magmar\", \"Pinsir\", \"Tauros\", \"Magikarp\", \"Gyarados\", \"Gyarados\", \"Lapras\", \"Lapras\", \"Ditto\", \"Eevee\", \"Vaporeon\", \"Jolteon\", \"Flareon\", \"Porygon\", \"Omanyte\", \"Omanyte\", \"Omastar\", \"Omastar\", \"Kabuto\", \"Kabuto\", \"Kabutops\", \"Kabutops\", \"Aerodactyl\", \"Aerodactyl\", \"Snorlax\", \"Articuno\", \"Articuno\", \"Zapdos\", \"Zapdos\", \"Moltres\", \"Moltres\", \"Dratini\", \"Dragonair\", \"Dragonite\", \"Dragonite\", \"Mewtwo\", \"Mew\" ]"
   ]
  },
  {
   "cell_type": "code",
   "execution_count": null,
   "id": "f1ae5da5-be52-4029-a543-ce86fd2a01b1",
   "metadata": {
    "tags": []
   },
   "outputs": [],
   "source": [
    "pokemonG1Tipos = [ \"erva\", \"veneno\", \"erva\", \"veneno\", \"erva\", \"veneno\", \"fogo\", \"fogo\", \"fogo\", \"voador\", \"agua\", \"agua\", \"agua\", \"inseto\", \"inseto\", \"inseto\", \"voador\", \"inseto\", \"veneno\", \"inseto\", \"veneno\", \"inseto\", \"veneno\", \"normal\", \"voador\", \"normal\", \"voador\", \"normal\", \"voador\", \"normal\", \"normal\", \"normal\", \"voador\", \"normal\", \"voador\", \"veneno\", \"veneno\", \"eletrico\", \"eletrico\", \"terra\", \"terra\", \"veneno\", \"veneno\", \"veneno\", \"terra\", \"veneno\", \"veneno\", \"veneno\", \"terra\", \"fada\", \"fada\", \"fogo\", \"fogo\", \"normal\", \"fada\", \"normal\", \"fada\", \"veneno\", \"voador\", \"veneno\", \"voador\", \"erva\", \"veneno\", \"erva\", \"veneno\", \"erva\", \"veneno\", \"inseto\", \"erva\", \"inseto\", \"erva\", \"inseto\", \"veneno\", \"inseto\", \"veneno\", \"terra\", \"terra\", \"normal\", \"normal\", \"agua\", \"agua\", \"lutador\", \"lutador\", \"fogo\", \"fogo\", \"agua\", \"agua\", \"agua\", \"lutador\", \"psiquico\", \"psiquico\", \"psiquico\", \"lutador\", \"lutador\", \"lutador\", \"erva\", \"veneno\", \"erva\", \"veneno\", \"erva\", \"veneno\", \"agua\", \"veneno\", \"agua\", \"veneno\", \"rocha\", \"terra\", \"rocha\", \"terra\", \"rocha\", \"terra\", \"fogo\", \"fogo\", \"agua\", \"psiquico\", \"agua\", \"psiquico\", \"eletrico\", \"aço\", \"eletrico\", \"aço\", \"normal\", \"voador\", \"normal\", \"voador\", \"normal\", \"voador\", \"agua\", \"agua\", \"gelo\", \"veneno\", \"veneno\", \"agua\", \"agua\", \"gelo\", \"fantasma\", \"veneno\", \"fantasma\", \"veneno\", \"fantasma\", \"veneno\", \"rocha\", \"terra\", \"psiquico\", \"psiquico\", \"agua\", \"agua\", \"eletrico\", \"eletrico\", \"erva\", \"psiquico\", \"erva\", \"psiquico\", \"terra\", \"terra\", \"lutador\", \"lutador\", \"normal\", \"veneno\", \"veneno\", \"terra\", \"rocha\", \"terra\", \"rocha\", \"normal\", \"erva\", \"normal\", \"agua\", \"agua\", \"agua\", \"agua\", \"agua\", \"agua\", \"psiquico\", \"psiquico\", \"fada\", \"inseto\", \"voador\", \"gelo\", \"psiquico\", \"eletrico\", \"fogo\", \"inseto\", \"normal\", \"agua\", \"agua\", \"voador\", \"agua\", \"gelo\", \"normal\", \"normal\", \"agua\", \"eletrico\", \"fogo\", \"normal\", \"rocha\", \"agua\", \"rocha\", \"agua\", \"rocha\", \"agua\", \"rocha\", \"agua\", \"rocha\", \"voador\", \"normal\", \"gelo\", \"voador\", \"eletrico\", \"voador\", \"fogo\", \"voador\", \"dragao\", \"dragao\", \"dragao\", \"voador\", \"psiquico\", \"psiquico\" ]"
   ]
  },
  {
   "cell_type": "code",
   "execution_count": null,
   "id": "7cb3825e-9584-4107-b6e5-02fdea0a139b",
   "metadata": {
    "tags": []
   },
   "outputs": [
    {
     "data": {
      "text/plain": [
       "[(\"Abra\",\"psiquico\"),(\"Aerodactyl\",\"rocha\"),(\"Aerodactyl\",\"voador\"),(\"Alakazam\",\"psiquico\"),(\"Arbok\",\"veneno\"),(\"Arcanine\",\"fogo\"),(\"Articuno\",\"gelo\"),(\"Articuno\",\"voador\"),(\"Beedrill\",\"inseto\"),(\"Beedrill\",\"veneno\"),(\"Bellsprout\",\"erva\"),(\"Bellsprout\",\"veneno\"),(\"Blastoise\",\"agua\"),(\"Bulbasaur\",\"erva\"),(\"Bulbasaur\",\"veneno\"),(\"Butterfree\",\"inseto\"),(\"Butterfree\",\"voador\"),(\"Caterpie\",\"inseto\"),(\"Chansey\",\"normal\"),(\"Charizard\",\"fogo\"),(\"Charizard\",\"voador\"),(\"Charmander\",\"fogo\"),(\"Charmeleon\",\"fogo\"),(\"Clefable\",\"fada\"),(\"Clefairy\",\"fada\"),(\"Cloyster\",\"agua\"),(\"Cloyster\",\"gelo\"),(\"Cubone\",\"terra\"),(\"Dewgong\",\"agua\"),(\"Dewgong\",\"gelo\"),(\"Diglett\",\"terra\"),(\"Ditto\",\"normal\"),(\"Dodrio\",\"normal\"),(\"Dodrio\",\"voador\"),(\"Doduo\",\"normal\"),(\"Doduo\",\"voador\"),(\"Dragonair\",\"dragao\"),(\"Dragonite\",\"dragao\"),(\"Dragonite\",\"voador\"),(\"Dratini\",\"dragao\"),(\"Drowzee\",\"psiquico\"),(\"Dugtrio\",\"terra\"),(\"Eevee\",\"normal\"),(\"Ekans\",\"veneno\"),(\"Electabuzz\",\"eletrico\"),(\"Electrode\",\"eletrico\"),(\"Exeggcute\",\"erva\"),(\"Exeggcute\",\"psiquico\"),(\"Exeggutor\",\"erva\"),(\"Exeggutor\",\"psiquico\"),(\"Farfetchd\",\"normal\"),(\"Farfetchd\",\"voador\"),(\"Fearow\",\"normal\"),(\"Fearow\",\"voador\"),(\"Flareon\",\"fogo\"),(\"Gastly\",\"fantasma\"),(\"Gastly\",\"veneno\"),(\"Gengar\",\"fantasma\"),(\"Gengar\",\"veneno\"),(\"Geodude\",\"rocha\"),(\"Geodude\",\"terra\"),(\"Gloom\",\"erva\"),(\"Gloom\",\"veneno\"),(\"Golbat\",\"veneno\"),(\"Golbat\",\"voador\"),(\"Goldeen\",\"agua\"),(\"Golduck\",\"agua\"),(\"Golem\",\"rocha\"),(\"Golem\",\"terra\"),(\"Graveler\",\"rocha\"),(\"Graveler\",\"terra\"),(\"Grimer\",\"veneno\"),(\"Growlithe\",\"fogo\"),(\"Gyarados\",\"agua\"),(\"Gyarados\",\"voador\"),(\"Haunter\",\"fantasma\"),(\"Haunter\",\"veneno\"),(\"Hitmonchan\",\"lutador\"),(\"Hitmonlee\",\"lutador\"),(\"Horsea\",\"agua\"),(\"Hypno\",\"psiquico\"),(\"Ivysaur\",\"erva\"),(\"Ivysaur\",\"veneno\"),(\"Jigglypuff\",\"fada\"),(\"Jigglypuff\",\"normal\"),(\"Jolteon\",\"eletrico\"),(\"Jynx\",\"gelo\"),(\"Jynx\",\"psiquico\"),(\"Kabuto\",\"agua\"),(\"Kabuto\",\"rocha\"),(\"Kabutops\",\"agua\"),(\"Kabutops\",\"rocha\"),(\"Kadabra\",\"psiquico\"),(\"Kakuna\",\"inseto\"),(\"Kakuna\",\"veneno\"),(\"Kangaskhan\",\"normal\"),(\"Kingler\",\"agua\"),(\"Koffing\",\"veneno\"),(\"Krabby\",\"agua\"),(\"Lapras\",\"agua\"),(\"Lapras\",\"gelo\"),(\"Lickitung\",\"normal\"),(\"Machamp\",\"lutador\"),(\"Machoke\",\"lutador\"),(\"Machop\",\"lutador\"),(\"Magikarp\",\"agua\"),(\"Magmar\",\"fogo\"),(\"Magnemite\",\"a\\231o\"),(\"Magnemite\",\"eletrico\"),(\"Magneton\",\"a\\231o\"),(\"Magneton\",\"eletrico\"),(\"Mankey\",\"lutador\"),(\"Marowak\",\"terra\"),(\"Meowth\",\"normal\"),(\"Metapod\",\"inseto\"),(\"Mew\",\"psiquico\"),(\"Mewtwo\",\"psiquico\"),(\"Moltres\",\"fogo\"),(\"Moltres\",\"voador\"),(\"Mr-mime\",\"fada\"),(\"Mr-mime\",\"psiquico\"),(\"Muk\",\"veneno\"),(\"Nidoking\",\"terra\"),(\"Nidoking\",\"veneno\"),(\"Nidoqueen\",\"terra\"),(\"Nidoqueen\",\"veneno\"),(\"Nidoran-f\",\"veneno\"),(\"Nidoran-m\",\"veneno\"),(\"Nidorina\",\"veneno\"),(\"Nidorino\",\"veneno\"),(\"Ninetales\",\"fogo\"),(\"Oddish\",\"erva\"),(\"Oddish\",\"veneno\"),(\"Omanyte\",\"agua\"),(\"Omanyte\",\"rocha\"),(\"Omastar\",\"agua\"),(\"Omastar\",\"rocha\"),(\"Onix\",\"rocha\"),(\"Onix\",\"terra\"),(\"Paras\",\"erva\"),(\"Paras\",\"inseto\"),(\"Parasect\",\"erva\"),(\"Parasect\",\"inseto\"),(\"Persian\",\"normal\"),(\"Pidgeot\",\"normal\"),(\"Pidgeot\",\"voador\"),(\"Pidgeotto\",\"normal\"),(\"Pidgeotto\",\"voador\"),(\"Pidgey\",\"normal\"),(\"Pidgey\",\"voador\"),(\"Pikachu\",\"eletrico\"),(\"Pinsir\",\"inseto\"),(\"Poliwag\",\"agua\"),(\"Poliwhirl\",\"agua\"),(\"Poliwrath\",\"agua\"),(\"Poliwrath\",\"lutador\"),(\"Ponyta\",\"fogo\"),(\"Porygon\",\"normal\"),(\"Primeape\",\"lutador\"),(\"Psyduck\",\"agua\"),(\"Raichu\",\"eletrico\"),(\"Rapidash\",\"fogo\"),(\"Raticate\",\"normal\"),(\"Rattata\",\"normal\"),(\"Rhydon\",\"rocha\"),(\"Rhydon\",\"terra\"),(\"Rhyhorn\",\"rocha\"),(\"Rhyhorn\",\"terra\"),(\"Sandshrew\",\"terra\"),(\"Sandslash\",\"terra\"),(\"Scyther\",\"inseto\"),(\"Scyther\",\"voador\"),(\"Seadra\",\"agua\"),(\"Seaking\",\"agua\"),(\"Seel\",\"agua\"),(\"Shellder\",\"agua\"),(\"Slowbro\",\"agua\"),(\"Slowbro\",\"psiquico\"),(\"Slowpoke\",\"agua\"),(\"Slowpoke\",\"psiquico\"),(\"Snorlax\",\"normal\"),(\"Spearow\",\"normal\"),(\"Spearow\",\"voador\"),(\"Squirtle\",\"agua\"),(\"Starmie\",\"agua\"),(\"Starmie\",\"psiquico\"),(\"Staryu\",\"agua\"),(\"Tangela\",\"erva\"),(\"Tauros\",\"normal\"),(\"Tentacool\",\"agua\"),(\"Tentacool\",\"veneno\"),(\"Tentacruel\",\"agua\"),(\"Tentacruel\",\"veneno\"),(\"Vaporeon\",\"agua\"),(\"Venomoth\",\"inseto\"),(\"Venomoth\",\"veneno\"),(\"Venonat\",\"inseto\"),(\"Venonat\",\"veneno\"),(\"Venusaur\",\"erva\"),(\"Venusaur\",\"veneno\"),(\"Victreebel\",\"erva\"),(\"Victreebel\",\"veneno\"),(\"Vileplume\",\"erva\"),(\"Vileplume\",\"veneno\"),(\"Voltorb\",\"eletrico\"),(\"Vulpix\",\"fogo\"),(\"Wartortle\",\"agua\"),(\"Weedle\",\"inseto\"),(\"Weedle\",\"veneno\"),(\"Weepinbell\",\"erva\"),(\"Weepinbell\",\"veneno\"),(\"Weezing\",\"veneno\"),(\"Wigglytuff\",\"fada\"),(\"Wigglytuff\",\"normal\"),(\"Zapdos\",\"eletrico\"),(\"Zapdos\",\"voador\"),(\"Zubat\",\"veneno\"),(\"Zubat\",\"voador\")]"
      ]
     },
     "metadata": {},
     "output_type": "display_data"
    }
   ],
   "source": [
    "(pokemonG1 # pokemonG1Tipos) |> sort"
   ]
  },
  {
   "cell_type": "markdown",
   "id": "24354d29-c592-4458-8f70-f2d022b9a0cf",
   "metadata": {
    "jp-MarkdownHeadingCollapsed": true,
    "tags": []
   },
   "source": [
    "### Pergunta 7\n",
    "\n",
    "|Versão|Pergunta|\n",
    "|:--:|--|\n",
    "|1|Qual o **tipo** do Pokémon **Sandshrew**?|\n",
    "|2|Qual o **tipo** do Pokémon **Growlithe**?|\n",
    "|3|Qual o **tipo** do Pokémon **Tangela**?|\n",
    "|4|Qual o **tipo** do Pokémon **Jolteon**?|\n",
    "\n",
    "<span style=\"font-size:.825em\"><b>Nota:</b> Procura a resposta na lista de pares ordenada que criaste na pergunta anterior.\n",
    "\n",
    "**Solução:**"
   ]
  },
  {
   "cell_type": "markdown",
   "id": "872d0078-6830-402e-9ac1-bd71352fe1c8",
   "metadata": {},
   "source": [
    "|Versão|Pergunta|Resposta|\n",
    "|:--:|--|--|\n",
    "|1|Qual o **tipo** do Pokémon **Sandshrew**?|terra|\n",
    "|2|Qual o **tipo** do Pokémon **Growlithe**?|fogo|\n",
    "|3|Qual o **tipo** do Pokémon **Tangela**?|erva|\n",
    "|4|Qual o **tipo** do Pokémon **Jolteon**?|eletrico|"
   ]
  },
  {
   "cell_type": "markdown",
   "id": "d92a07be-347d-47dc-b8d6-972f5a655f31",
   "metadata": {
    "jp-MarkdownHeadingCollapsed": true,
    "tags": []
   },
   "source": [
    "### Pergunta 8\n",
    "Qual destes Pokémon tem **mais do que um tipo**?\n",
    "\n",
    "<span style=\"font-size:.825em\"><b>Nota:</b> Procura a resposta na lista de pares ordenada que criaste anteriormente.</span>\n",
    "\n",
    "|Versão|Opções| | | | |\n",
    "|:--:|--|--|--|--|--|\n",
    "|1|<input type=\"checkbox\"> Pinsir <img src=\"https://img.pokemondb.net/artwork/pinsir.jpg\" style=\"max-height:2rem\">|<input type=\"checkbox\"> Gloom <img src=\"https://img.pokemondb.net/artwork/gloom.jpg\" style=\"max-height:2rem\">|<input type=\"checkbox\"> Sandshrew <img src=\"https://img.pokemondb.net/artwork/sandshrew.jpg\" style=\"max-height:2rem\">|<input type=\"checkbox\"> Chansey <img src=\"https://img.pokemondb.net/artwork/chansey.jpg\" style=\"max-height:2rem\">|<input type=\"checkbox\"> Drowzee <img src=\"https://img.pokemondb.net/artwork/drowzee.jpg\" style=\"max-height:2rem\">|\n",
    "|2|<input type=\"checkbox\"> Pinsir <img src=\"https://img.pokemondb.net/artwork/pinsir.jpg\" style=\"max-height:2rem\">|<input type=\"checkbox\"> Kabuto <img src=\"https://img.pokemondb.net/artwork/kabuto.jpg\" style=\"max-height:2rem\">|<input type=\"checkbox\"> Tangela <img src=\"https://img.pokemondb.net/artwork/tangela.jpg\" style=\"max-height:2rem\">|<input type=\"checkbox\"> Drowzee <img src=\"https://img.pokemondb.net/artwork/drowzee.jpg\" style=\"max-height:2rem\">|<input type=\"checkbox\"> Chansey <img src=\"https://img.pokemondb.net/artwork/chansey.jpg\" style=\"max-height:2rem\">|\n",
    "|3|<input type=\"checkbox\"> Sandshrew <img src=\"https://img.pokemondb.net/artwork/sandshrew.jpg\" style=\"max-height:2rem\">|<input type=\"checkbox\"> Pinsir <img src=\"https://img.pokemondb.net/artwork/pinsir.jpg\" style=\"max-height:2rem\">|<input type=\"checkbox\"> Rhydon <img src=\"https://img.pokemondb.net/artwork/rhydon.jpg\" style=\"max-height:2rem\">|<input type=\"checkbox\"> Chansey <img src=\"https://img.pokemondb.net/artwork/chansey.jpg\" style=\"max-height:2rem\">|<input type=\"checkbox\"> Jolteon <img src=\"https://img.pokemondb.net/artwork/jolteon.jpg\" style=\"max-height:2rem\">|\n",
    "|4|<input type=\"checkbox\"> Drowzee <img src=\"https://img.pokemondb.net/artwork/drowzee.jpg\" style=\"max-height:2rem\">|<input type=\"checkbox\"> Pinsir <img src=\"https://img.pokemondb.net/artwork/pinsir.jpg\" style=\"max-height:2rem\">|<input type=\"checkbox\"> Growlithe <img src=\"https://img.pokemondb.net/artwork/growlithe.jpg\" style=\"max-height:2rem\">|<input type=\"checkbox\"> Articuno <img src=\"https://img.pokemondb.net/artwork/articuno.jpg\" style=\"max-height:2rem\">|<input type=\"checkbox\"> Sandshrew <img src=\"https://img.pokemondb.net/artwork/sandshrew.jpg\" style=\"max-height:2rem\">|\n",
    "\n",
    "**Solução:**"
   ]
  },
  {
   "cell_type": "markdown",
   "id": "8485c152-a253-479a-be5b-9e386d654e05",
   "metadata": {},
   "source": [
    "|Versão|Opções| | | | |\n",
    "|:--:|--|--|--|--|--|\n",
    "|1|<input type=\"checkbox\"> Pinsir <img src=\"https://img.pokemondb.net/artwork/pinsir.jpg\" style=\"max-height:4rem\">|<input type=\"checkbox\" checked> Gloom <img src=\"https://img.pokemondb.net/artwork/gloom.jpg\" style=\"max-height:4rem\"><br><b>erva,veneno</b>|<input type=\"checkbox\"> Sandshrew <img src=\"https://img.pokemondb.net/artwork/sandshrew.jpg\" style=\"max-height:4rem\">|<input type=\"checkbox\"> Chansey <img src=\"https://img.pokemondb.net/artwork/chansey.jpg\" style=\"max-height:4rem\">|<input type=\"checkbox\"> Drowzee <img src=\"https://img.pokemondb.net/artwork/drowzee.jpg\" style=\"max-height:4rem\">|\n",
    "|2|<input type=\"checkbox\"> Pinsir <img src=\"https://img.pokemondb.net/artwork/pinsir.jpg\" style=\"max-height:4rem\">|<input type=\"checkbox\"> Tangela <img src=\"https://img.pokemondb.net/artwork/tangela.jpg\" style=\"max-height:4rem\">|<input type=\"checkbox\"> Drowzee <img src=\"https://img.pokemondb.net/artwork/drowzee.jpg\" style=\"max-height:4rem\">|<input type=\"checkbox\"> Chansey <img src=\"https://img.pokemondb.net/artwork/chansey.jpg\" style=\"max-height:4rem\">|<input type=\"checkbox\" checked> Kabuto <img src=\"https://img.pokemondb.net/artwork/kabuto.jpg\" style=\"max-height:4rem\"><br><b>rocha,agua</b>|\n",
    "|3|<input type=\"checkbox\"> Sandshrew <img src=\"https://img.pokemondb.net/artwork/sandshrew.jpg\" style=\"max-height:4rem\">|<input type=\"checkbox\"> Pinsir <img src=\"https://img.pokemondb.net/artwork/pinsir.jpg\" style=\"max-height:4rem\">|<input type=\"checkbox\" checked> Rhydon <img src=\"https://img.pokemondb.net/artwork/rhydon.jpg\" style=\"max-height:4rem\"><br><b>terra,rocha</b>|<input type=\"checkbox\"> Chansey <img src=\"https://img.pokemondb.net/artwork/chansey.jpg\" style=\"max-height:4rem\">|<input type=\"checkbox\"> Jolteon <img src=\"https://img.pokemondb.net/artwork/jolteon.jpg\" style=\"max-height:4rem\">|\n",
    "|4|<input type=\"checkbox\"> Drowzee <img src=\"https://img.pokemondb.net/artwork/drowzee.jpg\" style=\"max-height:4rem\">|<input type=\"checkbox\"> Pinsir <img src=\"https://img.pokemondb.net/artwork/pinsir.jpg\" style=\"max-height:4rem\">|<input type=\"checkbox\"> Growlithe <img src=\"https://img.pokemondb.net/artwork/growlithe.jpg\" style=\"max-height:4rem\">|<input type=\"checkbox\" checked> Articuno <img src=\"https://img.pokemondb.net/artwork/articuno.jpg\" style=\"max-height:4rem\"><br><b>gelo,voador</b>|<input type=\"checkbox\"> Sandshrew <img src=\"https://img.pokemondb.net/artwork/sandshrew.jpg\" style=\"max-height:4rem\">|"
   ]
  },
  {
   "cell_type": "markdown",
   "id": "d712de9a-2ad0-46cd-9919-8a25f93fe9ba",
   "metadata": {
    "jp-MarkdownHeadingCollapsed": true,
    "tags": []
   },
   "source": [
    "### Pergunta 9\n",
    "**Quantos** tipos **distintos** existem na lista `pokemonG1Tipos`?\n",
    "\n",
    "**Solução:**"
   ]
  },
  {
   "cell_type": "code",
   "execution_count": null,
   "id": "e66f6421-b843-4088-bd91-89d26b9d8a0c",
   "metadata": {
    "tags": []
   },
   "outputs": [
    {
     "data": {
      "text/plain": [
       "17"
      ]
     },
     "metadata": {},
     "output_type": "display_data"
    }
   ],
   "source": [
    "pokemonG1Tipos |> nub |> length"
   ]
  },
  {
   "cell_type": "markdown",
   "id": "d6ed4a3f-6640-4ad4-83d9-d7d5821b5429",
   "metadata": {
    "jp-MarkdownHeadingCollapsed": true,
    "tags": []
   },
   "source": [
    "### Pergunta 10\n",
    "<p>A lista <code>pok2</code> tem os nomes de todos os 100 Pokémon da Geração II.</p>\n",
    "\n",
    "<p><code><b>pok2</b> = [ \"Chikorita\", \"Bayleef\", \"Meganium\", \"Cyndaquil\", \"Quilava\", \"Typhlosion\", \"Totodile\", \"Croconaw\", \"Feraligatr\", \"Sentret\", \"Furret\", \"Hoothoot\", \"Noctowl\", \"Ledyba\", \"Ledian\", \"Spinarak\", \"Ariados\", \"Crobat\", \"Chinchou\", \"Lanturn\", \"Pichu\", \"Cleffa\", \"Igglybuff\", \"Togepi\", \"Togetic\", \"Natu\", \"Xatu\", \"Mareep\", \"Flaaffy\", \"Ampharos\", \"Bellossom\", \"Marill\", \"Azumarill\", \"Sudowoodo\", \"Politoed\", \"Hoppip\", \"Skiploom\", \"Jumpluff\", \"Aipom\", \"Sunkern\", \"Sunflora\", \"Yanma\", \"Wooper\", \"Quagsire\", \"Espeon\", \"Umbreon\", \"Murkrow\", \"Slowking\", \"Misdreavus\", \"Unown\", \"Wobbuffet\", \"Girafarig\", \"Pineco\", \"Forretress\", \"Dunsparce\", \"Gligar\", \"Steelix\", \"Snubbull\", \"Granbull\", \"Qwilfish\", \"Scizor\", \"Shuckle\", \"Heracross\", \"Sneasel\", \"Teddiursa\", \"Ursaring\", \"Slugma\", \"Magcargo\", \"Swinub\", \"Piloswine\", \"Corsola\", \"Remoraid\", \"Octillery\", \"Delibird\", \"Mantine\", \"Skarmory\", \"Houndour\", \"Houndoom\", \"Kingdra\", \"Phanpy\", \"Donphan\", \"Porygon2\", \"Stantler\", \"Smeargle\", \"Tyrogue\", \"Hitmontop\", \"Smoochum\", \"Elekid\", \"Magby\", \"Miltank\", \"Blissey\", \"Raikou\", \"Entei\", \"Suicune\", \"Larvitar\", \"Pupitar\", \"Tyranitar\", \"Lugia\", \"Ho-oh\", \"Celebi\" ]</code></p>\n",
    "\n",
    "<p>Segue os seguintes passos no Jupyter:\n",
    "    <br><b>1º.</b> Tira os nomes repetidos da lista <code>pokemonG1</code>.\n",
    "    <br><b>2º.</b> Junta os Pokémon das duas gerações numa única lista (junta os Pokémon distintos da lista pokemonG1 com os da lista <code>pok2</code>).\n",
    "    <br><b>3º.</b> Vira os nomes de todos os Pokémon ao contrário! (do fim para o princípio)\n",
    "</p>\n",
    "\n",
    "<p>Copia <b>a lista com todos os nomes invertidos</b> para a caixa da resposta.</p>\n",
    "\n",
    "<p><span style=\"font-size:.825em\"><b>Pista:</b> A tua lista deve parecer-se com <code>[\"ruasabluB\",\"ruasyvI\",\"ruasuneV\",...,\"aiguL\",\"ho-oH\",\"ibeleC\"]</code>.</span></p>\n",
    "\n",
    "**Solução**:"
   ]
  },
  {
   "cell_type": "markdown",
   "id": "8b1a0fd7-49b0-42e1-b593-20e03a6a6cd2",
   "metadata": {},
   "source": [
    "Vamos começar por dar a lista `pok2` ao Jupyter."
   ]
  },
  {
   "cell_type": "code",
   "execution_count": null,
   "id": "544feb0a-8501-44ac-bd4f-d6206806b664",
   "metadata": {
    "tags": []
   },
   "outputs": [],
   "source": [
    "pok2 = [ \"Chikorita\", \"Bayleef\", \"Meganium\", \"Cyndaquil\", \"Quilava\", \"Typhlosion\", \"Totodile\", \"Croconaw\", \"Feraligatr\", \"Sentret\", \"Furret\", \"Hoothoot\", \"Noctowl\", \"Ledyba\", \"Ledian\", \"Spinarak\", \"Ariados\", \"Crobat\", \"Chinchou\", \"Lanturn\", \"Pichu\", \"Cleffa\", \"Igglybuff\", \"Togepi\", \"Togetic\", \"Natu\", \"Xatu\", \"Mareep\", \"Flaaffy\", \"Ampharos\", \"Bellossom\", \"Marill\", \"Azumarill\", \"Sudowoodo\", \"Politoed\", \"Hoppip\", \"Skiploom\", \"Jumpluff\", \"Aipom\", \"Sunkern\", \"Sunflora\", \"Yanma\", \"Wooper\", \"Quagsire\", \"Espeon\", \"Umbreon\", \"Murkrow\", \"Slowking\", \"Misdreavus\", \"Unown\", \"Wobbuffet\", \"Girafarig\", \"Pineco\", \"Forretress\", \"Dunsparce\", \"Gligar\", \"Steelix\", \"Snubbull\", \"Granbull\", \"Qwilfish\", \"Scizor\", \"Shuckle\", \"Heracross\", \"Sneasel\", \"Teddiursa\", \"Ursaring\", \"Slugma\", \"Magcargo\", \"Swinub\", \"Piloswine\", \"Corsola\", \"Remoraid\", \"Octillery\", \"Delibird\", \"Mantine\", \"Skarmory\", \"Houndour\", \"Houndoom\", \"Kingdra\", \"Phanpy\", \"Donphan\", \"Porygon2\", \"Stantler\", \"Smeargle\", \"Tyrogue\", \"Hitmontop\", \"Smoochum\", \"Elekid\", \"Magby\", \"Miltank\", \"Blissey\", \"Raikou\", \"Entei\", \"Suicune\", \"Larvitar\", \"Pupitar\", \"Tyranitar\", \"Lugia\", \"Ho-oh\", \"Celebi\" ]"
   ]
  },
  {
   "cell_type": "markdown",
   "id": "4cfeff23-6bbb-4f8d-8583-1906f4bf39e8",
   "metadata": {},
   "source": [
    "Para cumprir o **1º passo**, vamos eliminar os nomes repetidos da lista `pokemonG1` usando a transformação `nub`:"
   ]
  },
  {
   "cell_type": "code",
   "execution_count": null,
   "id": "0bd765ce-dece-432d-b548-4aa548a73eb0",
   "metadata": {
    "tags": []
   },
   "outputs": [
    {
     "data": {
      "text/plain": [
       "[\"Bulbasaur\",\"Ivysaur\",\"Venusaur\",\"Charmander\",\"Charmeleon\",\"Charizard\",\"Squirtle\",\"Wartortle\",\"Blastoise\",\"Caterpie\",\"Metapod\",\"Butterfree\",\"Weedle\",\"Kakuna\",\"Beedrill\",\"Pidgey\",\"Pidgeotto\",\"Pidgeot\",\"Rattata\",\"Raticate\",\"Spearow\",\"Fearow\",\"Ekans\",\"Arbok\",\"Pikachu\",\"Raichu\",\"Sandshrew\",\"Sandslash\",\"Nidoran-f\",\"Nidorina\",\"Nidoqueen\",\"Nidoran-m\",\"Nidorino\",\"Nidoking\",\"Clefairy\",\"Clefable\",\"Vulpix\",\"Ninetales\",\"Jigglypuff\",\"Wigglytuff\",\"Zubat\",\"Golbat\",\"Oddish\",\"Gloom\",\"Vileplume\",\"Paras\",\"Parasect\",\"Venonat\",\"Venomoth\",\"Diglett\",\"Dugtrio\",\"Meowth\",\"Persian\",\"Psyduck\",\"Golduck\",\"Mankey\",\"Primeape\",\"Growlithe\",\"Arcanine\",\"Poliwag\",\"Poliwhirl\",\"Poliwrath\",\"Abra\",\"Kadabra\",\"Alakazam\",\"Machop\",\"Machoke\",\"Machamp\",\"Bellsprout\",\"Weepinbell\",\"Victreebel\",\"Tentacool\",\"Tentacruel\",\"Geodude\",\"Graveler\",\"Golem\",\"Ponyta\",\"Rapidash\",\"Slowpoke\",\"Slowbro\",\"Magnemite\",\"Magneton\",\"Farfetchd\",\"Doduo\",\"Dodrio\",\"Seel\",\"Dewgong\",\"Grimer\",\"Muk\",\"Shellder\",\"Cloyster\",\"Gastly\",\"Haunter\",\"Gengar\",\"Onix\",\"Drowzee\",\"Hypno\",\"Krabby\",\"Kingler\",\"Voltorb\",\"Electrode\",\"Exeggcute\",\"Exeggutor\",\"Cubone\",\"Marowak\",\"Hitmonlee\",\"Hitmonchan\",\"Lickitung\",\"Koffing\",\"Weezing\",\"Rhyhorn\",\"Rhydon\",\"Chansey\",\"Tangela\",\"Kangaskhan\",\"Horsea\",\"Seadra\",\"Goldeen\",\"Seaking\",\"Staryu\",\"Starmie\",\"Mr-mime\",\"Scyther\",\"Jynx\",\"Electabuzz\",\"Magmar\",\"Pinsir\",\"Tauros\",\"Magikarp\",\"Gyarados\",\"Lapras\",\"Ditto\",\"Eevee\",\"Vaporeon\",\"Jolteon\",\"Flareon\",\"Porygon\",\"Omanyte\",\"Omastar\",\"Kabuto\",\"Kabutops\",\"Aerodactyl\",\"Snorlax\",\"Articuno\",\"Zapdos\",\"Moltres\",\"Dratini\",\"Dragonair\",\"Dragonite\",\"Mewtwo\",\"Mew\"]"
      ]
     },
     "metadata": {},
     "output_type": "display_data"
    }
   ],
   "source": [
    "pokemonG1 |> nub"
   ]
  },
  {
   "cell_type": "markdown",
   "id": "5418f3f6-747a-4102-94c2-3f565f05435b",
   "metadata": {},
   "source": [
    "Podemos confirmar que a lista acima já não tem nomes repetidos (`\"Bulbasaur\"` aparecia duas vezes e agora já não).\n",
    "\n",
    "Para cumprir o **2º passo**, vamos copiar a lista que obtivémos no passo anterior e usar o operador `++` para juntar com a `pok2`:"
   ]
  },
  {
   "cell_type": "code",
   "execution_count": null,
   "id": "1d1badc1-5c68-43d4-a829-73775ade9721",
   "metadata": {
    "tags": []
   },
   "outputs": [
    {
     "data": {
      "text/plain": [
       "[\"Bulbasaur\",\"Ivysaur\",\"Venusaur\",\"Charmander\",\"Charmeleon\",\"Charizard\",\"Squirtle\",\"Wartortle\",\"Blastoise\",\"Caterpie\",\"Metapod\",\"Butterfree\",\"Weedle\",\"Kakuna\",\"Beedrill\",\"Pidgey\",\"Pidgeotto\",\"Pidgeot\",\"Rattata\",\"Raticate\",\"Spearow\",\"Fearow\",\"Ekans\",\"Arbok\",\"Pikachu\",\"Raichu\",\"Sandshrew\",\"Sandslash\",\"Nidoran-f\",\"Nidorina\",\"Nidoqueen\",\"Nidoran-m\",\"Nidorino\",\"Nidoking\",\"Clefairy\",\"Clefable\",\"Vulpix\",\"Ninetales\",\"Jigglypuff\",\"Wigglytuff\",\"Zubat\",\"Golbat\",\"Oddish\",\"Gloom\",\"Vileplume\",\"Paras\",\"Parasect\",\"Venonat\",\"Venomoth\",\"Diglett\",\"Dugtrio\",\"Meowth\",\"Persian\",\"Psyduck\",\"Golduck\",\"Mankey\",\"Primeape\",\"Growlithe\",\"Arcanine\",\"Poliwag\",\"Poliwhirl\",\"Poliwrath\",\"Abra\",\"Kadabra\",\"Alakazam\",\"Machop\",\"Machoke\",\"Machamp\",\"Bellsprout\",\"Weepinbell\",\"Victreebel\",\"Tentacool\",\"Tentacruel\",\"Geodude\",\"Graveler\",\"Golem\",\"Ponyta\",\"Rapidash\",\"Slowpoke\",\"Slowbro\",\"Magnemite\",\"Magneton\",\"Farfetchd\",\"Doduo\",\"Dodrio\",\"Seel\",\"Dewgong\",\"Grimer\",\"Muk\",\"Shellder\",\"Cloyster\",\"Gastly\",\"Haunter\",\"Gengar\",\"Onix\",\"Drowzee\",\"Hypno\",\"Krabby\",\"Kingler\",\"Voltorb\",\"Electrode\",\"Exeggcute\",\"Exeggutor\",\"Cubone\",\"Marowak\",\"Hitmonlee\",\"Hitmonchan\",\"Lickitung\",\"Koffing\",\"Weezing\",\"Rhyhorn\",\"Rhydon\",\"Chansey\",\"Tangela\",\"Kangaskhan\",\"Horsea\",\"Seadra\",\"Goldeen\",\"Seaking\",\"Staryu\",\"Starmie\",\"Mr-mime\",\"Scyther\",\"Jynx\",\"Electabuzz\",\"Magmar\",\"Pinsir\",\"Tauros\",\"Magikarp\",\"Gyarados\",\"Lapras\",\"Ditto\",\"Eevee\",\"Vaporeon\",\"Jolteon\",\"Flareon\",\"Porygon\",\"Omanyte\",\"Omastar\",\"Kabuto\",\"Kabutops\",\"Aerodactyl\",\"Snorlax\",\"Articuno\",\"Zapdos\",\"Moltres\",\"Dratini\",\"Dragonair\",\"Dragonite\",\"Mewtwo\",\"Mew\",\"Chikorita\",\"Bayleef\",\"Meganium\",\"Cyndaquil\",\"Quilava\",\"Typhlosion\",\"Totodile\",\"Croconaw\",\"Feraligatr\",\"Sentret\",\"Furret\",\"Hoothoot\",\"Noctowl\",\"Ledyba\",\"Ledian\",\"Spinarak\",\"Ariados\",\"Crobat\",\"Chinchou\",\"Lanturn\",\"Pichu\",\"Cleffa\",\"Igglybuff\",\"Togepi\",\"Togetic\",\"Natu\",\"Xatu\",\"Mareep\",\"Flaaffy\",\"Ampharos\",\"Bellossom\",\"Marill\",\"Azumarill\",\"Sudowoodo\",\"Politoed\",\"Hoppip\",\"Skiploom\",\"Jumpluff\",\"Aipom\",\"Sunkern\",\"Sunflora\",\"Yanma\",\"Wooper\",\"Quagsire\",\"Espeon\",\"Umbreon\",\"Murkrow\",\"Slowking\",\"Misdreavus\",\"Unown\",\"Wobbuffet\",\"Girafarig\",\"Pineco\",\"Forretress\",\"Dunsparce\",\"Gligar\",\"Steelix\",\"Snubbull\",\"Granbull\",\"Qwilfish\",\"Scizor\",\"Shuckle\",\"Heracross\",\"Sneasel\",\"Teddiursa\",\"Ursaring\",\"Slugma\",\"Magcargo\",\"Swinub\",\"Piloswine\",\"Corsola\",\"Remoraid\",\"Octillery\",\"Delibird\",\"Mantine\",\"Skarmory\",\"Houndour\",\"Houndoom\",\"Kingdra\",\"Phanpy\",\"Donphan\",\"Porygon2\",\"Stantler\",\"Smeargle\",\"Tyrogue\",\"Hitmontop\",\"Smoochum\",\"Elekid\",\"Magby\",\"Miltank\",\"Blissey\",\"Raikou\",\"Entei\",\"Suicune\",\"Larvitar\",\"Pupitar\",\"Tyranitar\",\"Lugia\",\"Ho-oh\",\"Celebi\"]"
      ]
     },
     "metadata": {},
     "output_type": "display_data"
    }
   ],
   "source": [
    "[\"Bulbasaur\",\"Ivysaur\",\"Venusaur\",\"Charmander\",\"Charmeleon\",\"Charizard\",\"Squirtle\",\"Wartortle\",\"Blastoise\",\"Caterpie\",\"Metapod\",\"Butterfree\",\"Weedle\",\"Kakuna\",\"Beedrill\",\"Pidgey\",\"Pidgeotto\",\"Pidgeot\",\"Rattata\",\"Raticate\",\"Spearow\",\"Fearow\",\"Ekans\",\"Arbok\",\"Pikachu\",\"Raichu\",\"Sandshrew\",\"Sandslash\",\"Nidoran-f\",\"Nidorina\",\"Nidoqueen\",\"Nidoran-m\",\"Nidorino\",\"Nidoking\",\"Clefairy\",\"Clefable\",\"Vulpix\",\"Ninetales\",\"Jigglypuff\",\"Wigglytuff\",\"Zubat\",\"Golbat\",\"Oddish\",\"Gloom\",\"Vileplume\",\"Paras\",\"Parasect\",\"Venonat\",\"Venomoth\",\"Diglett\",\"Dugtrio\",\"Meowth\",\"Persian\",\"Psyduck\",\"Golduck\",\"Mankey\",\"Primeape\",\"Growlithe\",\"Arcanine\",\"Poliwag\",\"Poliwhirl\",\"Poliwrath\",\"Abra\",\"Kadabra\",\"Alakazam\",\"Machop\",\"Machoke\",\"Machamp\",\"Bellsprout\",\"Weepinbell\",\"Victreebel\",\"Tentacool\",\"Tentacruel\",\"Geodude\",\"Graveler\",\"Golem\",\"Ponyta\",\"Rapidash\",\"Slowpoke\",\"Slowbro\",\"Magnemite\",\"Magneton\",\"Farfetchd\",\"Doduo\",\"Dodrio\",\"Seel\",\"Dewgong\",\"Grimer\",\"Muk\",\"Shellder\",\"Cloyster\",\"Gastly\",\"Haunter\",\"Gengar\",\"Onix\",\"Drowzee\",\"Hypno\",\"Krabby\",\"Kingler\",\"Voltorb\",\"Electrode\",\"Exeggcute\",\"Exeggutor\",\"Cubone\",\"Marowak\",\"Hitmonlee\",\"Hitmonchan\",\"Lickitung\",\"Koffing\",\"Weezing\",\"Rhyhorn\",\"Rhydon\",\"Chansey\",\"Tangela\",\"Kangaskhan\",\"Horsea\",\"Seadra\",\"Goldeen\",\"Seaking\",\"Staryu\",\"Starmie\",\"Mr-mime\",\"Scyther\",\"Jynx\",\"Electabuzz\",\"Magmar\",\"Pinsir\",\"Tauros\",\"Magikarp\",\"Gyarados\",\"Lapras\",\"Ditto\",\"Eevee\",\"Vaporeon\",\"Jolteon\",\"Flareon\",\"Porygon\",\"Omanyte\",\"Omastar\",\"Kabuto\",\"Kabutops\",\"Aerodactyl\",\"Snorlax\",\"Articuno\",\"Zapdos\",\"Moltres\",\"Dratini\",\"Dragonair\",\"Dragonite\",\"Mewtwo\",\"Mew\"] ++ pok2"
   ]
  },
  {
   "cell_type": "markdown",
   "id": "963241d1-b9da-424c-8d8e-87a0591b7f62",
   "metadata": {},
   "source": [
    "Podemos confirmar que a lista tem todos os Pokémon da Geração I (desde o Bulbasaur até ao Mew) seguidos de todos os da Geração II (desde a Chirokita até ao Celebi).\n",
    "\n",
    "Para simplificar o último passo, vamos começar por dar um identificador (um nome) a esta lista que obtivémos. Vamos chamar-lhe `todos`."
   ]
  },
  {
   "cell_type": "code",
   "execution_count": null,
   "id": "aad945a0-0aef-4ef7-a3a1-a4056cadfa1b",
   "metadata": {
    "tags": []
   },
   "outputs": [],
   "source": [
    "todos = [\"Bulbasaur\",\"Ivysaur\",\"Venusaur\",\"Charmander\",\"Charmeleon\",\"Charizard\",\"Squirtle\",\"Wartortle\",\"Blastoise\",\"Caterpie\",\"Metapod\",\"Butterfree\",\"Weedle\",\"Kakuna\",\"Beedrill\",\"Pidgey\",\"Pidgeotto\",\"Pidgeot\",\"Rattata\",\"Raticate\",\"Spearow\",\"Fearow\",\"Ekans\",\"Arbok\",\"Pikachu\",\"Raichu\",\"Sandshrew\",\"Sandslash\",\"Nidoran-f\",\"Nidorina\",\"Nidoqueen\",\"Nidoran-m\",\"Nidorino\",\"Nidoking\",\"Clefairy\",\"Clefable\",\"Vulpix\",\"Ninetales\",\"Jigglypuff\",\"Wigglytuff\",\"Zubat\",\"Golbat\",\"Oddish\",\"Gloom\",\"Vileplume\",\"Paras\",\"Parasect\",\"Venonat\",\"Venomoth\",\"Diglett\",\"Dugtrio\",\"Meowth\",\"Persian\",\"Psyduck\",\"Golduck\",\"Mankey\",\"Primeape\",\"Growlithe\",\"Arcanine\",\"Poliwag\",\"Poliwhirl\",\"Poliwrath\",\"Abra\",\"Kadabra\",\"Alakazam\",\"Machop\",\"Machoke\",\"Machamp\",\"Bellsprout\",\"Weepinbell\",\"Victreebel\",\"Tentacool\",\"Tentacruel\",\"Geodude\",\"Graveler\",\"Golem\",\"Ponyta\",\"Rapidash\",\"Slowpoke\",\"Slowbro\",\"Magnemite\",\"Magneton\",\"Farfetchd\",\"Doduo\",\"Dodrio\",\"Seel\",\"Dewgong\",\"Grimer\",\"Muk\",\"Shellder\",\"Cloyster\",\"Gastly\",\"Haunter\",\"Gengar\",\"Onix\",\"Drowzee\",\"Hypno\",\"Krabby\",\"Kingler\",\"Voltorb\",\"Electrode\",\"Exeggcute\",\"Exeggutor\",\"Cubone\",\"Marowak\",\"Hitmonlee\",\"Hitmonchan\",\"Lickitung\",\"Koffing\",\"Weezing\",\"Rhyhorn\",\"Rhydon\",\"Chansey\",\"Tangela\",\"Kangaskhan\",\"Horsea\",\"Seadra\",\"Goldeen\",\"Seaking\",\"Staryu\",\"Starmie\",\"Mr-mime\",\"Scyther\",\"Jynx\",\"Electabuzz\",\"Magmar\",\"Pinsir\",\"Tauros\",\"Magikarp\",\"Gyarados\",\"Lapras\",\"Ditto\",\"Eevee\",\"Vaporeon\",\"Jolteon\",\"Flareon\",\"Porygon\",\"Omanyte\",\"Omastar\",\"Kabuto\",\"Kabutops\",\"Aerodactyl\",\"Snorlax\",\"Articuno\",\"Zapdos\",\"Moltres\",\"Dratini\",\"Dragonair\",\"Dragonite\",\"Mewtwo\",\"Mew\",\"Chikorita\",\"Bayleef\",\"Meganium\",\"Cyndaquil\",\"Quilava\",\"Typhlosion\",\"Totodile\",\"Croconaw\",\"Feraligatr\",\"Sentret\",\"Furret\",\"Hoothoot\",\"Noctowl\",\"Ledyba\",\"Ledian\",\"Spinarak\",\"Ariados\",\"Crobat\",\"Chinchou\",\"Lanturn\",\"Pichu\",\"Cleffa\",\"Igglybuff\",\"Togepi\",\"Togetic\",\"Natu\",\"Xatu\",\"Mareep\",\"Flaaffy\",\"Ampharos\",\"Bellossom\",\"Marill\",\"Azumarill\",\"Sudowoodo\",\"Politoed\",\"Hoppip\",\"Skiploom\",\"Jumpluff\",\"Aipom\",\"Sunkern\",\"Sunflora\",\"Yanma\",\"Wooper\",\"Quagsire\",\"Espeon\",\"Umbreon\",\"Murkrow\",\"Slowking\",\"Misdreavus\",\"Unown\",\"Wobbuffet\",\"Girafarig\",\"Pineco\",\"Forretress\",\"Dunsparce\",\"Gligar\",\"Steelix\",\"Snubbull\",\"Granbull\",\"Qwilfish\",\"Scizor\",\"Shuckle\",\"Heracross\",\"Sneasel\",\"Teddiursa\",\"Ursaring\",\"Slugma\",\"Magcargo\",\"Swinub\",\"Piloswine\",\"Corsola\",\"Remoraid\",\"Octillery\",\"Delibird\",\"Mantine\",\"Skarmory\",\"Houndour\",\"Houndoom\",\"Kingdra\",\"Phanpy\",\"Donphan\",\"Porygon2\",\"Stantler\",\"Smeargle\",\"Tyrogue\",\"Hitmontop\",\"Smoochum\",\"Elekid\",\"Magby\",\"Miltank\",\"Blissey\",\"Raikou\",\"Entei\",\"Suicune\",\"Larvitar\",\"Pupitar\",\"Tyranitar\",\"Lugia\",\"Ho-oh\",\"Celebi\"]"
   ]
  },
  {
   "cell_type": "markdown",
   "id": "11390e23-1627-469b-b64b-2bf3c86c4289",
   "metadata": {},
   "source": [
    "Para cumprir o **3º passo**, precisamos que cada nome seja virado do fim para o princípio. Por exemplo, vemos na **Pista** do enunciado que o primeiro elemento da lista terá de ser a string `\"ruasabluB\"` (o contrário da string `\"Bulbasaur\"`, que é o primeiro nome na nossa lista `todos`).\n",
    "\n",
    "Para virar uma `string` do fim para o princípio, podemos usar a transformação `reverse`. Como queremos fazer `reverse` <u>a cada</u> nome da lista, vamos precisar da ajuda do <u>`map`</u>. "
   ]
  },
  {
   "cell_type": "code",
   "execution_count": null,
   "id": "609c739c-e16f-4af5-b184-b11824f08de7",
   "metadata": {
    "tags": []
   },
   "outputs": [
    {
     "data": {
      "text/plain": [
       "[\"ruasabluB\",\"ruasyvI\",\"ruasuneV\",\"rednamrahC\",\"noelemrahC\",\"drazirahC\",\"eltriuqS\",\"eltrotraW\",\"esiotsalB\",\"eipretaC\",\"dopateM\",\"eerfrettuB\",\"eldeeW\",\"anukaK\",\"llirdeeB\",\"yegdiP\",\"ottoegdiP\",\"toegdiP\",\"atattaR\",\"etacitaR\",\"woraepS\",\"woraeF\",\"snakE\",\"kobrA\",\"uhcakiP\",\"uhciaR\",\"werhsdnaS\",\"hsalsdnaS\",\"f-narodiN\",\"anirodiN\",\"neeuqodiN\",\"m-narodiN\",\"onirodiN\",\"gnikodiN\",\"yriafelC\",\"elbafelC\",\"xipluV\",\"selateniN\",\"ffupylggiJ\",\"ffutylggiW\",\"tabuZ\",\"tabloG\",\"hsiddO\",\"moolG\",\"emulpeliV\",\"saraP\",\"tcesaraP\",\"tanoneV\",\"htomoneV\",\"ttelgiD\",\"oirtguD\",\"htwoeM\",\"naisreP\",\"kcudysP\",\"kcudloG\",\"yeknaM\",\"epaemirP\",\"ehtilworG\",\"eninacrA\",\"gawiloP\",\"lrihwiloP\",\"htarwiloP\",\"arbA\",\"arbadaK\",\"mazakalA\",\"pohcaM\",\"ekohcaM\",\"pmahcaM\",\"tuorpslleB\",\"llebnipeeW\",\"lebeertciV\",\"loocatneT\",\"leurcatneT\",\"edudoeG\",\"relevarG\",\"meloG\",\"atynoP\",\"hsadipaR\",\"ekopwolS\",\"orbwolS\",\"etimengaM\",\"notengaM\",\"dhctefraF\",\"oudoD\",\"oirdoD\",\"leeS\",\"gnogweD\",\"remirG\",\"kuM\",\"redllehS\",\"retsyolC\",\"yltsaG\",\"retnuaH\",\"ragneG\",\"xinO\",\"eezworD\",\"onpyH\",\"ybbarK\",\"relgniK\",\"brotloV\",\"edortcelE\",\"etucggexE\",\"rotuggexE\",\"enobuC\",\"kaworaM\",\"eelnomtiH\",\"nahcnomtiH\",\"gnutikciL\",\"gniffoK\",\"gnizeeW\",\"nrohyhR\",\"nodyhR\",\"yesnahC\",\"alegnaT\",\"nahksagnaK\",\"aesroH\",\"ardaeS\",\"needloG\",\"gnikaeS\",\"uyratS\",\"eimratS\",\"emim-rM\",\"rehtycS\",\"xnyJ\",\"zzubatcelE\",\"ramgaM\",\"risniP\",\"soruaT\",\"prakigaM\",\"sodarayG\",\"sarpaL\",\"ottiD\",\"eeveE\",\"noeropaV\",\"noetloJ\",\"noeralF\",\"nogyroP\",\"etynamO\",\"ratsamO\",\"otubaK\",\"spotubaK\",\"lytcadoreA\",\"xalronS\",\"onucitrA\",\"sodpaZ\",\"sertloM\",\"initarD\",\"rianogarD\",\"etinogarD\",\"owtweM\",\"weM\",\"atirokihC\",\"feelyaB\",\"muinageM\",\"liuqadnyC\",\"avaliuQ\",\"noisolhpyT\",\"elidotoT\",\"wanocorC\",\"rtagilareF\",\"tertneS\",\"terruF\",\"toohtooH\",\"lwotcoN\",\"abydeL\",\"naideL\",\"karanipS\",\"sodairA\",\"taborC\",\"uohcnihC\",\"nrutnaL\",\"uhciP\",\"affelC\",\"ffubylggI\",\"ipegoT\",\"citegoT\",\"utaN\",\"utaX\",\"peeraM\",\"yffaalF\",\"sorahpmA\",\"mossolleB\",\"lliraM\",\"lliramuzA\",\"odoowoduS\",\"deotiloP\",\"pippoH\",\"moolpikS\",\"ffulpmuJ\",\"mopiA\",\"nreknuS\",\"arolfnuS\",\"amnaY\",\"repooW\",\"erisgauQ\",\"noepsE\",\"noerbmU\",\"workruM\",\"gnikwolS\",\"suvaerdsiM\",\"nwonU\",\"teffubboW\",\"girafariG\",\"oceniP\",\"sserterroF\",\"ecrapsnuD\",\"ragilG\",\"xileetS\",\"llubbunS\",\"llubnarG\",\"hsifliwQ\",\"rozicS\",\"elkcuhS\",\"ssorcareH\",\"lesaenS\",\"asruiddeT\",\"gnirasrU\",\"amgulS\",\"ogracgaM\",\"buniwS\",\"eniwsoliP\",\"alosroC\",\"diaromeR\",\"yrellitcO\",\"dribileD\",\"enitnaM\",\"yromrakS\",\"ruodnuoH\",\"moodnuoH\",\"ardgniK\",\"ypnahP\",\"nahpnoD\",\"2nogyroP\",\"reltnatS\",\"elgraemS\",\"eugoryT\",\"potnomtiH\",\"muhcoomS\",\"dikelE\",\"ybgaM\",\"knatliM\",\"yessilB\",\"uokiaR\",\"ietnE\",\"enuciuS\",\"rativraL\",\"ratipuP\",\"ratinaryT\",\"aiguL\",\"ho-oH\",\"ibeleC\"]"
      ]
     },
     "metadata": {},
     "output_type": "display_data"
    }
   ],
   "source": [
    "todos |> map reverse"
   ]
  },
  {
   "cell_type": "markdown",
   "id": "6271ec8e-ae8c-4587-8ae3-289fcea680ad",
   "metadata": {},
   "source": [
    "Para confirmar que chegámos à resposta certa, podemos observar que esta lista bate certo com a **Pista** do enunciado: começa com as strings `\"ruasabluB\",\"ruasyvI\",\"ruasuneV\"` e termina com as strings `\"aiguL\",\"ho-oH\",\"ibeleC\"`.\n",
    "\n",
    "# ✅ Feito!"
   ]
  }
 ],
 "metadata": {
  "kernelspec": {
   "display_name": "Haskell",
   "language": "haskell",
   "name": "haskell"
  },
  "language_info": {
   "codemirror_mode": "ihaskell",
   "file_extension": ".hs",
   "mimetype": "text/x-haskell",
   "name": "haskell",
   "pygments_lexer": "Haskell",
   "version": "9.4.5"
  }
 },
 "nbformat": 4,
 "nbformat_minor": 5
}
