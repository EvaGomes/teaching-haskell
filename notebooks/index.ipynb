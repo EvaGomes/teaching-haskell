{
 "cells": [
  {
   "cell_type": "markdown",
   "id": "0d8f6333-7aae-4bf6-82c4-c9649b9f1402",
   "metadata": {},
   "source": [
    "# Olá! 😁\n",
    "\n",
    "Bem-vindo ao JupyterLab da ENSICO.\n",
    "\n",
    "Aqui podes experimentar programação 🤩🤩🤩\n",
    "<br>\n",
    "<br>\n",
    "<hr>\n",
    "<br>"
   ]
  },
  {
   "cell_type": "markdown",
   "id": "78076295",
   "metadata": {},
   "source": [
    "Por exemplo, substitui \"Eva\" pelo teu nome na caixa abaixo e depois carrega no botão ![image.png](./assets/play.PNG) (que está na barra em cima)."
   ]
  },
  {
   "cell_type": "code",
   "execution_count": null,
   "id": "add67378-985e-42f5-87e3-324e30cdd46f",
   "metadata": {},
   "outputs": [],
   "source": [
    "oMeuNome = \"Eva\"\n",
    "mensagem = \"Olá \" ++ oMeuNome ++ \"! 😃\"\n",
    "putStrLn mensagem"
   ]
  }
 ],
 "metadata": {
  "kernelspec": {
   "display_name": "Haskell",
   "language": "haskell",
   "name": "haskell"
  },
  "language_info": {
   "codemirror_mode": "ihaskell",
   "file_extension": ".hs",
   "mimetype": "text/x-haskell",
   "name": "haskell",
   "pygments_lexer": "Haskell",
   "version": "8.10.7"
  }
 },
 "nbformat": 4,
 "nbformat_minor": 5
}
