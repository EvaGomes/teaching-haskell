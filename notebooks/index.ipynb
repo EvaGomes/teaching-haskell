{
 "cells": [
  {
   "cell_type": "markdown",
   "id": "0ba2c41a-8320-42d4-bc37-5a870c1f314f",
   "metadata": {},
   "source": [
    "© 2020-2023 ENSICO. Todos os direitos reservados\n",
    "<hr>"
   ]
  },
  {
   "cell_type": "markdown",
   "id": "0d8f6333-7aae-4bf6-82c4-c9649b9f1402",
   "metadata": {},
   "source": [
    "<br><span style=\"font-size:2rem;\">Olá! 😁</span>\n",
    "<div style=\"background:#3859ff; color:white; font-size:2rem; padding:1rem; margin:1rem 0;\">\n",
    "    Bem-vindo ao Jupyter da Ensico!\n",
    "    <br/>\n",
    "    <b>Aqui podes experimentar programação 🤩🤩🤩</b>\n",
    "</div>\n",
    "<br><hr>"
   ]
  },
  {
   "cell_type": "markdown",
   "id": "78076295",
   "metadata": {},
   "source": [
    "<big>Aqui em baixo está uma **caixa de código**!\n",
    "<br/>Experimenta tocar nela (vai ficar com a borda azul) e depois carregar no botão ![image.png](./assets/play.PNG) (que está na barra lá em cima).</big>"
   ]
  },
  {
   "cell_type": "code",
   "execution_count": null,
   "id": "add67378-985e-42f5-87e3-324e30cdd46f",
   "metadata": {},
   "outputs": [],
   "source": [
    "oMeuNome = \"PESSOA MISTERIOSA\"\n",
    "mensagem = \"Olá \" ++ oMeuNome ++ \"! 😃\\nParabéns!! Estás a executar o teu primeiro programa.\"\n",
    "putStrLn mensagem"
   ]
  },
  {
   "cell_type": "markdown",
   "id": "a389d213-ca70-422b-828b-bd230b5c5d97",
   "metadata": {},
   "source": [
    "<br/><big>Boa! Abaixo da caixa apareceu um resultado. O Jupyter leu as três instruções da caixa e fez o que lhe pedimos.\n",
    "<br/>Acabaste de aprender a **correr/executar um programa** no Jupyter!</big>\n",
    "\n",
    "---\n",
    "<br/><big>Agora, experimenta substituir `APRENDIZ` pelo teu nome na caixa abaixo e depois carrega no botão ![image.png](./assets/play.PNG).</big>"
   ]
  },
  {
   "cell_type": "code",
   "execution_count": null,
   "id": "8f06e9c0-a64e-413a-b183-6628b73d0e65",
   "metadata": {},
   "outputs": [],
   "source": [
    "oMeuNome = \"APRENDIZ\"\n",
    "mensagem = \"Olá \" ++ oMeuNome ++ \"! 😃\\nParabéns!! Estás a executar o teu segundo programa.\"\n",
    "putStrLn mensagem"
   ]
  },
  {
   "cell_type": "markdown",
   "id": "47fb9f72-7974-4f29-90cb-b865a335025d",
   "metadata": {},
   "source": [
    "<br/>\n",
    "<big>Espetáculo! Agora também já sabes que podes <b>fazer alterações aos programas</b>!</big>"
   ]
  },
  {
   "cell_type": "markdown",
   "id": "2f63be0b-e46c-4def-8e75-953f03b4a5a0",
   "metadata": {
    "tags": []
   },
   "source": [
    "<br><br><hr>\n",
    "## Ir para ...\n",
    "\n",
    "- a [Aula 17 - Sequências Numéricas e transformações (parte 1)](./aula17.ipynb)\n",
    "- a [Aula 18 - Sequências Numéricas e transformações (parte 2)](./aula18.ipynb)\n",
    "- a [Aula 23 - Sequências de Caracteres e transformações](./aula23.ipynb)\n",
    "- a [Aula 24 - Sequências de Palavras e transformações](./aula24.ipynb)\n",
    "- a [Aula 25 - SOLUÇÕES dos exercícios](./aula25.ipynb)\n",
    "- a página para fazer [experiências](./experiencias.ipynb)"
   ]
  }
 ],
 "metadata": {
  "kernelspec": {
   "display_name": "Haskell",
   "language": "haskell",
   "name": "haskell"
  },
  "language_info": {
   "codemirror_mode": "ihaskell",
   "file_extension": ".hs",
   "mimetype": "text/x-haskell",
   "name": "haskell",
   "pygments_lexer": "Haskell",
   "version": "9.2.7"
  }
 },
 "nbformat": 4,
 "nbformat_minor": 5
}
