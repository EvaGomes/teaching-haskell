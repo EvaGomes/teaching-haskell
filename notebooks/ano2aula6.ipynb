{
 "cells": [
  {
   "cell_type": "markdown",
   "id": "73d8fbb5-5609-467d-98cf-71efb380a15d",
   "metadata": {
    "deletable": false,
    "editable": false,
    "tags": []
   },
   "source": [
    "<span style=\"color:darkblue\"> ⚠️ **IMPORTANTE**</span>: **CORRE O CÓDIGO SEGUINTE** antes de começares a aula, senão alguns códigos não vão funcionar!\n",
    "<br><span style=\"color:gray\">(Para isso, clica na caixa de código abaixo e depois carrega no botão ![image.png](./assets/play.PNG) que está na barra em cima).</span>"
   ]
  },
  {
   "cell_type": "code",
   "execution_count": null,
   "id": "de792aaa-432e-4748-9735-bf3f63c90e6e",
   "metadata": {
    "deletable": false,
    "editable": false,
    "tags": []
   },
   "outputs": [],
   "source": [
    ":opt no-lint\n",
    ":l scripts/ensico.hs\n",
    "putStrLn (['F']++['e','i','t']++\"o!\")"
   ]
  },
  {
   "cell_type": "markdown",
   "id": "be4bc0d9-26de-4a7e-a117-2c280a67c0be",
   "metadata": {
    "deletable": false,
    "editable": false,
    "tags": []
   },
   "source": [
    "---\n",
    "\n",
    "# Fecho-éclair de Listas\n",
    "> **Computação - Ano 2 - Aula 6** <br>\n",
    "> © 2020-2024 ENSICO. Todos os direitos reservados"
   ]
  }
 ],
 "metadata": {
  "kernelspec": {
   "display_name": "Haskell",
   "language": "haskell",
   "name": "haskell"
  },
  "language_info": {
   "codemirror_mode": "ihaskell",
   "file_extension": ".hs",
   "mimetype": "text/x-haskell",
   "name": "haskell",
   "pygments_lexer": "Haskell",
   "version": "9.4.5"
  }
 },
 "nbformat": 4,
 "nbformat_minor": 5
}
