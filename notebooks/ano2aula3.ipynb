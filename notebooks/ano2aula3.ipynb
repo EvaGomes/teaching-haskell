{
 "cells": [
  {
   "cell_type": "markdown",
   "id": "73d8fbb5-5609-467d-98cf-71efb380a15d",
   "metadata": {},
   "source": [
    "<span style=\"color:darkblue\"> ⚠️ **IMPORTANTE**</span>: **CORRE O CÓDIGO SEGUINTE** antes de começares a aula, senão alguns códigos não vão funcionar!\n",
    "<br><span style=\"color:gray\">(Para isso, clica na caixa de código abaixo e depois carrega no botão ![image.png](./assets/play.PNG) que está na barra em cima).</span>"
   ]
  },
  {
   "cell_type": "code",
   "execution_count": null,
   "id": "de792aaa-432e-4748-9735-bf3f63c90e6e",
   "metadata": {
    "tags": []
   },
   "outputs": [],
   "source": [
    ":opt no-lint\n",
    ":l scripts/ensico.hs\n",
    "putStrLn ['F','e','i','t','o','!']"
   ]
  },
  {
   "cell_type": "markdown",
   "id": "be4bc0d9-26de-4a7e-a117-2c280a67c0be",
   "metadata": {
    "tags": []
   },
   "source": [
    "---\n",
    "\n",
    "# Identificadores\n",
    "> **Computação - Ano 2 - Aula 3** <br>\n",
    "> © 2020-2024 ENSICO. Todos os direitos reservados"
   ]
  },
  {
   "cell_type": "markdown",
   "id": "55d93f48-c074-4788-bd95-202f32d40c6b",
   "metadata": {},
   "source": [
    "---\n",
    "Observa a **sequência de sequências de números** que se segue:"
   ]
  },
  {
   "cell_type": "code",
   "execution_count": 6,
   "id": "6572ad86-e48e-4c8e-94fe-7c37ccd276cf",
   "metadata": {
    "tags": []
   },
   "outputs": [
    {
     "data": {
      "text/plain": [
       "[[1,2,3],[1,2,3],[3],[1,2],[1,2,3],[],[2,3]]"
      ]
     },
     "metadata": {},
     "output_type": "display_data"
    }
   ],
   "source": [
    "[  [1,2,3]  ,  [1,2,3]  ,  [3]  ,  [1,2]  ,  [1,2,3]  ,  []  , [2,3]  ]"
   ]
  },
  {
   "cell_type": "markdown",
   "id": "f57bbf3e-e820-4c47-96cd-f205d5784f07",
   "metadata": {},
   "source": [
    "Se quisermos fazer 5 transformações a essa sequência, temos de escrevê-a 5 vezes? 🙄\n",
    "<br>Ou copiar e colar 5 vezes? 😐"
   ]
  },
  {
   "cell_type": "code",
   "execution_count": null,
   "id": "ee5b082b-06a5-4b92-a484-460eddf9081e",
   "metadata": {},
   "outputs": [],
   "source": []
  },
  {
   "cell_type": "code",
   "execution_count": null,
   "id": "627d7fda-fd0c-4d9a-9d7a-4849b54f0efe",
   "metadata": {},
   "outputs": [],
   "source": []
  },
  {
   "cell_type": "code",
   "execution_count": null,
   "id": "57f0ba4e-2087-43d4-b46b-dbe281691150",
   "metadata": {},
   "outputs": [],
   "source": []
  },
  {
   "cell_type": "code",
   "execution_count": null,
   "id": "4f6e6bfa-bfdf-4157-b971-264fd4b0ba65",
   "metadata": {},
   "outputs": [],
   "source": []
  },
  {
   "cell_type": "code",
   "execution_count": null,
   "id": "34234f27-59b0-4145-8e92-0416ade137e4",
   "metadata": {},
   "outputs": [],
   "source": []
  },
  {
   "cell_type": "markdown",
   "id": "cd870e20-d636-4c1f-ba56-9bdded287ae4",
   "metadata": {
    "tags": []
   },
   "source": [
    "Não! 😜\n",
    "\n",
    "---\n",
    "Sabias que podemos dar-lhe um nome qualquer?"
   ]
  },
  {
   "cell_type": "code",
   "execution_count": null,
   "id": "34487855-9086-4347-88d7-370330c51359",
   "metadata": {
    "tags": []
   },
   "outputs": [],
   "source": [
    "seq = [ [1,2,3] , [1,2,3] , [3] , [1,2] , [1,2,3] , [] , [2,3] ]"
   ]
  },
  {
   "cell_type": "markdown",
   "id": "6d3360e3-5905-4299-bc0a-ac3696cc3bb1",
   "metadata": {
    "tags": []
   },
   "source": [
    "Usamos o **sinal de igual** para dar o nome que queremos.\n",
    "<br>\n",
    "<br>Neste caso, demos-lhe o nome `seq`.\n",
    "<br>`seq` é um **IDENTIFICADOR** da sequência.\n",
    "<br>\n",
    "<br>\n",
    "---\n",
    "\n",
    "**Agora podemos usar esse identificador**, em vez de andarmos a copiar e colar\n",
    "<center style=\"font-family:monospace;font-size:1.25rem\">[ [1,2,3] , [1,2,3] , [3] , [1,2] , [1,2,3] , [] , [2,3] ]</center>\n",
    "em todas as caixas de código!! 😄😄🥳"
   ]
  },
  {
   "cell_type": "code",
   "execution_count": null,
   "id": "da81c7bc-20bb-4c5d-b4ef-552a5611e84a",
   "metadata": {
    "tags": []
   },
   "outputs": [],
   "source": [
    "seq |> reverse"
   ]
  },
  {
   "cell_type": "code",
   "execution_count": null,
   "id": "d457461e-928c-4569-90f3-90f0b887ef21",
   "metadata": {},
   "outputs": [],
   "source": [
    "seq |> map reverse"
   ]
  },
  {
   "cell_type": "code",
   "execution_count": null,
   "id": "54483462-84c5-46a0-b7c5-852622c3a61a",
   "metadata": {
    "tags": []
   },
   "outputs": [],
   "source": [
    "seq |> nub"
   ]
  },
  {
   "cell_type": "code",
   "execution_count": null,
   "id": "5db694bc-035b-4b92-891a-d29b727c418f",
   "metadata": {
    "tags": []
   },
   "outputs": [],
   "source": [
    "seq |> length"
   ]
  },
  {
   "cell_type": "code",
   "execution_count": null,
   "id": "e6ddf795-9227-4087-9100-99417643414f",
   "metadata": {},
   "outputs": [],
   "source": [
    "seq |> map length"
   ]
  },
  {
   "cell_type": "code",
   "execution_count": null,
   "id": "bc03cc9c-d0d4-4626-ab90-cb42a70abd3c",
   "metadata": {},
   "outputs": [],
   "source": [
    "seq |> sum"
   ]
  },
  {
   "cell_type": "code",
   "execution_count": null,
   "id": "a1053f23-38c8-4da5-8440-cec3671868cd",
   "metadata": {},
   "outputs": [],
   "source": [
    "seq |> map sum"
   ]
  },
  {
   "cell_type": "markdown",
   "id": "358298af-4ee5-46f1-8d77-1fda68d6bea0",
   "metadata": {},
   "source": [
    "## Outro exemplo"
   ]
  },
  {
   "cell_type": "code",
   "execution_count": null,
   "id": "fea31aad-e5c0-49dc-beb8-6a7e976c0e99",
   "metadata": {
    "tags": []
   },
   "outputs": [
    {
     "data": {
      "text/plain": [
       "\"Que grande string!\""
      ]
     },
     "metadata": {},
     "output_type": "display_data"
    }
   ],
   "source": [
    "\"Que grande string!\""
   ]
  },
  {
   "cell_type": "markdown",
   "id": "8f038c04-bc82-4e4c-9dbc-1fed80fc50b5",
   "metadata": {},
   "source": [
    "Podemos chamar `frase` à *string* e fazer transformações."
   ]
  },
  {
   "cell_type": "code",
   "execution_count": null,
   "id": "d52725bd-b90c-45c2-9533-14118b9a1ad1",
   "metadata": {
    "tags": []
   },
   "outputs": [],
   "source": [
    "frase = \"Que grande string!\""
   ]
  },
  {
   "cell_type": "code",
   "execution_count": null,
   "id": "ced6d9b0-05e2-4e04-96e4-46b49f73f905",
   "metadata": {},
   "outputs": [],
   "source": [
    "frase |> sort"
   ]
  },
  {
   "cell_type": "markdown",
   "id": "ed0aa897-23c8-4e88-96e0-2fdc1fceb974",
   "metadata": {},
   "source": [
    "## Exemplo com números"
   ]
  },
  {
   "cell_type": "code",
   "execution_count": 5,
   "id": "afa32705-ee63-41dc-a219-67db67408575",
   "metadata": {
    "tags": []
   },
   "outputs": [],
   "source": [
    "omeunumero = 17"
   ]
  },
  {
   "cell_type": "code",
   "execution_count": null,
   "id": "fd908b79-719e-442f-893a-4b3ed2d9329c",
   "metadata": {},
   "outputs": [],
   "source": [
    "omeunumero |> (+3)"
   ]
  },
  {
   "cell_type": "code",
   "execution_count": null,
   "id": "c1944911-c9f8-411c-a5d1-6c63eff46997",
   "metadata": {},
   "outputs": [],
   "source": [
    "omeunumero |> (*2)"
   ]
  },
  {
   "cell_type": "markdown",
   "id": "6216996f-5428-4f00-a62d-772562c39241",
   "metadata": {},
   "source": [
    "## Exercício"
   ]
  },
  {
   "cell_type": "code",
   "execution_count": null,
   "id": "42e99757-fbc6-4047-9ce2-463e25bc7811",
   "metadata": {
    "tags": []
   },
   "outputs": [],
   "source": [
    "texto = \"Rafael Leão é um futebolista português. Descendente de angolanos, nasceu em 1999 em Almada com o nome completo Rafael Alexandre Conceição Leão. Ingressou no Sporting CP aos 9 anos de idade após um breve período no Amora. Em 2017, ainda jovem, estreou-se na equipa sénior do Sporting contra o Braga B, entrando como substituto no segundo tempo e marcando no empate por 1 a 1. Por decisão do técnico Jorge Jesus, Leão jogou pela primeira vez na Primeira Liga em 2018, substituindo Bryan Ruiz nos últimos 21 minutos da vitória em casa por 2-0 sobre o Feirense. No dia 2 de março, tornou-se no mais jovem jogador do Sporting a marcar contra o FC Porto. Em junho do mesmo ano, Rafael Leão rescindiu o seu contrato com o Sporting, após o ataque de Alcochete, e mudou-se para o clube francês Lille, por uma época. Em agosto de 2019, ele assinou um contrato de cinco anos no Milan onde ainda joga atualmente. Pela seleção nacional portuguesa, participou em 18 jogos e marcou 3 golos.\""
   ]
  },
  {
   "cell_type": "markdown",
   "id": "8b2c77ae-86c1-440b-8bce-460dc0e7a06c",
   "metadata": {},
   "source": [
    "**Quantos caracteres** tem este texto?"
   ]
  },
  {
   "cell_type": "code",
   "execution_count": null,
   "id": "dcf9c2e9-4da7-4d39-9a07-ae95c48c2425",
   "metadata": {},
   "outputs": [],
   "source": []
  },
  {
   "cell_type": "markdown",
   "id": "ff67926c-78a5-4abb-b3f5-812ebeae114a",
   "metadata": {},
   "source": [
    "**Quantas palavras** tem este texto?"
   ]
  },
  {
   "cell_type": "code",
   "execution_count": null,
   "id": "e9b8c63d-2a1d-43b6-b536-636d8c1420af",
   "metadata": {},
   "outputs": [],
   "source": []
  }
 ],
 "metadata": {
  "kernelspec": {
   "display_name": "Haskell",
   "language": "haskell",
   "name": "haskell"
  },
  "language_info": {
   "codemirror_mode": "ihaskell",
   "file_extension": ".hs",
   "mimetype": "text/x-haskell",
   "name": "haskell",
   "pygments_lexer": "Haskell",
   "version": "9.4.5"
  }
 },
 "nbformat": 4,
 "nbformat_minor": 5
}
