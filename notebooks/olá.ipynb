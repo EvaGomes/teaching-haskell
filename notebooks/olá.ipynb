{
 "cells": [
  {
   "cell_type": "markdown",
   "id": "0ba2c41a-8320-42d4-bc37-5a870c1f314f",
   "metadata": {
    "deletable": false,
    "editable": false,
    "tags": []
   },
   "source": [
    "© <b>2020-2024 ENSICO.</b> Todos os direitos reservados. <img src=\"../assets/copyright-icons.png\" style=\"max-height:2em\" />"
   ]
  },
  {
   "cell_type": "markdown",
   "id": "0d8f6333-7aae-4bf6-82c4-c9649b9f1402",
   "metadata": {
    "deletable": false,
    "editable": false,
    "tags": []
   },
   "source": [
    "<hr>\n",
    "<br><span style=\"font-size:2rem;\">Olá! 😁</span>\n",
    "<div style=\"background:#3859ff; color:white; font-size:2rem; padding:1rem; margin:1rem 0;\">\n",
    "    Bem-vindo ao Jupyter da ENSICO!\n",
    "    <br/>\n",
    "    <b>Aqui podes experimentar programação 🤩🤩🤩</b>\n",
    "</div>\n",
    "<p style=\"text-align:right\"> Ir para o <a href=\"./ÍNDICE.ipynb\">ÍNDICE ➡➡</a> </p>\n",
    "<hr>",
    "<br>\n"
   ]
  },
  {
   "cell_type": "markdown",
   "id": "78076295",
   "metadata": {
    "deletable": false,
    "editable": false,
    "tags": []
   },
   "source": [
    "<big>Aqui em baixo está uma **caixa de código**!\n",
    "<br/>Experimenta tocar nela (vai ficar com a borda azul) e depois carregar no botão ![image.png](./assets/play.PNG) (que está na barra lá em cima).</big>"
   ]
  },
  {
   "cell_type": "code",
   "execution_count": null,
   "id": "add67378-985e-42f5-87e3-324e30cdd46f",
   "metadata": {
    "deletable": false,
    "editable": true,
    "tags": []
   },
   "outputs": [],
   "source": [
    "oMeuNome = \"PESSOA MISTERIOSA\"\n",
    "mensagem = \"Olá \" ++ oMeuNome ++ \"! 😃\\nParabéns!! Estás a executar o teu primeiro programa.\"\n",
    "putStrLn mensagem"
   ]
  },
  {
   "cell_type": "markdown",
   "id": "a389d213-ca70-422b-828b-bd230b5c5d97",
   "metadata": {
    "deletable": false,
    "editable": false,
    "tags": []
   },
   "source": [
    "<br/><big>Boa! Abaixo da caixa apareceu um resultado. O Jupyter leu as três instruções da caixa e fez o que lhe pedimos.\n",
    "<br/>Acabaste de aprender a **correr/executar um programa** no Jupyter!</big>\n",
    "\n",
    "---\n",
    "<br/>\n"
   ]
  },
  {
   "cell_type": "markdown",
   "id": "a389d213-ca70-422b-828b-bd230b5c5d98",
   "metadata": {
    "deletable": false,
    "editable": false,
    "tags": []
   },
   "source": [
    "<big>Agora, experimenta substituir `APRENDIZ` pelo teu nome na caixa abaixo e depois carrega no botão ![image.png](./assets/play.PNG).</big>"
   ]
  },
  {
   "cell_type": "code",
   "execution_count": null,
   "id": "8f06e9c0-a64e-413a-b183-6628b73d0e65",
   "metadata": {
    "deletable": false,
    "editable": true,
    "tags": []
   },
   "outputs": [
    {
     "data": {
      "text/plain": [
       "Olá APRENDIZ! 😃\n",
       "Parabéns!! Estás a executar o teu segundo programa."
      ]
     },
     "metadata": {},
     "output_type": "display_data"
    }
   ],
   "source": [
    "oMeuNome = \"APRENDIZ\"\n",
    "mensagem = \"Olá \" ++ oMeuNome ++ \"! 😃\\nParabéns!! Estás a executar o teu segundo programa.\"\n",
    "putStrLn mensagem"
   ]
  },
  {
   "cell_type": "markdown",
   "id": "47fb9f72-7974-4f29-90cb-b865a335025d",
   "metadata": {
    "deletable": false,
    "editable": false,
    "tags": []
   },
   "source": [
    "<br/>\n",
    "<big>Espetáculo! Agora também já sabes que podes <b>alterar os programas</b>!</big>",
    "<hr>\n",
    "<br><br>\n"
   ]
  },
  {
   "cell_type": "markdown",
   "id": "2f63be0b-e46c-4def-8e75-953f03b4a5a0",
   "metadata": {
    "deletable": false,
    "editable": false,
    "tags": []
   },
   "source": [
    "<p style=\"font-size:2rem;text-align:right\"> Ir para o <a href=\"./ÍNDICE.ipynb\">ÍNDICE ➡➡</a> </p>"
   ]
  }
 ],
 "metadata": {
  "kernelspec": {
   "display_name": "Haskell",
   "language": "haskell",
   "name": "haskell"
  },
  "language_info": {
   "codemirror_mode": "ihaskell",
   "file_extension": ".hs",
   "mimetype": "text/x-haskell",
   "name": "haskell",
   "pygments_lexer": "Haskell",
   "version": "9.4.5"
  }
 },
 "nbformat": 4,
 "nbformat_minor": 5
}
