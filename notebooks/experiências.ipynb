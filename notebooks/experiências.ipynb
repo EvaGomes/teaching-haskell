{
  "cells": [
    {
      "cell_type": "markdown",
      "id": "0ba2c41a-8320-42d4-bc37-5a870c1f314f",
      "metadata": {
        "deletable": false,
        "editable": false,
        "tags": []
      },
      "source": [
        "© <b>2020-2024 ENSICO.</b> Todos os direitos reservados. <img src=\"../assets/copyright-icons.png\" style=\"max-height:2em\" />"
      ]
    },
    {
      "cell_type": "markdown",
      "id": "79470f58-522a-42cc-857d-3a7e4674c3f7",
      "metadata": {
        "deletable": false,
        "editable": false,
        "tags": []
      },
      "source": [
        "<hr>\n",
        "<span style=\"color:darkblue\"> ⚠️ <b>IMPORTANTE</b></span>: <b>CORRE A CAIXA DE CÓDIGO SEGUINTE</b> antes de começares as tuas experiências!\n",
        "<br><span style=\"color:gray\">(Para isso, clica na caixa e depois carrega no botão <img src=\"../assets/play.PNG\" /> que está na barra acima).</span>"
      ]
    },
    {
      "cell_type": "code",
      "execution_count": null,
      "id": "f6e5fed9-6668-4155-a1d6-b367c0b542df",
      "metadata": {
        "deletable": false,
        "editable": false,
        "tags": []
      },
      "outputs": [],
      "source": [
        "import Prelude()\n",
        ":opt no-lint\n",
        ":l scripts/ensico.hs\n",
        "done"
      ]
    },
    {
      "cell_type": "markdown",
      "id": "79470f58-522a-42cc-857d-3a7e4674c3f5",
      "metadata": {
        "deletable": false,
        "editable": false,
        "tags": []
      },
      "source": [
        "<hr>\n"
      ]
    },
    {
      "cell_type": "markdown",
      "id": "6f6bfade-26b6-4b19-81e3-ef1e6bce2c09",
      "metadata": {
        "deletable": false,
        "editable": false,
        "tags": []
      },
      "source": [
        "# As minhas experiências"
      ]
    },
    {
      "cell_type": "code",
      "execution_count": null,
      "id": "34fa97e2-c3fb-405a-8f32-52f61f6c261e",
      "metadata": {},
      "outputs": [],
      "source": []
    },
    {
      "cell_type": "code",
      "execution_count": null,
      "id": "37dbf3a5-9aeb-415b-afe4-734a3eb9d09c",
      "metadata": {},
      "outputs": [],
      "source": []
    },
    {
      "cell_type": "code",
      "execution_count": null,
      "id": "e614b19b-6a3e-4260-86ff-bdc8a00480b5",
      "metadata": {},
      "outputs": [],
      "source": []
    },
    {
      "cell_type": "code",
      "execution_count": null,
      "id": "d89f82b5-be8e-4a7f-a21a-d1f0f7b0409f",
      "metadata": {},
      "outputs": [],
      "source": []
    },
    {
      "cell_type": "code",
      "execution_count": null,
      "id": "5e7cb421-32c4-4169-aad1-11cbf6b312ee",
      "metadata": {},
      "outputs": [],
      "source": []
    },
    {
      "cell_type": "code",
      "execution_count": null,
      "id": "8063fafa-79c8-4ce8-886c-62dba9d0a0bc",
      "metadata": {},
      "outputs": [],
      "source": []
    },
    {
      "cell_type": "code",
      "execution_count": null,
      "id": "4b2aa488-2493-4daf-8510-c8b54c316db7",
      "metadata": {},
      "outputs": [],
      "source": []
    },
    {
      "cell_type": "code",
      "execution_count": null,
      "id": "083e6e24-285f-48ee-9517-2723ab34cad4",
      "metadata": {},
      "outputs": [],
      "source": []
    },
    {
      "cell_type": "code",
      "execution_count": null,
      "id": "adf450b1-0815-4022-8a15-371fe9fe0967",
      "metadata": {},
      "outputs": [],
      "source": []
    },
    {
      "cell_type": "code",
      "execution_count": null,
      "id": "3bc5d3a3-f962-4dee-bed5-1f5a1089dc8b",
      "metadata": {},
      "outputs": [],
      "source": []
    },
    {
      "cell_type": "code",
      "execution_count": null,
      "id": "2fdcad27-aeda-4789-a090-e78773aeb7b8",
      "metadata": {},
      "outputs": [],
      "source": []
    },
    {
      "cell_type": "code",
      "execution_count": null,
      "id": "0ad3f604-8d5f-41ec-8331-873db47b43df",
      "metadata": {},
      "outputs": [],
      "source": []
    },
    {
      "cell_type": "code",
      "execution_count": null,
      "id": "7d7dc4c7-4df2-46de-a547-13478eae90de",
      "metadata": {},
      "outputs": [],
      "source": []
    },
    {
      "cell_type": "code",
      "execution_count": null,
      "id": "83e9cda9-3c1c-486b-9e84-18c65c5eef56",
      "metadata": {},
      "outputs": [],
      "source": []
    },
    {
      "cell_type": "code",
      "execution_count": null,
      "id": "b21454ac-1b6b-4bdd-b40f-d26899e0a902",
      "metadata": {},
      "outputs": [],
      "source": []
    },
    {
      "cell_type": "code",
      "execution_count": null,
      "id": "8e7ab542-628b-49b4-be51-361a86b89475",
      "metadata": {},
      "outputs": [],
      "source": []
    },
    {
      "cell_type": "code",
      "execution_count": null,
      "id": "d4c8f8be-9df0-4fab-96c0-6a486679b4a7",
      "metadata": {},
      "outputs": [],
      "source": []
    },
    {
      "cell_type": "code",
      "execution_count": null,
      "id": "399d7cfa-c90d-435d-a59a-b9daaba90a7d",
      "metadata": {},
      "outputs": [],
      "source": []
    },
    {
      "cell_type": "code",
      "execution_count": null,
      "id": "5adf8a79-d168-4e91-b8e4-539d6367f9ae",
      "metadata": {},
      "outputs": [],
      "source": []
    },
    {
      "cell_type": "code",
      "execution_count": null,
      "id": "69564bd4-6812-4207-bc58-39457c4bb16e",
      "metadata": {},
      "outputs": [],
      "source": []
    },
    {
      "cell_type": "code",
      "execution_count": null,
      "id": "ddc4c0b7-3996-4aae-8079-c8840b61d6c7",
      "metadata": {},
      "outputs": [],
      "source": []
    }
  ],
  "metadata": {
    "kernelspec": {
      "display_name": "Haskell",
      "language": "haskell",
      "name": "haskell"
    },
    "language_info": {
      "codemirror_mode": "ihaskell",
      "file_extension": ".hs",
      "mimetype": "text/x-haskell",
      "name": "haskell",
      "pygments_lexer": "Haskell",
      "version": "9.4.5"
    }
  },
  "nbformat": 4,
  "nbformat_minor": 5
}
