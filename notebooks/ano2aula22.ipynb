{
 "cells": [
  {
   "cell_type": "markdown",
   "id": "73d8fbb5-5609-467d-98cf-71efb380a15d",
   "metadata": {
    "deletable": false,
    "editable": false,
    "tags": []
   },
   "source": [
    "<span style=\"color:darkblue\"> ⚠️ <b>IMPORTANTE</b></span>: <b>CORRE A CAIXA DE CÓDIGO SEGUINTE</b> antes de começares as tuas experiências!\n",
    "<br><span style=\"color:gray\">(Para isso, clica na caixa e depois carrega no botão ![image.png](./assets/play.PNG) que está na barra acima).</span>"
   ]
  },
  {
   "cell_type": "code",
   "execution_count": null,
   "id": "de792aaa-432e-4748-9735-bf3f63c90e6e",
   "metadata": {
    "deletable": false,
    "editable": false,
    "tags": []
   },
   "outputs": [],
   "source": [
    ":opt no-lint\n",
    ":l scripts/ensico.hs\n",
    "putStrLn (['F']++['e','i','t']++\"o!\")"
   ]
  },
  {
   "cell_type": "markdown",
   "id": "be4bc0d9-26de-4a7e-a117-2c280a67c0be",
   "metadata": {
    "deletable": false,
    "editable": false,
    "tags": []
   },
   "source": [
    "---\n",
    "\n",
    "# Soluções dos exercícios da Ficha 4 (2023/24)\n",
    "> **Computação - Ano 2 - Aulas 22 e 24** <br>\n",
    "> © 2020-2024 ENSICO. Todos os direitos reservados\n",
    "---\n"
   ]
  },
  {
   "cell_type": "markdown",
   "id": "fcb8ff79-a8dc-4c9a-a4ae-012f138dba88",
   "metadata": {
    "tags": []
   },
   "source": [
    "## Página 1"
   ]
  },
  {
   "cell_type": "markdown",
   "id": "dfee3fb7-b568-4f2b-b50f-894debea594d",
   "metadata": {
    "jp-MarkdownHeadingCollapsed": true,
    "tags": []
   },
   "source": [
    "### lista de números"
   ]
  },
  {
   "cell_type": "code",
   "execution_count": null,
   "id": "fdf2f054-2baf-494d-98ea-08df41c56f14",
   "metadata": {
    "tags": []
   },
   "outputs": [],
   "source": [
    "nums = [3,7,1,5]"
   ]
  },
  {
   "cell_type": "code",
   "execution_count": null,
   "id": "b15a2cb8-112c-4ef0-b6df-d503a2a3ae02",
   "metadata": {
    "tags": []
   },
   "outputs": [],
   "source": [
    "nums |> sum"
   ]
  },
  {
   "cell_type": "code",
   "execution_count": null,
   "id": "139ef2f9-12a2-4d35-9c01-0a3e009d2122",
   "metadata": {
    "tags": []
   },
   "outputs": [],
   "source": [
    "nums |> maximum"
   ]
  },
  {
   "cell_type": "code",
   "execution_count": null,
   "id": "93d393c1-74b9-4611-ae74-f5932466f0b8",
   "metadata": {
    "tags": []
   },
   "outputs": [],
   "source": [
    "nums |> sort"
   ]
  },
  {
   "cell_type": "code",
   "execution_count": null,
   "id": "f76284b1-fc59-480b-b8ea-23fbfea92008",
   "metadata": {
    "tags": []
   },
   "outputs": [],
   "source": [
    "nums |> nub"
   ]
  },
  {
   "cell_type": "code",
   "execution_count": null,
   "id": "5d55d531-d342-46dc-8623-acf1e4f03e69",
   "metadata": {
    "tags": []
   },
   "outputs": [],
   "source": [
    "nums |> reverse"
   ]
  },
  {
   "cell_type": "code",
   "execution_count": null,
   "id": "d6ed482a-0d6b-4b4a-9614-353aec2da20c",
   "metadata": {
    "tags": []
   },
   "outputs": [],
   "source": [
    "nums |> length"
   ]
  },
  {
   "cell_type": "code",
   "execution_count": null,
   "id": "88461625-01d8-4441-92db-5b1838587d31",
   "metadata": {
    "tags": []
   },
   "outputs": [],
   "source": [
    "nums |> words"
   ]
  },
  {
   "cell_type": "code",
   "execution_count": null,
   "id": "eca5c6fa-6f6a-4a57-aff3-1472d0f0c491",
   "metadata": {
    "tags": []
   },
   "outputs": [],
   "source": [
    "nums |> unwords"
   ]
  },
  {
   "cell_type": "code",
   "execution_count": null,
   "id": "5a29ed64-be69-49e0-a047-485557943f5f",
   "metadata": {
    "tags": []
   },
   "outputs": [],
   "source": [
    "nums |> (+12)"
   ]
  },
  {
   "cell_type": "code",
   "execution_count": null,
   "id": "2d2c259a-5bc0-41bc-8d23-1b428a0de152",
   "metadata": {
    "tags": []
   },
   "outputs": [],
   "source": [
    "nums |> (*3)"
   ]
  },
  {
   "cell_type": "code",
   "execution_count": null,
   "id": "9ee2ba6b-4bef-4bfc-bff5-71ae10ad60f8",
   "metadata": {
    "tags": []
   },
   "outputs": [],
   "source": [
    "nums |> fst"
   ]
  },
  {
   "cell_type": "code",
   "execution_count": null,
   "id": "3e15b1b0-2e02-4c87-bd01-702adf221bb2",
   "metadata": {
    "tags": []
   },
   "outputs": [],
   "source": [
    "nums |> snd"
   ]
  },
  {
   "cell_type": "code",
   "execution_count": null,
   "id": "2825f94f-7d6e-42c7-a7fb-a1f0adbedd96",
   "metadata": {
    "tags": []
   },
   "outputs": [],
   "source": [
    "nums |> get 0"
   ]
  },
  {
   "cell_type": "code",
   "execution_count": null,
   "id": "7c18be6e-6d8c-482a-b293-ee7b993f2b67",
   "metadata": {
    "tags": []
   },
   "outputs": [],
   "source": [
    "nums |> get 1"
   ]
  },
  {
   "cell_type": "code",
   "execution_count": null,
   "id": "1f481e80-f766-4149-817f-9e02b09425a9",
   "metadata": {
    "tags": []
   },
   "outputs": [],
   "source": [
    "nums |> get 3"
   ]
  },
  {
   "cell_type": "code",
   "execution_count": null,
   "id": "ef819510-1e85-4cfe-a94f-ddc9af5f5914",
   "metadata": {
    "tags": []
   },
   "outputs": [],
   "source": [
    "nums |> head"
   ]
  },
  {
   "cell_type": "code",
   "execution_count": null,
   "id": "b8728fdd-de42-4128-a41d-eadf9675515a",
   "metadata": {
    "tags": []
   },
   "outputs": [],
   "source": [
    "nums |> last"
   ]
  },
  {
   "cell_type": "markdown",
   "id": "6c0933af-d325-4b09-8e92-d61e285f90fb",
   "metadata": {
    "jp-MarkdownHeadingCollapsed": true,
    "tags": []
   },
   "source": [
    "### string (lista de caracteres)"
   ]
  },
  {
   "cell_type": "code",
   "execution_count": null,
   "id": "225ebeee-3d44-4bb5-9993-b7d6d3df33bf",
   "metadata": {
    "tags": []
   },
   "outputs": [
    {
     "data": {
      "text/plain": [
       "\"Mel com Sal\""
      ]
     },
     "metadata": {},
     "output_type": "display_data"
    }
   ],
   "source": [
    "\"Mel com Sal\""
   ]
  },
  {
   "cell_type": "code",
   "execution_count": null,
   "id": "6bbd8147-bab0-438d-aa49-c3ba347838e5",
   "metadata": {
    "tags": []
   },
   "outputs": [
    {
     "data": {
      "text/plain": [
       "\"Mel com Sal\""
      ]
     },
     "metadata": {},
     "output_type": "display_data"
    }
   ],
   "source": [
    "['M','e','l',' ','c','o','m',' ','S','a','l']"
   ]
  },
  {
   "cell_type": "code",
   "execution_count": null,
   "id": "3530a894-39dc-40d9-b820-2c410b9e90a3",
   "metadata": {
    "tags": []
   },
   "outputs": [],
   "source": [
    "str = \"Mel com Sal\""
   ]
  },
  {
   "cell_type": "code",
   "execution_count": null,
   "id": "5043eb52",
   "metadata": {
    "tags": []
   },
   "outputs": [],
   "source": [
    "str |> sum"
   ]
  },
  {
   "cell_type": "code",
   "execution_count": null,
   "id": "70e1d74f",
   "metadata": {
    "tags": []
   },
   "outputs": [],
   "source": [
    "str |> maximum"
   ]
  },
  {
   "cell_type": "code",
   "execution_count": null,
   "id": "16372f05",
   "metadata": {
    "tags": []
   },
   "outputs": [],
   "source": [
    "str |> sort"
   ]
  },
  {
   "cell_type": "code",
   "execution_count": null,
   "id": "a485dcb3",
   "metadata": {
    "tags": []
   },
   "outputs": [],
   "source": [
    "str |> nub"
   ]
  },
  {
   "cell_type": "code",
   "execution_count": null,
   "id": "9f114423",
   "metadata": {
    "tags": []
   },
   "outputs": [],
   "source": [
    "str |> reverse"
   ]
  },
  {
   "cell_type": "code",
   "execution_count": null,
   "id": "50e546e0",
   "metadata": {
    "tags": []
   },
   "outputs": [],
   "source": [
    "str |> length"
   ]
  },
  {
   "cell_type": "code",
   "execution_count": null,
   "id": "5de2ff0e",
   "metadata": {
    "tags": []
   },
   "outputs": [],
   "source": [
    "str |> words"
   ]
  },
  {
   "cell_type": "code",
   "execution_count": null,
   "id": "7952996d",
   "metadata": {
    "tags": []
   },
   "outputs": [],
   "source": [
    "str |> unwords"
   ]
  },
  {
   "cell_type": "code",
   "execution_count": null,
   "id": "bc62bb74",
   "metadata": {
    "tags": []
   },
   "outputs": [],
   "source": [
    "str |> (+12)"
   ]
  },
  {
   "cell_type": "code",
   "execution_count": null,
   "id": "dc3a1e33",
   "metadata": {
    "tags": []
   },
   "outputs": [],
   "source": [
    "str |> (*3)"
   ]
  },
  {
   "cell_type": "code",
   "execution_count": null,
   "id": "ea2389aa",
   "metadata": {
    "tags": []
   },
   "outputs": [],
   "source": [
    "str |> fst"
   ]
  },
  {
   "cell_type": "code",
   "execution_count": null,
   "id": "d1e060b0",
   "metadata": {
    "tags": []
   },
   "outputs": [],
   "source": [
    "str |> snd"
   ]
  },
  {
   "cell_type": "code",
   "execution_count": null,
   "id": "e02efae8-47d8-453b-ae68-3db92b1873e2",
   "metadata": {
    "tags": []
   },
   "outputs": [],
   "source": [
    "str |> get 0"
   ]
  },
  {
   "cell_type": "code",
   "execution_count": null,
   "id": "4f066f56-ab52-4b55-ab66-5fb460b5804b",
   "metadata": {
    "tags": []
   },
   "outputs": [],
   "source": [
    "str |> get 1"
   ]
  },
  {
   "cell_type": "code",
   "execution_count": null,
   "id": "19bad09b-5e72-4ef6-bc86-5fe30b951e31",
   "metadata": {
    "tags": []
   },
   "outputs": [],
   "source": [
    "str |> get 3"
   ]
  },
  {
   "cell_type": "code",
   "execution_count": null,
   "id": "2e6ddae5",
   "metadata": {
    "tags": []
   },
   "outputs": [],
   "source": [
    "str |> head"
   ]
  },
  {
   "cell_type": "code",
   "execution_count": null,
   "id": "8bf6e836",
   "metadata": {
    "tags": []
   },
   "outputs": [],
   "source": [
    "str |> last"
   ]
  },
  {
   "cell_type": "markdown",
   "id": "89d85c4f",
   "metadata": {
    "jp-MarkdownHeadingCollapsed": true,
    "tags": []
   },
   "source": [
    "### lista de strings"
   ]
  },
  {
   "cell_type": "code",
   "execution_count": null,
   "id": "5b88d11d",
   "metadata": {
    "tags": []
   },
   "outputs": [],
   "source": [
    "pals = [\"big\",\"red\",\"egg\"]"
   ]
  },
  {
   "cell_type": "code",
   "execution_count": null,
   "id": "7d631429",
   "metadata": {
    "tags": []
   },
   "outputs": [],
   "source": [
    "pals |> sum"
   ]
  },
  {
   "cell_type": "code",
   "execution_count": null,
   "id": "8314e441",
   "metadata": {
    "tags": []
   },
   "outputs": [],
   "source": [
    "pals |> maximum"
   ]
  },
  {
   "cell_type": "code",
   "execution_count": null,
   "id": "b8306ed2",
   "metadata": {
    "tags": []
   },
   "outputs": [],
   "source": [
    "pals |> sort"
   ]
  },
  {
   "cell_type": "code",
   "execution_count": null,
   "id": "1655d718",
   "metadata": {
    "tags": []
   },
   "outputs": [],
   "source": [
    "pals |> nub"
   ]
  },
  {
   "cell_type": "code",
   "execution_count": null,
   "id": "28b5f504",
   "metadata": {
    "tags": []
   },
   "outputs": [],
   "source": [
    "pals |> reverse"
   ]
  },
  {
   "cell_type": "code",
   "execution_count": null,
   "id": "90cfc218",
   "metadata": {
    "tags": []
   },
   "outputs": [],
   "source": [
    "pals |> length"
   ]
  },
  {
   "cell_type": "code",
   "execution_count": null,
   "id": "cc76213f",
   "metadata": {
    "tags": []
   },
   "outputs": [],
   "source": [
    "pals |> words"
   ]
  },
  {
   "cell_type": "code",
   "execution_count": null,
   "id": "260dbdaf",
   "metadata": {
    "tags": []
   },
   "outputs": [],
   "source": [
    "pals |> unwords"
   ]
  },
  {
   "cell_type": "code",
   "execution_count": null,
   "id": "73ab581c",
   "metadata": {
    "tags": []
   },
   "outputs": [],
   "source": [
    "pals |> (+12)"
   ]
  },
  {
   "cell_type": "code",
   "execution_count": null,
   "id": "a935f77c",
   "metadata": {
    "tags": []
   },
   "outputs": [],
   "source": [
    "pals |> (*3)"
   ]
  },
  {
   "cell_type": "code",
   "execution_count": null,
   "id": "85db8315",
   "metadata": {
    "tags": []
   },
   "outputs": [],
   "source": [
    "pals |> fst"
   ]
  },
  {
   "cell_type": "code",
   "execution_count": null,
   "id": "aef6b7cb",
   "metadata": {
    "tags": []
   },
   "outputs": [],
   "source": [
    "pals |> snd"
   ]
  },
  {
   "cell_type": "code",
   "execution_count": null,
   "id": "2faa275b-4d91-48b3-9ad4-1453a8364fb2",
   "metadata": {
    "tags": []
   },
   "outputs": [],
   "source": [
    "pals |> get 0"
   ]
  },
  {
   "cell_type": "code",
   "execution_count": null,
   "id": "92343834-b8c6-472b-8f7d-c2157ba2832c",
   "metadata": {
    "tags": []
   },
   "outputs": [],
   "source": [
    "pals |> get 1"
   ]
  },
  {
   "cell_type": "code",
   "execution_count": null,
   "id": "8de2b7cd-f73c-4adc-ae8f-b9cdb69191b4",
   "metadata": {
    "tags": []
   },
   "outputs": [],
   "source": [
    "pals |> get 3"
   ]
  },
  {
   "cell_type": "code",
   "execution_count": null,
   "id": "60ee0c9d",
   "metadata": {
    "tags": []
   },
   "outputs": [],
   "source": [
    "pals |> head"
   ]
  },
  {
   "cell_type": "code",
   "execution_count": null,
   "id": "19f3ec38",
   "metadata": {
    "tags": []
   },
   "outputs": [],
   "source": [
    "pals |> last"
   ]
  },
  {
   "cell_type": "markdown",
   "id": "4b8354a6-3f43-43b0-aacf-cddc9e65b638",
   "metadata": {
    "tags": []
   },
   "source": [
    "## Página 2"
   ]
  },
  {
   "cell_type": "markdown",
   "id": "eb15eea7-f0f7-46c7-b0a0-7ed6456638a5",
   "metadata": {
    "jp-MarkdownHeadingCollapsed": true,
    "tags": []
   },
   "source": [
    "### Coluna 1"
   ]
  },
  {
   "cell_type": "code",
   "execution_count": null,
   "id": "bcad7de0-e09c-4b02-815e-dbfc0669b4b5",
   "metadata": {
    "tags": []
   },
   "outputs": [],
   "source": [
    "52 |> (+7)"
   ]
  },
  {
   "cell_type": "code",
   "execution_count": null,
   "id": "a1e91f6b-ce1a-4ef3-802a-164820bfb726",
   "metadata": {
    "tags": []
   },
   "outputs": [],
   "source": [
    "52 |> (*2)"
   ]
  },
  {
   "cell_type": "code",
   "execution_count": null,
   "id": "2ec7a10e-1291-4701-8430-a58d50a9ca19",
   "metadata": {
    "tags": []
   },
   "outputs": [],
   "source": [
    "5 |> (+4) |> (*9)"
   ]
  },
  {
   "cell_type": "code",
   "execution_count": null,
   "id": "74ee4d23-293a-4665-bec2-3aefd3c0ca55",
   "metadata": {
    "tags": []
   },
   "outputs": [],
   "source": [
    "[4,5] ++ [1,2,3]"
   ]
  },
  {
   "cell_type": "code",
   "execution_count": null,
   "id": "94a73ada-ac81-4187-be54-3e65df7b7027",
   "metadata": {
    "tags": []
   },
   "outputs": [],
   "source": [
    "['a','b'] ++ \"c\""
   ]
  },
  {
   "cell_type": "code",
   "execution_count": null,
   "id": "5623fb54-3a98-4ef0-b3a1-e7848c94a700",
   "metadata": {
    "tags": []
   },
   "outputs": [],
   "source": [
    "\"dep\" ++ \"ois\""
   ]
  },
  {
   "cell_type": "code",
   "execution_count": null,
   "id": "339ed23f-4a81-4f69-b899-71961f46afad",
   "metadata": {
    "tags": []
   },
   "outputs": [],
   "source": [
    "[1,2,3] ++ ['a','b']"
   ]
  },
  {
   "cell_type": "code",
   "execution_count": null,
   "id": "ae4258fb-ac78-4415-9de9-dd1098b5ca7f",
   "metadata": {
    "tags": []
   },
   "outputs": [],
   "source": [
    "[1,3] # [4,2]"
   ]
  },
  {
   "cell_type": "code",
   "execution_count": null,
   "id": "0f297874-570a-4010-bb27-5451b4eaa937",
   "metadata": {
    "tags": []
   },
   "outputs": [],
   "source": [
    "[4,5] # [1,2,3]"
   ]
  },
  {
   "cell_type": "code",
   "execution_count": null,
   "id": "520c69cc-1e38-4875-80d9-01f30fdd723e",
   "metadata": {
    "tags": []
   },
   "outputs": [],
   "source": [
    "[1,2,3] # ['a','b']"
   ]
  },
  {
   "cell_type": "code",
   "execution_count": null,
   "id": "1048e2a9-e235-4621-8c36-740535c25747",
   "metadata": {
    "tags": []
   },
   "outputs": [],
   "source": [
    "(\"dez\",10) |> fst"
   ]
  },
  {
   "cell_type": "code",
   "execution_count": null,
   "id": "d34965be-957e-4a61-8a8a-91171dee7da0",
   "metadata": {
    "tags": []
   },
   "outputs": [],
   "source": [
    "(\"vai\",\"vem\") |> snd"
   ]
  },
  {
   "cell_type": "code",
   "execution_count": null,
   "id": "046e78ea-9d0d-4cb1-a406-e80a35e6e816",
   "metadata": {
    "tags": []
   },
   "outputs": [],
   "source": [
    "(\"vai\",\"vem\") |> head"
   ]
  },
  {
   "cell_type": "code",
   "execution_count": null,
   "id": "dc0a5c2a-ba02-4d2c-875d-e4099b30b937",
   "metadata": {
    "tags": []
   },
   "outputs": [],
   "source": [
    "('A','B') |> last"
   ]
  },
  {
   "cell_type": "code",
   "execution_count": null,
   "id": "29fb636e-3a25-4c57-81f8-8c4f2852ef29",
   "metadata": {
    "tags": []
   },
   "outputs": [],
   "source": [
    "((\"ABC\",\"DEF\"),6) |> fst"
   ]
  },
  {
   "cell_type": "code",
   "execution_count": null,
   "id": "522296eb-05c1-40ed-85de-9e6056141436",
   "metadata": {
    "tags": []
   },
   "outputs": [],
   "source": [
    "((\"ABC\",\"DEF\"),6) |> snd"
   ]
  },
  {
   "cell_type": "code",
   "execution_count": null,
   "id": "1fe5d339-0ebd-4f97-8d6d-136dd79e0c11",
   "metadata": {
    "tags": []
   },
   "outputs": [],
   "source": [
    "(('a','b'),76) |> fst |> fst"
   ]
  },
  {
   "cell_type": "code",
   "execution_count": null,
   "id": "aa19edf2-c8d9-48f9-9dc3-66d0b30e78e1",
   "metadata": {
    "tags": []
   },
   "outputs": [],
   "source": [
    "((802,447),5) |> fst |> snd"
   ]
  },
  {
   "cell_type": "markdown",
   "id": "6a85b2de-1e21-4ad5-9f7e-75d70b8c25d6",
   "metadata": {
    "jp-MarkdownHeadingCollapsed": true,
    "tags": []
   },
   "source": [
    "### Coluna 2"
   ]
  },
  {
   "cell_type": "code",
   "execution_count": null,
   "id": "536de68f-5414-4cc4-b30c-2df5eec5dbff",
   "metadata": {
    "tags": []
   },
   "outputs": [],
   "source": [
    "[10,9,8] |> map (*3)"
   ]
  },
  {
   "cell_type": "code",
   "execution_count": null,
   "id": "4a8c9f35-27a1-4165-a1a4-914409de3e6d",
   "metadata": {
    "tags": []
   },
   "outputs": [],
   "source": [
    "[3,1,3,2,7] |> map (+5)"
   ]
  },
  {
   "cell_type": "code",
   "execution_count": null,
   "id": "8f706bf4-7bf0-40d4-b9d8-959eac018f7c",
   "metadata": {
    "tags": []
   },
   "outputs": [],
   "source": [
    "[\"fui\",\"ao\",\"bar\"] |> map reverse"
   ]
  },
  {
   "cell_type": "code",
   "execution_count": null,
   "id": "1e025af1-8afe-4897-9440-9c9726f748f5",
   "metadata": {
    "tags": []
   },
   "outputs": [],
   "source": [
    "[\"sou\",\"de\",\"cá\"] |> map length"
   ]
  },
  {
   "cell_type": "code",
   "execution_count": null,
   "id": "4e2ede25-e3da-4a84-adc5-bad12e899135",
   "metadata": {
    "tags": []
   },
   "outputs": [],
   "source": [
    "[3,5,1] |> map (+1) |> map (*3)"
   ]
  },
  {
   "cell_type": "code",
   "execution_count": null,
   "id": "ac0e6565-6f35-4b20-8ed4-a39f7f95cd72",
   "metadata": {
    "tags": []
   },
   "outputs": [],
   "source": [
    "[ [2,3,4], [1], [1,7] ] |> map sum"
   ]
  },
  {
   "cell_type": "code",
   "execution_count": null,
   "id": "8de9a42a-e96f-42e0-9c33-c7535e4d92ee",
   "metadata": {
    "tags": []
   },
   "outputs": [],
   "source": [
    "[ [2,3,4], [1], [1,7] ] |> map sum |> sum"
   ]
  },
  {
   "cell_type": "code",
   "execution_count": null,
   "id": "c035ec9f-4566-4a2a-8de0-3e946ee0bbd7",
   "metadata": {
    "tags": []
   },
   "outputs": [],
   "source": [
    "frase = \"vou comer a pizza\""
   ]
  },
  {
   "cell_type": "code",
   "execution_count": null,
   "id": "6095bc81-21da-4836-84be-1892f3e700c7",
   "metadata": {
    "tags": []
   },
   "outputs": [],
   "source": [
    "frase |> words"
   ]
  },
  {
   "cell_type": "code",
   "execution_count": null,
   "id": "97302a97-8632-40ea-b952-ba2ff7cdf90c",
   "metadata": {
    "tags": []
   },
   "outputs": [],
   "source": [
    "frase |> words |> head"
   ]
  },
  {
   "cell_type": "code",
   "execution_count": null,
   "id": "0c1a2670-0070-4348-95a8-95082824b0bf",
   "metadata": {
    "tags": []
   },
   "outputs": [],
   "source": [
    "frase |> words |> reverse |> unwords"
   ]
  },
  {
   "cell_type": "code",
   "execution_count": null,
   "id": "c0af015a-996b-431c-ad7e-2f405c35cc70",
   "metadata": {
    "tags": []
   },
   "outputs": [],
   "source": [
    "frase |> words |> map reverse |> unwords"
   ]
  },
  {
   "cell_type": "code",
   "execution_count": null,
   "id": "c1af5747-eced-40b8-aba3-b308cf2f9225",
   "metadata": {
    "tags": []
   },
   "outputs": [],
   "source": [
    "frase |> words |> get 3"
   ]
  },
  {
   "cell_type": "code",
   "execution_count": null,
   "id": "f6fca123-6f66-4d7d-a7ec-183035f97f14",
   "metadata": {
    "tags": []
   },
   "outputs": [],
   "source": [
    "frase |> get 3"
   ]
  },
  {
   "cell_type": "code",
   "execution_count": null,
   "id": "fa4708a6-1909-47a1-a1e6-15e671f8208b",
   "metadata": {
    "tags": []
   },
   "outputs": [],
   "source": [
    "pares = [(\"Zé\",2),(\"Ana\",3),(\"Ivo\",1)]"
   ]
  },
  {
   "cell_type": "code",
   "execution_count": null,
   "id": "34b39f9e-93a4-41fb-b138-f4dfe88f8d01",
   "metadata": {
    "tags": []
   },
   "outputs": [],
   "source": [
    "pares |> map fst"
   ]
  },
  {
   "cell_type": "code",
   "execution_count": null,
   "id": "50ed752a-863b-4354-8d83-593329a742f5",
   "metadata": {
    "tags": []
   },
   "outputs": [],
   "source": [
    "pares |> map snd |> last"
   ]
  },
  {
   "cell_type": "code",
   "execution_count": null,
   "id": "7d1ce92e-41e1-4e75-a62c-02039d4eeccd",
   "metadata": {
    "tags": []
   },
   "outputs": [],
   "source": [
    "pares |> head |> snd"
   ]
  },
  {
   "cell_type": "code",
   "execution_count": null,
   "id": "03166495-a154-4eac-86bc-a158d61a0918",
   "metadata": {
    "tags": []
   },
   "outputs": [],
   "source": [
    "pares |> get 0 |> fst"
   ]
  }
 ],
 "metadata": {
  "kernelspec": {
   "display_name": "Haskell",
   "language": "haskell",
   "name": "haskell"
  },
  "language_info": {
   "codemirror_mode": "ihaskell",
   "file_extension": ".hs",
   "mimetype": "text/x-haskell",
   "name": "haskell",
   "pygments_lexer": "Haskell",
   "version": "9.4.5"
  }
 },
 "nbformat": 4,
 "nbformat_minor": 5
}
