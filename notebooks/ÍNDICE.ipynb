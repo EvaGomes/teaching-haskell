{
 "cells": [
  {
   "cell_type": "markdown",
   "id": "0ba2c41a-8320-42d4-bc37-5a870c1f314f",
   "metadata": {
    "deletable": false,
    "editable": false,
    "tags": []
   },
   "source": [
    "© <b>2020-2024 ENSICO.</b> Todos os direitos reservados. <img src=\"../assets/copyright-icons.png\" style=\"max-height:2em\" />"
   ]
  },
  {
   "cell_type": "markdown",
   "id": "0d8f6333-7aae-4bf6-82c4-c9649b9f1402",
   "metadata": {
    "deletable": false,
    "editable": false,
    "tags": []
   },
   "source": [
    "<div style=\"background:#3859ff; border:3px solid black; color:white; padding:3rem 1rem 1rem; margin-top:1rem; text-align:center;\">\n",
    "    <span style=\"font-size:2.25em; font-weight:bolder\">👨‍💻💻 COMPUTAÇÃO 👾👩‍💻</span>\n",
    "    <br/><span>Jupyter da ENSICO</span>\n",
    "</div>"
   ]
  },
  {
   "cell_type": "markdown",
   "id": "2f63be0b-e46c-4def-8e75-953f03b4a5a0",
   "metadata": {
    "deletable": false,
    "editable": false,
    "tags": []
   },
   "source": [
    "Ir para...\n",
    "\n",
    "- a página de [boas-vindas](./olá.ipynb)\n",
    "- a página para fazer [experiências](./experiências.ipynb)\n",
    "\n",
    "## Ano 1\n",
    "- a [Aula 22 - Listas numéricas e transformações (parte 1)](./ano1aula22.ipynb)\n",
    "- a [Aula 23 - Listas numéricas e transformações (parte 2)](./ano1aula23.ipynb)\n",
    "\n",
    "## Ano 2\n",
    "- a [Aula 4 - Transformações sobre Números e Transformação `map`](./ano2aula04.ipynb)"
   ]
  }
 ],
 "metadata": {
  "kernelspec": {
   "display_name": "Haskell",
   "language": "haskell",
   "name": "haskell"
  },
  "language_info": {
   "codemirror_mode": "ihaskell",
   "file_extension": ".hs",
   "mimetype": "text/x-haskell",
   "name": "haskell",
   "pygments_lexer": "Haskell",
   "version": "9.6.4"
  }
 },
 "nbformat": 4,
 "nbformat_minor": 5
}
