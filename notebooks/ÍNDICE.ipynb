{
 "cells": [
  {
   "cell_type": "markdown",
   "id": "0ba2c41a-8320-42d4-bc37-5a870c1f314f",
   "metadata": {
    "deletable": false,
    "editable": false,
    "tags": []
   },
   "source": [
    "© 2020-2024 ENSICO. Todos os direitos reservados\n",
    "<hr>"
   ]
  },
  {
   "cell_type": "markdown",
   "id": "0d8f6333-7aae-4bf6-82c4-c9649b9f1402",
   "metadata": {
    "deletable": false,
    "editable": false,
    "tags": []
   },
   "source": [
    "<div style=\"background:#3859ff; color:white; padding:2rem 1rem 1rem; margin-top:1rem; text-align:center;\">\n",
    "    <span style=\"font-size:2.25rem;\">💻 Computação 👾</span>\n",
    "    <br/><span>Jupyter da ENSICO</span>\n",
    "</div>"
   ]
  },
  {
   "cell_type": "markdown",
   "id": "2f63be0b-e46c-4def-8e75-953f03b4a5a0",
   "metadata": {
    "deletable": false,
    "editable": false,
    "tags": []
   },
   "source": [
    "Ir para...\n",
    "\n",
    "## Ano 1\n",
    "- a [Aula 17 - Sequências Numéricas e transformações (parte 1)](./aula17.ipynb)\n",
    "- a [Aula 18 - Sequências Numéricas e transformações (parte 2)](./aula18.ipynb)\n",
    "- a [Aula 23 - Sequências de Caracteres e transformações](./aula23.ipynb)\n",
    "- a [Aula 24 - Sequências de Palavras e transformações](./aula24.ipynb)\n",
    "- a [Aula 26 - Transformação map](./aula26.ipynb)\n",
    "\n",
    "## Ano 2\n",
    "- a [Aula 3 - Identificadores](./ano2aula3.ipynb)\n",
    "- as soluções dos exercícios da [Aula 4](./ano2aula4-sol.ipynb)\n",
    "- a [Aula 5 - Junção de Listas](./ano2aula5.ipynb)\n",
    "\n",
    "## As tuas experiências\n",
    "- a página para fazer [experiências](./experiencias.ipynb)"
   ]
  }
 ],
 "metadata": {
  "kernelspec": {
   "display_name": "Haskell",
   "language": "haskell",
   "name": "haskell"
  },
  "language_info": {
   "codemirror_mode": "ihaskell",
   "file_extension": ".hs",
   "mimetype": "text/x-haskell",
   "name": "haskell",
   "pygments_lexer": "Haskell",
   "version": "9.4.5"
  }
 },
 "nbformat": 4,
 "nbformat_minor": 5
}
